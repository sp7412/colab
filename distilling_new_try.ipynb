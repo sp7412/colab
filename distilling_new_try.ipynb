{
  "nbformat": 4,
  "nbformat_minor": 0,
  "metadata": {
    "colab": {
      "name": "distilling_new_try.ipynb",
      "provenance": [],
      "collapsed_sections": [],
      "authorship_tag": "ABX9TyPjfioj/JdXwEAUE1extRq7",
      "include_colab_link": true
    },
    "kernelspec": {
      "name": "python3",
      "display_name": "Python 3"
    },
    "accelerator": "GPU"
  },
  "cells": [
    {
      "cell_type": "markdown",
      "metadata": {
        "id": "view-in-github",
        "colab_type": "text"
      },
      "source": [
        "<a href=\"https://colab.research.google.com/github/sp7412/colab/blob/master/distilling_new_try.ipynb\" target=\"_parent\"><img src=\"https://colab.research.google.com/assets/colab-badge.svg\" alt=\"Open In Colab\"/></a>"
      ]
    },
    {
      "cell_type": "markdown",
      "metadata": {
        "id": "rbF22nnxjqck",
        "colab_type": "text"
      },
      "source": [
        "from https://github.com/myatthuhein97/knowledge_distillation_tensorflow"
      ]
    },
    {
      "cell_type": "code",
      "metadata": {
        "id": "psTsLFaIwEv0",
        "colab_type": "code",
        "colab": {}
      },
      "source": [
        "from pathlib import Path\n",
        "import numpy as np\n",
        "import matplotlib.pyplot as plt\n",
        "import tensorflow as tf\n",
        "from tensorflow.keras import datasets"
      ],
      "execution_count": null,
      "outputs": []
    },
    {
      "cell_type": "code",
      "metadata": {
        "id": "ZcTMqi-Wx6yf",
        "colab_type": "code",
        "colab": {
          "base_uri": "https://localhost:8080/",
          "height": 381
        },
        "outputId": "ebc54fac-28a3-4f67-b0eb-92c0c87223aa"
      },
      "source": [
        "!nvidia-smi"
      ],
      "execution_count": null,
      "outputs": [
        {
          "output_type": "stream",
          "text": [
            "Wed Aug  5 23:27:34 2020       \n",
            "+-----------------------------------------------------------------------------+\n",
            "| NVIDIA-SMI 450.57       Driver Version: 418.67       CUDA Version: 10.1     |\n",
            "|-------------------------------+----------------------+----------------------+\n",
            "| GPU  Name        Persistence-M| Bus-Id        Disp.A | Volatile Uncorr. ECC |\n",
            "| Fan  Temp  Perf  Pwr:Usage/Cap|         Memory-Usage | GPU-Util  Compute M. |\n",
            "|                               |                      |               MIG M. |\n",
            "|===============================+======================+======================|\n",
            "|   0  Tesla T4            Off  | 00000000:00:04.0 Off |                    0 |\n",
            "| N/A   73C    P0    33W /  70W |  14575MiB / 15079MiB |      0%      Default |\n",
            "|                               |                      |                 ERR! |\n",
            "+-------------------------------+----------------------+----------------------+\n",
            "                                                                               \n",
            "+-----------------------------------------------------------------------------+\n",
            "| Processes:                                                                  |\n",
            "|  GPU   GI   CI        PID   Type   Process name                  GPU Memory |\n",
            "|        ID   ID                                                   Usage      |\n",
            "|=============================================================================|\n",
            "|  No running processes found                                                 |\n",
            "+-----------------------------------------------------------------------------+\n"
          ],
          "name": "stdout"
        }
      ]
    },
    {
      "cell_type": "code",
      "metadata": {
        "id": "9XVLLe_AwHty",
        "colab_type": "code",
        "colab": {}
      },
      "source": [
        "SEED = 888\n",
        "EPOCH = 10\n",
        "BATCH_SIZE = 256\n",
        "VAL_FREQUENCY = 10"
      ],
      "execution_count": null,
      "outputs": []
    },
    {
      "cell_type": "code",
      "metadata": {
        "id": "hHMjyAFJwLAZ",
        "colab_type": "code",
        "colab": {}
      },
      "source": [
        ""
      ],
      "execution_count": null,
      "outputs": []
    },
    {
      "cell_type": "code",
      "metadata": {
        "id": "2Sy_qnblwLG3",
        "colab_type": "code",
        "colab": {
          "base_uri": "https://localhost:8080/",
          "height": 54
        },
        "outputId": "6bd4a635-9f6d-44fe-b23d-b1840af065c9"
      },
      "source": [
        "(train_images, train_labels), (test_images,\n",
        "                                test_labels) = datasets.cifar10.load_data()\n",
        "# Normalize pixel values to be between 0 and 1\n",
        "\n",
        "train_images, test_images = train_images / 255.0, test_images / 255.0\n",
        "class_names = ['airplane', 'automobile', 'bird', 'cat', 'deer',\n",
        "                'dog', 'frog', 'horse', 'ship', 'truck']\n",
        "\n",
        "train_ds = tf.data.Dataset.from_tensor_slices((train_images,train_labels))\n",
        "train_ds = train_ds.shuffle(10000, seed=SEED)\n",
        "train_ds = train_ds.batch(BATCH_SIZE).prefetch(tf.data.experimental.AUTOTUNE)\n",
        "\n",
        "test_ds = tf.data.Dataset.from_tensor_slices((test_images,test_labels))\n",
        "test_ds = test_ds.batch(BATCH_SIZE).prefetch(tf.data.experimental.AUTOTUNE)"
      ],
      "execution_count": null,
      "outputs": [
        {
          "output_type": "stream",
          "text": [
            "Downloading data from https://www.cs.toronto.edu/~kriz/cifar-10-python.tar.gz\n",
            "170500096/170498071 [==============================] - 13s 0us/step\n"
          ],
          "name": "stdout"
        }
      ]
    },
    {
      "cell_type": "code",
      "metadata": {
        "id": "77LHHuuswYgL",
        "colab_type": "code",
        "colab": {}
      },
      "source": [
        ""
      ],
      "execution_count": null,
      "outputs": []
    },
    {
      "cell_type": "code",
      "metadata": {
        "id": "TFdGO1ukwYjP",
        "colab_type": "code",
        "colab": {}
      },
      "source": [
        ""
      ],
      "execution_count": null,
      "outputs": []
    },
    {
      "cell_type": "code",
      "metadata": {
        "id": "bMKAN-yewYnM",
        "colab_type": "code",
        "colab": {}
      },
      "source": [
        "from tensorflow.keras import Model, Sequential\n",
        "from tensorflow.keras.layers import (AvgPool2D, BatchNormalization, Conv2D,\n",
        "                                     Dense, DepthwiseConv2D, Dropout, Flatten,\n",
        "                                     Input, MaxPooling2D, ReLU, Softmax)\n",
        "\n",
        "\n",
        "def vgg_3blocks():\n",
        "\n",
        "    model = Sequential()\n",
        "    model.add(Conv2D(32, (3, 3), activation='relu',\n",
        "                     kernel_initializer='he_uniform', padding='same', input_shape=(32, 32, 3)))\n",
        "    model.add(BatchNormalization())\n",
        "    model.add(Conv2D(32, (3, 3), activation='relu',\n",
        "                     kernel_initializer='he_uniform', padding='same'))\n",
        "    model.add(BatchNormalization())\n",
        "    model.add(MaxPooling2D((2, 2)))\n",
        "    model.add(Dropout(0.2))\n",
        "    model.add(Conv2D(64, (3, 3), activation='relu',\n",
        "                     kernel_initializer='he_uniform', padding='same'))\n",
        "    model.add(BatchNormalization())\n",
        "    model.add(Conv2D(64, (3, 3), activation='relu',\n",
        "                     kernel_initializer='he_uniform', padding='same'))\n",
        "    model.add(BatchNormalization())\n",
        "    model.add(MaxPooling2D((2, 2)))\n",
        "    model.add(Dropout(0.3))\n",
        "    model.add(Conv2D(128, (3, 3), activation='relu',\n",
        "                     kernel_initializer='he_uniform', padding='same'))\n",
        "    model.add(BatchNormalization())\n",
        "    model.add(Conv2D(128, (3, 3), activation='relu',\n",
        "                     kernel_initializer='he_uniform', padding='same'))\n",
        "    model.add(BatchNormalization())\n",
        "    model.add(MaxPooling2D((2, 2)))\n",
        "    model.add(Dropout(0.4))\n",
        "    model.add(Flatten())\n",
        "    model.add(Dense(128, activation='relu', kernel_initializer='he_uniform'))\n",
        "    model.add(BatchNormalization())\n",
        "    model.add(Dropout(0.5))\n",
        "    model.add(Dense(10, name='logits'))\n",
        "    model.summary()\n",
        "\n",
        "    return model\n",
        "\n",
        "\n",
        "def vgg_4blocks():\n",
        "\n",
        "    model = Sequential()\n",
        "    model.add(Conv2D(32, (3, 3), activation='relu',\n",
        "                     kernel_initializer='he_uniform', padding='same', input_shape=(32, 32, 3)))\n",
        "    model.add(BatchNormalization())\n",
        "    model.add(Conv2D(32, (3, 3), activation='relu',\n",
        "                     kernel_initializer='he_uniform', padding='same'))\n",
        "    model.add(BatchNormalization())\n",
        "    model.add(MaxPooling2D((2, 2)))\n",
        "    model.add(Dropout(0.2))\n",
        "    model.add(Conv2D(64, (3, 3), activation='relu',\n",
        "                     kernel_initializer='he_uniform', padding='same'))\n",
        "    model.add(BatchNormalization())\n",
        "    model.add(Conv2D(64, (3, 3), activation='relu',\n",
        "                     kernel_initializer='he_uniform', padding='same'))\n",
        "    model.add(BatchNormalization())\n",
        "    model.add(MaxPooling2D((2, 2)))\n",
        "    model.add(Dropout(0.4))\n",
        "    model.add(Conv2D(128, (3, 3), activation='relu',\n",
        "                     kernel_initializer='he_uniform', padding='same'))\n",
        "    model.add(BatchNormalization())\n",
        "    model.add(Conv2D(128, (3, 3), activation='relu',\n",
        "                     kernel_initializer='he_uniform', padding='same'))\n",
        "    model.add(BatchNormalization())\n",
        "    model.add(MaxPooling2D((2, 2)))\n",
        "    model.add(Dropout(0.5))\n",
        "    model.add(Conv2D(256, (3, 3), activation='relu',\n",
        "                     kernel_initializer='he_uniform', padding='same'))\n",
        "    model.add(BatchNormalization())\n",
        "    model.add(Conv2D(256, (3, 3), activation='relu',\n",
        "                     kernel_initializer='he_uniform', padding='same'))\n",
        "    model.add(BatchNormalization())\n",
        "    model.add(MaxPooling2D((2, 2)))\n",
        "    model.add(Dropout(0.5))\n",
        "    model.add(Flatten())\n",
        "    model.add(Dense(128, activation='relu', kernel_initializer='he_uniform'))\n",
        "    model.add(BatchNormalization())\n",
        "    model.add(Dropout(0.4))\n",
        "    model.add(Dense(10, name='logits'))\n",
        "    model.summary()\n",
        "\n",
        "    return model\n",
        "\n",
        "\n",
        "def vgg_2blocks():\n",
        "\n",
        "    model = Sequential()\n",
        "    model.add(Conv2D(32, (3, 3), activation='relu',\n",
        "                     kernel_initializer='he_uniform', padding='same', input_shape=(32, 32, 3)))\n",
        "    model.add(BatchNormalization())\n",
        "    model.add(Conv2D(32, (3, 3), activation='relu',\n",
        "                     kernel_initializer='he_uniform', padding='same'))\n",
        "    model.add(BatchNormalization())\n",
        "    model.add(MaxPooling2D((2, 2)))\n",
        "    model.add(Dropout(0.2))\n",
        "    model.add(Conv2D(64, (3, 3), activation='relu',\n",
        "                     kernel_initializer='he_uniform', padding='same'))\n",
        "    model.add(BatchNormalization())\n",
        "    model.add(Conv2D(64, (3, 3), activation='relu',\n",
        "                     kernel_initializer='he_uniform', padding='same'))\n",
        "    model.add(BatchNormalization())\n",
        "    model.add(MaxPooling2D((2, 2)))\n",
        "    model.add(Dropout(0.4))\n",
        "    model.add(Flatten())\n",
        "    model.add(Dense(128, activation='relu', kernel_initializer='he_uniform'))\n",
        "    model.add(BatchNormalization())\n",
        "    model.add(Dropout(0.4))\n",
        "    model.add(Dense(10, name='logits'))\n",
        "    model.summary()\n",
        "\n",
        "    return model\n",
        "\n",
        "\n",
        "def mobilenet_block(x, filters, strides):\n",
        "\n",
        "    x = DepthwiseConv2D(kernel_size=3, strides=strides, padding='same')(x)\n",
        "    x = BatchNormalization()(x)\n",
        "    x = ReLU()(x)\n",
        "\n",
        "    x = Conv2D(filters=filters, kernel_size=1, strides=1)(x)\n",
        "    x = BatchNormalization()(x)\n",
        "    x = ReLU()(x)\n",
        "\n",
        "    return x\n",
        "\n",
        "\n",
        "def mobilenet():\n",
        "\n",
        "    input = Input(shape=(32, 32, 3))\n",
        "    x = Conv2D(filters=32, kernel_size=3, padding='same')(input)\n",
        "    x = BatchNormalization()(x)\n",
        "    x = ReLU()(x)\n",
        "\n",
        "    x = mobilenet_block(x, filters=64, strides=1)\n",
        "\n",
        "    x = mobilenet_block(x, filters=128, strides=2)\n",
        "    x = mobilenet_block(x, filters=128, strides=1)\n",
        "\n",
        "    x = mobilenet_block(x, filters=256, strides=2)\n",
        "    x = mobilenet_block(x, filters=256, strides=1)\n",
        "\n",
        "    x = mobilenet_block(x, filters=512, strides=2)\n",
        "\n",
        "    for _ in range(5):\n",
        "        x = mobilenet_block(x, filters=512, strides=1)\n",
        "\n",
        "    x = mobilenet_block(x, filters=1024, strides=1)\n",
        "    x = mobilenet_block(x, filters=1024, strides=1)\n",
        "    x = AvgPool2D(pool_size=4, strides=1)(x)\n",
        "    x = Flatten()(x)\n",
        "    output = Dense(units=10, name='logits')(x)\n",
        "    output = Softmax()(output)\n",
        "\n",
        "    model = Model(inputs=input, outputs=output)\n",
        "    model.summary()\n",
        "\n",
        "    return model"
      ],
      "execution_count": null,
      "outputs": []
    },
    {
      "cell_type": "code",
      "metadata": {
        "id": "8_-pEbFTwLlO",
        "colab_type": "code",
        "colab": {
          "base_uri": "https://localhost:8080/",
          "height": 1000
        },
        "outputId": "a6497263-e742-42c5-c129-a7486061faf8"
      },
      "source": [
        "teacher_model = vgg_4blocks()"
      ],
      "execution_count": null,
      "outputs": [
        {
          "output_type": "stream",
          "text": [
            "Model: \"sequential_2\"\n",
            "_________________________________________________________________\n",
            "Layer (type)                 Output Shape              Param #   \n",
            "=================================================================\n",
            "conv2d_12 (Conv2D)           (None, 32, 32, 32)        896       \n",
            "_________________________________________________________________\n",
            "batch_normalization_14 (Batc (None, 32, 32, 32)        128       \n",
            "_________________________________________________________________\n",
            "conv2d_13 (Conv2D)           (None, 32, 32, 32)        9248      \n",
            "_________________________________________________________________\n",
            "batch_normalization_15 (Batc (None, 32, 32, 32)        128       \n",
            "_________________________________________________________________\n",
            "max_pooling2d_6 (MaxPooling2 (None, 16, 16, 32)        0         \n",
            "_________________________________________________________________\n",
            "dropout_8 (Dropout)          (None, 16, 16, 32)        0         \n",
            "_________________________________________________________________\n",
            "conv2d_14 (Conv2D)           (None, 16, 16, 64)        18496     \n",
            "_________________________________________________________________\n",
            "batch_normalization_16 (Batc (None, 16, 16, 64)        256       \n",
            "_________________________________________________________________\n",
            "conv2d_15 (Conv2D)           (None, 16, 16, 64)        36928     \n",
            "_________________________________________________________________\n",
            "batch_normalization_17 (Batc (None, 16, 16, 64)        256       \n",
            "_________________________________________________________________\n",
            "max_pooling2d_7 (MaxPooling2 (None, 8, 8, 64)          0         \n",
            "_________________________________________________________________\n",
            "dropout_9 (Dropout)          (None, 8, 8, 64)          0         \n",
            "_________________________________________________________________\n",
            "conv2d_16 (Conv2D)           (None, 8, 8, 128)         73856     \n",
            "_________________________________________________________________\n",
            "batch_normalization_18 (Batc (None, 8, 8, 128)         512       \n",
            "_________________________________________________________________\n",
            "conv2d_17 (Conv2D)           (None, 8, 8, 128)         147584    \n",
            "_________________________________________________________________\n",
            "batch_normalization_19 (Batc (None, 8, 8, 128)         512       \n",
            "_________________________________________________________________\n",
            "max_pooling2d_8 (MaxPooling2 (None, 4, 4, 128)         0         \n",
            "_________________________________________________________________\n",
            "dropout_10 (Dropout)         (None, 4, 4, 128)         0         \n",
            "_________________________________________________________________\n",
            "conv2d_18 (Conv2D)           (None, 4, 4, 256)         295168    \n",
            "_________________________________________________________________\n",
            "batch_normalization_20 (Batc (None, 4, 4, 256)         1024      \n",
            "_________________________________________________________________\n",
            "conv2d_19 (Conv2D)           (None, 4, 4, 256)         590080    \n",
            "_________________________________________________________________\n",
            "batch_normalization_21 (Batc (None, 4, 4, 256)         1024      \n",
            "_________________________________________________________________\n",
            "max_pooling2d_9 (MaxPooling2 (None, 2, 2, 256)         0         \n",
            "_________________________________________________________________\n",
            "dropout_11 (Dropout)         (None, 2, 2, 256)         0         \n",
            "_________________________________________________________________\n",
            "flatten_2 (Flatten)          (None, 1024)              0         \n",
            "_________________________________________________________________\n",
            "dense_2 (Dense)              (None, 128)               131200    \n",
            "_________________________________________________________________\n",
            "batch_normalization_22 (Batc (None, 128)               512       \n",
            "_________________________________________________________________\n",
            "dropout_12 (Dropout)         (None, 128)               0         \n",
            "_________________________________________________________________\n",
            "logits (Dense)               (None, 10)                1290      \n",
            "=================================================================\n",
            "Total params: 1,309,098\n",
            "Trainable params: 1,306,922\n",
            "Non-trainable params: 2,176\n",
            "_________________________________________________________________\n"
          ],
          "name": "stdout"
        }
      ]
    },
    {
      "cell_type": "code",
      "metadata": {
        "id": "gZSaqaP6winG",
        "colab_type": "code",
        "colab": {
          "base_uri": "https://localhost:8080/",
          "height": 1000
        },
        "outputId": "04fc737d-4c80-4830-9490-e6db4c596e66"
      },
      "source": [
        "EPOCH = 100\n",
        "optimizer = tf.keras.optimizers.Adam(\n",
        "    learning_rate=0.001, beta_1=0.9, beta_2=0.999, epsilon=1e-07, amsgrad=False,\n",
        "    name='Adam')\n",
        "\n",
        "teacher_model.compile(optimizer=optimizer,\n",
        "              loss=tf.keras.losses.SparseCategoricalCrossentropy(from_logits=True),\n",
        "              metrics=['accuracy'])\n",
        "\n",
        "history = teacher_model.fit(train_ds, epochs=EPOCH,validation_data=test_ds)"
      ],
      "execution_count": null,
      "outputs": [
        {
          "output_type": "stream",
          "text": [
            "Epoch 1/100\n",
            "196/196 [==============================] - 7s 37ms/step - loss: 0.0175 - accuracy: 0.9941 - val_loss: 0.6496 - val_accuracy: 0.8889\n",
            "Epoch 2/100\n",
            "196/196 [==============================] - 7s 36ms/step - loss: 0.0181 - accuracy: 0.9936 - val_loss: 0.6317 - val_accuracy: 0.8907\n",
            "Epoch 3/100\n",
            "196/196 [==============================] - 7s 36ms/step - loss: 0.0175 - accuracy: 0.9940 - val_loss: 0.6492 - val_accuracy: 0.8876\n",
            "Epoch 4/100\n",
            "196/196 [==============================] - 7s 36ms/step - loss: 0.0176 - accuracy: 0.9940 - val_loss: 0.6724 - val_accuracy: 0.8878\n",
            "Epoch 5/100\n",
            "196/196 [==============================] - 7s 36ms/step - loss: 0.0187 - accuracy: 0.9937 - val_loss: 0.6589 - val_accuracy: 0.8876\n",
            "Epoch 6/100\n",
            "196/196 [==============================] - 7s 36ms/step - loss: 0.0186 - accuracy: 0.9936 - val_loss: 0.6413 - val_accuracy: 0.8888\n",
            "Epoch 7/100\n",
            "196/196 [==============================] - 7s 36ms/step - loss: 0.0176 - accuracy: 0.9945 - val_loss: 0.6710 - val_accuracy: 0.8859\n",
            "Epoch 8/100\n",
            "196/196 [==============================] - 7s 36ms/step - loss: 0.0176 - accuracy: 0.9937 - val_loss: 0.6586 - val_accuracy: 0.8880\n",
            "Epoch 9/100\n",
            "196/196 [==============================] - 7s 36ms/step - loss: 0.0186 - accuracy: 0.9937 - val_loss: 0.6534 - val_accuracy: 0.8865\n",
            "Epoch 10/100\n",
            "196/196 [==============================] - 7s 36ms/step - loss: 0.0187 - accuracy: 0.9934 - val_loss: 0.6442 - val_accuracy: 0.8870\n",
            "Epoch 11/100\n",
            "196/196 [==============================] - 7s 36ms/step - loss: 0.0189 - accuracy: 0.9941 - val_loss: 0.6332 - val_accuracy: 0.8911\n",
            "Epoch 12/100\n",
            "196/196 [==============================] - 7s 36ms/step - loss: 0.0192 - accuracy: 0.9937 - val_loss: 0.6338 - val_accuracy: 0.8892\n",
            "Epoch 13/100\n",
            "196/196 [==============================] - 7s 36ms/step - loss: 0.0173 - accuracy: 0.9943 - val_loss: 0.6164 - val_accuracy: 0.8917\n",
            "Epoch 14/100\n",
            "196/196 [==============================] - 7s 36ms/step - loss: 0.0164 - accuracy: 0.9943 - val_loss: 0.6470 - val_accuracy: 0.8898\n",
            "Epoch 15/100\n",
            "196/196 [==============================] - 7s 36ms/step - loss: 0.0186 - accuracy: 0.9936 - val_loss: 0.6568 - val_accuracy: 0.8874\n",
            "Epoch 16/100\n",
            "196/196 [==============================] - 7s 36ms/step - loss: 0.0178 - accuracy: 0.9935 - val_loss: 0.6484 - val_accuracy: 0.8886\n",
            "Epoch 17/100\n",
            "196/196 [==============================] - 7s 36ms/step - loss: 0.0172 - accuracy: 0.9943 - val_loss: 0.6596 - val_accuracy: 0.8857\n",
            "Epoch 18/100\n",
            "196/196 [==============================] - 7s 36ms/step - loss: 0.0180 - accuracy: 0.9938 - val_loss: 0.6576 - val_accuracy: 0.8862\n",
            "Epoch 19/100\n",
            "196/196 [==============================] - 7s 36ms/step - loss: 0.0169 - accuracy: 0.9942 - val_loss: 0.6558 - val_accuracy: 0.8875\n",
            "Epoch 20/100\n",
            "196/196 [==============================] - 7s 36ms/step - loss: 0.0197 - accuracy: 0.9935 - val_loss: 0.6702 - val_accuracy: 0.8849\n",
            "Epoch 21/100\n",
            "196/196 [==============================] - 7s 36ms/step - loss: 0.0165 - accuracy: 0.9942 - val_loss: 0.6480 - val_accuracy: 0.8874\n",
            "Epoch 22/100\n",
            "196/196 [==============================] - 7s 36ms/step - loss: 0.0171 - accuracy: 0.9939 - val_loss: 0.6473 - val_accuracy: 0.8893\n",
            "Epoch 23/100\n",
            "196/196 [==============================] - 7s 36ms/step - loss: 0.0161 - accuracy: 0.9947 - val_loss: 0.6637 - val_accuracy: 0.8881\n",
            "Epoch 24/100\n",
            "196/196 [==============================] - 7s 36ms/step - loss: 0.0180 - accuracy: 0.9937 - val_loss: 0.6608 - val_accuracy: 0.8869\n",
            "Epoch 25/100\n",
            "196/196 [==============================] - 7s 36ms/step - loss: 0.0179 - accuracy: 0.9940 - val_loss: 0.6312 - val_accuracy: 0.8909\n",
            "Epoch 26/100\n",
            "196/196 [==============================] - 7s 36ms/step - loss: 0.0185 - accuracy: 0.9940 - val_loss: 0.6547 - val_accuracy: 0.8869\n",
            "Epoch 27/100\n",
            "196/196 [==============================] - 7s 36ms/step - loss: 0.0179 - accuracy: 0.9940 - val_loss: 0.6450 - val_accuracy: 0.8856\n",
            "Epoch 28/100\n",
            "196/196 [==============================] - 7s 36ms/step - loss: 0.0174 - accuracy: 0.9943 - val_loss: 0.6373 - val_accuracy: 0.8912\n",
            "Epoch 29/100\n",
            "196/196 [==============================] - 7s 36ms/step - loss: 0.0181 - accuracy: 0.9940 - val_loss: 0.6568 - val_accuracy: 0.8871\n",
            "Epoch 30/100\n",
            "196/196 [==============================] - 7s 36ms/step - loss: 0.0180 - accuracy: 0.9933 - val_loss: 0.6400 - val_accuracy: 0.8899\n",
            "Epoch 31/100\n",
            "196/196 [==============================] - 7s 36ms/step - loss: 0.0187 - accuracy: 0.9936 - val_loss: 0.6607 - val_accuracy: 0.8860\n",
            "Epoch 32/100\n",
            "196/196 [==============================] - 7s 36ms/step - loss: 0.0199 - accuracy: 0.9931 - val_loss: 0.6416 - val_accuracy: 0.8871\n",
            "Epoch 33/100\n",
            "196/196 [==============================] - 7s 36ms/step - loss: 0.0171 - accuracy: 0.9941 - val_loss: 0.6732 - val_accuracy: 0.8862\n",
            "Epoch 34/100\n",
            "196/196 [==============================] - 7s 36ms/step - loss: 0.0186 - accuracy: 0.9935 - val_loss: 0.6342 - val_accuracy: 0.8882\n",
            "Epoch 35/100\n",
            "196/196 [==============================] - 7s 36ms/step - loss: 0.0186 - accuracy: 0.9944 - val_loss: 0.6609 - val_accuracy: 0.8824\n",
            "Epoch 36/100\n",
            "196/196 [==============================] - 7s 36ms/step - loss: 0.0177 - accuracy: 0.9938 - val_loss: 0.6501 - val_accuracy: 0.8888\n",
            "Epoch 37/100\n",
            "196/196 [==============================] - 7s 36ms/step - loss: 0.0179 - accuracy: 0.9940 - val_loss: 0.6351 - val_accuracy: 0.8875\n",
            "Epoch 38/100\n",
            "196/196 [==============================] - 7s 36ms/step - loss: 0.0174 - accuracy: 0.9946 - val_loss: 0.6656 - val_accuracy: 0.8879\n",
            "Epoch 39/100\n",
            "196/196 [==============================] - 7s 36ms/step - loss: 0.0180 - accuracy: 0.9942 - val_loss: 0.6363 - val_accuracy: 0.8892\n",
            "Epoch 40/100\n",
            "196/196 [==============================] - 7s 36ms/step - loss: 0.0164 - accuracy: 0.9942 - val_loss: 0.6488 - val_accuracy: 0.8890\n",
            "Epoch 41/100\n",
            "196/196 [==============================] - 7s 36ms/step - loss: 0.0175 - accuracy: 0.9938 - val_loss: 0.6389 - val_accuracy: 0.8886\n",
            "Epoch 42/100\n",
            "196/196 [==============================] - 7s 36ms/step - loss: 0.0168 - accuracy: 0.9945 - val_loss: 0.6566 - val_accuracy: 0.8884\n",
            "Epoch 43/100\n",
            "196/196 [==============================] - 7s 36ms/step - loss: 0.0199 - accuracy: 0.9937 - val_loss: 0.6231 - val_accuracy: 0.8898\n",
            "Epoch 44/100\n",
            "196/196 [==============================] - 7s 36ms/step - loss: 0.0173 - accuracy: 0.9940 - val_loss: 0.6413 - val_accuracy: 0.8912\n",
            "Epoch 45/100\n",
            "196/196 [==============================] - 7s 36ms/step - loss: 0.0171 - accuracy: 0.9944 - val_loss: 0.6704 - val_accuracy: 0.8877\n",
            "Epoch 46/100\n",
            "196/196 [==============================] - 7s 36ms/step - loss: 0.0171 - accuracy: 0.9945 - val_loss: 0.6479 - val_accuracy: 0.8863\n",
            "Epoch 47/100\n",
            "196/196 [==============================] - 7s 36ms/step - loss: 0.0191 - accuracy: 0.9937 - val_loss: 0.6848 - val_accuracy: 0.8833\n",
            "Epoch 48/100\n",
            "196/196 [==============================] - 7s 36ms/step - loss: 0.0182 - accuracy: 0.9940 - val_loss: 0.6360 - val_accuracy: 0.8897\n",
            "Epoch 49/100\n",
            "196/196 [==============================] - 7s 36ms/step - loss: 0.0175 - accuracy: 0.9937 - val_loss: 0.6483 - val_accuracy: 0.8882\n",
            "Epoch 50/100\n",
            "196/196 [==============================] - 7s 36ms/step - loss: 0.0169 - accuracy: 0.9944 - val_loss: 0.6404 - val_accuracy: 0.8910\n",
            "Epoch 51/100\n",
            "196/196 [==============================] - 7s 36ms/step - loss: 0.0176 - accuracy: 0.9942 - val_loss: 0.6641 - val_accuracy: 0.8871\n",
            "Epoch 52/100\n",
            "196/196 [==============================] - 7s 36ms/step - loss: 0.0169 - accuracy: 0.9942 - val_loss: 0.6592 - val_accuracy: 0.8880\n",
            "Epoch 53/100\n",
            "196/196 [==============================] - 7s 36ms/step - loss: 0.0171 - accuracy: 0.9943 - val_loss: 0.6308 - val_accuracy: 0.8915\n",
            "Epoch 54/100\n",
            "196/196 [==============================] - 7s 36ms/step - loss: 0.0166 - accuracy: 0.9945 - val_loss: 0.6882 - val_accuracy: 0.8853\n",
            "Epoch 55/100\n",
            "196/196 [==============================] - 7s 36ms/step - loss: 0.0192 - accuracy: 0.9934 - val_loss: 0.6493 - val_accuracy: 0.8875\n",
            "Epoch 56/100\n",
            "196/196 [==============================] - 7s 36ms/step - loss: 0.0156 - accuracy: 0.9948 - val_loss: 0.6684 - val_accuracy: 0.8886\n",
            "Epoch 57/100\n",
            "196/196 [==============================] - 7s 36ms/step - loss: 0.0160 - accuracy: 0.9945 - val_loss: 0.6534 - val_accuracy: 0.8912\n",
            "Epoch 58/100\n",
            "196/196 [==============================] - 7s 36ms/step - loss: 0.0152 - accuracy: 0.9948 - val_loss: 0.6826 - val_accuracy: 0.8885\n",
            "Epoch 59/100\n",
            "196/196 [==============================] - 7s 36ms/step - loss: 0.0182 - accuracy: 0.9938 - val_loss: 0.6634 - val_accuracy: 0.8877\n",
            "Epoch 60/100\n",
            "196/196 [==============================] - 7s 36ms/step - loss: 0.0185 - accuracy: 0.9934 - val_loss: 0.6801 - val_accuracy: 0.8866\n",
            "Epoch 61/100\n",
            "196/196 [==============================] - 7s 36ms/step - loss: 0.0171 - accuracy: 0.9941 - val_loss: 0.6426 - val_accuracy: 0.8894\n",
            "Epoch 62/100\n",
            "196/196 [==============================] - 7s 36ms/step - loss: 0.0177 - accuracy: 0.9943 - val_loss: 0.6907 - val_accuracy: 0.8829\n",
            "Epoch 63/100\n",
            "196/196 [==============================] - 7s 36ms/step - loss: 0.0184 - accuracy: 0.9942 - val_loss: 0.6517 - val_accuracy: 0.8899\n",
            "Epoch 64/100\n",
            "196/196 [==============================] - 7s 36ms/step - loss: 0.0178 - accuracy: 0.9941 - val_loss: 0.6479 - val_accuracy: 0.8871\n",
            "Epoch 65/100\n",
            "196/196 [==============================] - 7s 36ms/step - loss: 0.0198 - accuracy: 0.9938 - val_loss: 0.6230 - val_accuracy: 0.8884\n",
            "Epoch 66/100\n",
            "196/196 [==============================] - 7s 36ms/step - loss: 0.0170 - accuracy: 0.9945 - val_loss: 0.6370 - val_accuracy: 0.8878\n",
            "Epoch 67/100\n",
            "196/196 [==============================] - 7s 36ms/step - loss: 0.0180 - accuracy: 0.9939 - val_loss: 0.6330 - val_accuracy: 0.8897\n",
            "Epoch 68/100\n",
            "196/196 [==============================] - 7s 36ms/step - loss: 0.0181 - accuracy: 0.9942 - val_loss: 0.6544 - val_accuracy: 0.8885\n",
            "Epoch 69/100\n",
            "196/196 [==============================] - 7s 36ms/step - loss: 0.0170 - accuracy: 0.9940 - val_loss: 0.6663 - val_accuracy: 0.8850\n",
            "Epoch 70/100\n",
            "196/196 [==============================] - 7s 36ms/step - loss: 0.0170 - accuracy: 0.9943 - val_loss: 0.6302 - val_accuracy: 0.8890\n",
            "Epoch 71/100\n",
            "196/196 [==============================] - 7s 36ms/step - loss: 0.0180 - accuracy: 0.9939 - val_loss: 0.6620 - val_accuracy: 0.8861\n",
            "Epoch 72/100\n",
            "196/196 [==============================] - 7s 36ms/step - loss: 0.0168 - accuracy: 0.9943 - val_loss: 0.6412 - val_accuracy: 0.8878\n",
            "Epoch 73/100\n",
            "196/196 [==============================] - 7s 36ms/step - loss: 0.0174 - accuracy: 0.9939 - val_loss: 0.6855 - val_accuracy: 0.8835\n",
            "Epoch 74/100\n",
            "196/196 [==============================] - 7s 36ms/step - loss: 0.0164 - accuracy: 0.9949 - val_loss: 0.6590 - val_accuracy: 0.8879\n",
            "Epoch 75/100\n",
            "196/196 [==============================] - 7s 36ms/step - loss: 0.0152 - accuracy: 0.9950 - val_loss: 0.6509 - val_accuracy: 0.8902\n",
            "Epoch 76/100\n",
            "196/196 [==============================] - 7s 36ms/step - loss: 0.0186 - accuracy: 0.9941 - val_loss: 0.6455 - val_accuracy: 0.8888\n",
            "Epoch 77/100\n",
            "196/196 [==============================] - 7s 36ms/step - loss: 0.0173 - accuracy: 0.9942 - val_loss: 0.6625 - val_accuracy: 0.8839\n",
            "Epoch 78/100\n",
            "196/196 [==============================] - 7s 36ms/step - loss: 0.0183 - accuracy: 0.9940 - val_loss: 0.6592 - val_accuracy: 0.8912\n",
            "Epoch 79/100\n",
            "196/196 [==============================] - 7s 36ms/step - loss: 0.0187 - accuracy: 0.9941 - val_loss: 0.6291 - val_accuracy: 0.8896\n",
            "Epoch 80/100\n",
            "196/196 [==============================] - 7s 36ms/step - loss: 0.0147 - accuracy: 0.9947 - val_loss: 0.6772 - val_accuracy: 0.8897\n",
            "Epoch 81/100\n",
            "196/196 [==============================] - 7s 36ms/step - loss: 0.0184 - accuracy: 0.9938 - val_loss: 0.6393 - val_accuracy: 0.8873\n",
            "Epoch 82/100\n",
            "196/196 [==============================] - 7s 36ms/step - loss: 0.0168 - accuracy: 0.9943 - val_loss: 0.6678 - val_accuracy: 0.8864\n",
            "Epoch 83/100\n",
            "196/196 [==============================] - 7s 36ms/step - loss: 0.0166 - accuracy: 0.9946 - val_loss: 0.6599 - val_accuracy: 0.8905\n",
            "Epoch 84/100\n",
            "196/196 [==============================] - 7s 36ms/step - loss: 0.0187 - accuracy: 0.9937 - val_loss: 0.6531 - val_accuracy: 0.8884\n",
            "Epoch 85/100\n",
            "196/196 [==============================] - 7s 36ms/step - loss: 0.0187 - accuracy: 0.9937 - val_loss: 0.6754 - val_accuracy: 0.8875\n",
            "Epoch 86/100\n",
            "196/196 [==============================] - 7s 36ms/step - loss: 0.0174 - accuracy: 0.9938 - val_loss: 0.6628 - val_accuracy: 0.8885\n",
            "Epoch 87/100\n",
            "196/196 [==============================] - 7s 36ms/step - loss: 0.0166 - accuracy: 0.9944 - val_loss: 0.6402 - val_accuracy: 0.8907\n",
            "Epoch 88/100\n",
            "196/196 [==============================] - 7s 36ms/step - loss: 0.0160 - accuracy: 0.9947 - val_loss: 0.6602 - val_accuracy: 0.8872\n",
            "Epoch 89/100\n",
            "196/196 [==============================] - 7s 36ms/step - loss: 0.0176 - accuracy: 0.9942 - val_loss: 0.6694 - val_accuracy: 0.8865\n",
            "Epoch 90/100\n",
            "196/196 [==============================] - 7s 36ms/step - loss: 0.0180 - accuracy: 0.9941 - val_loss: 0.6672 - val_accuracy: 0.8878\n",
            "Epoch 91/100\n",
            "196/196 [==============================] - 7s 36ms/step - loss: 0.0185 - accuracy: 0.9942 - val_loss: 0.6380 - val_accuracy: 0.8901\n",
            "Epoch 92/100\n",
            "196/196 [==============================] - 7s 36ms/step - loss: 0.0157 - accuracy: 0.9949 - val_loss: 0.6501 - val_accuracy: 0.8893\n",
            "Epoch 93/100\n",
            "196/196 [==============================] - 7s 36ms/step - loss: 0.0167 - accuracy: 0.9946 - val_loss: 0.6555 - val_accuracy: 0.8881\n",
            "Epoch 94/100\n",
            "196/196 [==============================] - 7s 36ms/step - loss: 0.0173 - accuracy: 0.9942 - val_loss: 0.6642 - val_accuracy: 0.8866\n",
            "Epoch 95/100\n",
            "196/196 [==============================] - 7s 36ms/step - loss: 0.0162 - accuracy: 0.9944 - val_loss: 0.6807 - val_accuracy: 0.8844\n",
            "Epoch 96/100\n",
            "196/196 [==============================] - 7s 36ms/step - loss: 0.0190 - accuracy: 0.9937 - val_loss: 0.6382 - val_accuracy: 0.8882\n",
            "Epoch 97/100\n",
            "196/196 [==============================] - 7s 36ms/step - loss: 0.0160 - accuracy: 0.9947 - val_loss: 0.6733 - val_accuracy: 0.8875\n",
            "Epoch 98/100\n",
            "196/196 [==============================] - 7s 36ms/step - loss: 0.0163 - accuracy: 0.9944 - val_loss: 0.6417 - val_accuracy: 0.8901\n",
            "Epoch 99/100\n",
            "196/196 [==============================] - 7s 36ms/step - loss: 0.0169 - accuracy: 0.9944 - val_loss: 0.6559 - val_accuracy: 0.8896\n",
            "Epoch 100/100\n",
            "196/196 [==============================] - 7s 36ms/step - loss: 0.0177 - accuracy: 0.9940 - val_loss: 0.6482 - val_accuracy: 0.8880\n"
          ],
          "name": "stdout"
        }
      ]
    },
    {
      "cell_type": "code",
      "metadata": {
        "id": "QlGtSxJky2m-",
        "colab_type": "code",
        "colab": {
          "base_uri": "https://localhost:8080/",
          "height": 72
        },
        "outputId": "40657200-d867-463d-c51d-b0d840a0ced4"
      },
      "source": [
        "test_loss, test_acc = teacher_model.evaluate(test_ds, verbose=2)\n",
        "print(\"Test Loss:\", test_loss)\n",
        "print(\"Test Accuracy:\", test_acc)"
      ],
      "execution_count": null,
      "outputs": [
        {
          "output_type": "stream",
          "text": [
            "40/40 - 0s - loss: 0.6482 - accuracy: 0.8880\n",
            "Test Loss: 0.6482346057891846\n",
            "Test Accuracy: 0.8880000114440918\n"
          ],
          "name": "stdout"
        }
      ]
    },
    {
      "cell_type": "code",
      "metadata": {
        "id": "_NRN8XDv0cjx",
        "colab_type": "code",
        "colab": {}
      },
      "source": [
        "teacher_soft_logits = teacher_model.predict(train_images)"
      ],
      "execution_count": null,
      "outputs": []
    },
    {
      "cell_type": "code",
      "metadata": {
        "id": "OuzsciUlwq3e",
        "colab_type": "code",
        "colab": {}
      },
      "source": [
        "def softmax_with_temp(logits, temp=1):\n",
        "\n",
        "    logits = (logits - tf.math.reduce_max(logits)) / temp\n",
        "    exp_logits = tf.math.exp(logits)\n",
        "    logits_sum = tf.math.reduce_sum(exp_logits, axis=-1, keepdims=True)\n",
        "    result = exp_logits / logits_sum\n",
        "\n",
        "    return result\n",
        "\n",
        "\n",
        "def custom_cross_entropy(y_true, y_soft, y_pred, y_soft_pred, alpha=0.5):\n",
        "\n",
        "    y_pred = tf.clip_by_value(y_pred, 1e-7, 1 - 1e-7)\n",
        "    cross_entropy = -tf.math.reduce_mean(tf.math.reduce_sum(\n",
        "        y_true * tf.math.log(y_pred), axis=-1, keepdims=False))\n",
        "\n",
        "    y_soft = tf.clip_by_value(y_soft, 1e-7, 1 - 1e-7)\n",
        "    y_soft_pred = tf.clip_by_value(y_soft_pred, 1e-7, 1 - 1e-7)\n",
        "    soft_cross_entropy = -tf.math.reduce_mean(tf.math.reduce_sum(\n",
        "        y_soft * tf.math.log(y_soft_pred), axis=-1, keepdims=False))\n",
        "\n",
        "    return alpha * soft_cross_entropy + (1 - alpha) * cross_entropy\n",
        "\n",
        "\n",
        "def kl_divergence_cross_entropy(y_true, y_soft, y_pred, y_soft_pred,cross_entropy,soft_kl_divergence, alpha=0.5,temp=1):\n",
        "\n",
        "    cross_entropy = tf.keras.losses.CategoricalCrossentropy()\n",
        "\n",
        "    soft_kl_divergence = tf.keras.losses.KLDivergence()\n",
        "\n",
        "    return alpha * soft_kl_divergence(y_soft, y_soft_pred) + (1-alpha) * cross_entropy(y_true,y_pred)"
      ],
      "execution_count": null,
      "outputs": []
    },
    {
      "cell_type": "code",
      "metadata": {
        "id": "q15Yk9cKyvgb",
        "colab_type": "code",
        "colab": {}
      },
      "source": [
        "opt = tf.keras.optimizers.Adam(\n",
        "    learning_rate=0.0001, beta_1=0.9, beta_2=0.999, epsilon=1e-07, amsgrad=False,\n",
        "    name='Adam')\n",
        "\n",
        "# Define our metrics\n",
        "train_acc = tf.keras.metrics.CategoricalAccuracy('train_accuracy')\n",
        "test_acc = tf.keras.metrics.CategoricalAccuracy('test_accuracy')\n",
        "\n",
        "train_loss = tf.keras.metrics.Mean('train_loss', dtype=tf.float32)\n",
        "\n",
        "cross_entropy = tf.keras.losses.CategoricalCrossentropy()\n",
        "soft_kl_divergence = tf.keras.losses.KLDivergence()"
      ],
      "execution_count": null,
      "outputs": []
    },
    {
      "cell_type": "code",
      "metadata": {
        "id": "zqMRAnEzzuJZ",
        "colab_type": "code",
        "colab": {
          "base_uri": "https://localhost:8080/",
          "height": 781
        },
        "outputId": "ee8d0b1f-6916-4285-aeba-73bbff006f6e"
      },
      "source": [
        "student_model = vgg_2blocks()"
      ],
      "execution_count": null,
      "outputs": [
        {
          "output_type": "stream",
          "text": [
            "Model: \"sequential_4\"\n",
            "_________________________________________________________________\n",
            "Layer (type)                 Output Shape              Param #   \n",
            "=================================================================\n",
            "conv2d_24 (Conv2D)           (None, 32, 32, 32)        896       \n",
            "_________________________________________________________________\n",
            "batch_normalization_28 (Batc (None, 32, 32, 32)        128       \n",
            "_________________________________________________________________\n",
            "conv2d_25 (Conv2D)           (None, 32, 32, 32)        9248      \n",
            "_________________________________________________________________\n",
            "batch_normalization_29 (Batc (None, 32, 32, 32)        128       \n",
            "_________________________________________________________________\n",
            "max_pooling2d_12 (MaxPooling (None, 16, 16, 32)        0         \n",
            "_________________________________________________________________\n",
            "dropout_16 (Dropout)         (None, 16, 16, 32)        0         \n",
            "_________________________________________________________________\n",
            "conv2d_26 (Conv2D)           (None, 16, 16, 64)        18496     \n",
            "_________________________________________________________________\n",
            "batch_normalization_30 (Batc (None, 16, 16, 64)        256       \n",
            "_________________________________________________________________\n",
            "conv2d_27 (Conv2D)           (None, 16, 16, 64)        36928     \n",
            "_________________________________________________________________\n",
            "batch_normalization_31 (Batc (None, 16, 16, 64)        256       \n",
            "_________________________________________________________________\n",
            "max_pooling2d_13 (MaxPooling (None, 8, 8, 64)          0         \n",
            "_________________________________________________________________\n",
            "dropout_17 (Dropout)         (None, 8, 8, 64)          0         \n",
            "_________________________________________________________________\n",
            "flatten_4 (Flatten)          (None, 4096)              0         \n",
            "_________________________________________________________________\n",
            "dense_4 (Dense)              (None, 128)               524416    \n",
            "_________________________________________________________________\n",
            "batch_normalization_32 (Batc (None, 128)               512       \n",
            "_________________________________________________________________\n",
            "dropout_18 (Dropout)         (None, 128)               0         \n",
            "_________________________________________________________________\n",
            "logits (Dense)               (None, 10)                1290      \n",
            "=================================================================\n",
            "Total params: 592,554\n",
            "Trainable params: 591,914\n",
            "Non-trainable params: 640\n",
            "_________________________________________________________________\n"
          ],
          "name": "stdout"
        }
      ]
    },
    {
      "cell_type": "code",
      "metadata": {
        "id": "auwJmjCDzQ35",
        "colab_type": "code",
        "colab": {}
      },
      "source": [
        "def train_step(images, labels, teacher_soft_logits):\n",
        "\n",
        "    with tf.GradientTape() as tape:\n",
        "        pred = student_model(images, training=True)\n",
        "\n",
        "        unsoft_pred = softmax_with_temp(pred, 1)\n",
        "        soft_pred = softmax_with_temp(pred, TEMP)\n",
        "\n",
        "        teacher_logits = teacher_soft_logits\n",
        "        softened_teacher_prob = softmax_with_temp(teacher_logits, TEMP)\n",
        "        \n",
        "        loss_value = kl_divergence_cross_entropy(labels, softened_teacher_prob, unsoft_pred, soft_pred, cross_entropy,soft_kl_divergence,alpha=0.4, temp=TEMP)\n",
        "\n",
        "    grads = tape.gradient(loss_value, student_model.trainable_variables)\n",
        "    opt.apply_gradients(zip(grads, student_model.trainable_variables))\n",
        "\n",
        "    train_acc(labels, pred)\n",
        "    train_loss(loss_value)"
      ],
      "execution_count": null,
      "outputs": []
    },
    {
      "cell_type": "code",
      "metadata": {
        "id": "WZWpK1c62c0z",
        "colab_type": "code",
        "colab": {}
      },
      "source": [
        "EPOCHS = 100\n",
        "BATCH_SIZE = 128\n",
        "TEMP = 5\n",
        "AUTO = tf.data.experimental.AUTOTUNE"
      ],
      "execution_count": null,
      "outputs": []
    },
    {
      "cell_type": "code",
      "metadata": {
        "id": "zfrb_QD33hSu",
        "colab_type": "code",
        "colab": {}
      },
      "source": [
        "(train_images, train_labels), (test_images,\n",
        "                                test_labels) = datasets.cifar10.load_data()"
      ],
      "execution_count": null,
      "outputs": []
    },
    {
      "cell_type": "code",
      "metadata": {
        "id": "w0KgK7gi3nGT",
        "colab_type": "code",
        "colab": {}
      },
      "source": [
        "train_images, test_images = train_images / 255.0, test_images / 255.0"
      ],
      "execution_count": null,
      "outputs": []
    },
    {
      "cell_type": "code",
      "metadata": {
        "id": "M7Qo9AOa0BYP",
        "colab_type": "code",
        "colab": {}
      },
      "source": [
        "train_labels = tf.keras.utils.to_categorical(train_labels.astype('float32'))\n",
        "test_labels = tf.keras.utils.to_categorical(test_labels.astype('float32'))\n",
        "\n",
        "dataset = tf.data.Dataset.from_tensor_slices(\n",
        "    (train_images, train_labels, teacher_soft_logits))\n",
        "dataset = dataset.repeat(EPOCHS).batch(BATCH_SIZE)\n",
        "dataset = dataset.prefetch(AUTO)"
      ],
      "execution_count": null,
      "outputs": []
    },
    {
      "cell_type": "code",
      "metadata": {
        "id": "w5W_E_8H3u3Y",
        "colab_type": "code",
        "colab": {
          "base_uri": "https://localhost:8080/",
          "height": 35
        },
        "outputId": "f0eeef8d-0ffc-4a5c-d782-533b821a51b3"
      },
      "source": [
        "dataset"
      ],
      "execution_count": null,
      "outputs": [
        {
          "output_type": "execute_result",
          "data": {
            "text/plain": [
              "<PrefetchDataset shapes: ((None, 32, 32, 3), (None, 10), (None, 10)), types: (tf.float64, tf.float32, tf.float32)>"
            ]
          },
          "metadata": {
            "tags": []
          },
          "execution_count": 98
        }
      ]
    },
    {
      "cell_type": "code",
      "metadata": {
        "id": "v6Jc1YY46QS3",
        "colab_type": "code",
        "colab": {}
      },
      "source": [
        "train_summary_writer = tf.summary.create_file_writer('./')\n",
        "test_summary_writer = tf.summary.create_file_writer('./')"
      ],
      "execution_count": null,
      "outputs": []
    },
    {
      "cell_type": "code",
      "metadata": {
        "id": "gyvt_5s_6gpD",
        "colab_type": "code",
        "colab": {}
      },
      "source": [
        "train_acc = tf.keras.metrics.CategoricalAccuracy('train_accuracy')\n",
        "test_acc = tf.keras.metrics.CategoricalAccuracy('test_accuracy')"
      ],
      "execution_count": null,
      "outputs": []
    },
    {
      "cell_type": "code",
      "metadata": {
        "id": "Ur_iCENNzW6h",
        "colab_type": "code",
        "colab": {
          "base_uri": "https://localhost:8080/",
          "height": 1000
        },
        "outputId": "ecced225-eceb-4759-a319-18cbb0d3c8cd"
      },
      "source": [
        "for x, y, soft_logits in dataset:\n",
        "\n",
        "  _ = train_step(x, y, soft_logits)\n",
        "  step += 1\n",
        "  if step % int(len(train_images) / BATCH_SIZE) == 0:\n",
        "\n",
        "        test_acc(test_labels, student_model(\n",
        "            test_images, training=False))\n",
        "        tf.print(\"Steps loss     accuracy   test_accuracy\")\n",
        "        tf.print(step, train_loss.result(),\n",
        "                  train_acc.result(), test_acc.result())\n",
        "\n",
        "        ckpt_step += 1\n",
        "        with train_summary_writer.as_default():\n",
        "            tf.summary.scalar('epoch_accuracy',\n",
        "                              train_acc.result(), step=ckpt_step)\n",
        "            tf.summary.scalar(\n",
        "                'epoch_loss', train_loss.result(), step=ckpt_step)\n",
        "        with test_summary_writer.as_default():\n",
        "            tf.summary.scalar('epoch_accuracy',\n",
        "                              test_acc.result(), step=ckpt_step)\n",
        "\n",
        "        train_acc.reset_states()\n",
        "        test_acc.reset_states()\n",
        "        train_loss.reset_states()"
      ],
      "execution_count": null,
      "outputs": [
        {
          "output_type": "stream",
          "text": [
            "Steps loss     accuracy   test_accuracy\n",
            "2340 2.2228694 0.234243691 0.1318\n",
            "Steps loss     accuracy   test_accuracy\n",
            "2730 1.72659349 0.385957539 0.4714\n",
            "Steps loss     accuracy   test_accuracy\n",
            "3120 1.48683774 0.464362979 0.5574\n",
            "Steps loss     accuracy   test_accuracy\n",
            "3510 1.36717403 0.514603376 0.5819\n",
            "Steps loss     accuracy   test_accuracy\n",
            "3900 1.27935278 0.547736406 0.605\n",
            "Steps loss     accuracy   test_accuracy\n",
            "4290 1.21125829 0.574278831 0.6269\n",
            "Steps loss     accuracy   test_accuracy\n",
            "4680 1.15396202 0.599098563 0.6395\n",
            "Steps loss     accuracy   test_accuracy\n",
            "5070 1.10401225 0.619771659 0.6484\n",
            "Steps loss     accuracy   test_accuracy\n",
            "5460 1.06371403 0.63511616 0.6578\n",
            "Steps loss     accuracy   test_accuracy\n",
            "5850 1.03376627 0.646915078 0.6666\n",
            "Steps loss     accuracy   test_accuracy\n",
            "6240 1.00761831 0.658173084 0.6687\n",
            "Steps loss     accuracy   test_accuracy\n",
            "6630 0.97988975 0.666025639 0.6842\n",
            "Steps loss     accuracy   test_accuracy\n",
            "7020 0.952482343 0.677904665 0.688\n",
            "Steps loss     accuracy   test_accuracy\n",
            "7410 0.937802374 0.683653831 0.6932\n",
            "Steps loss     accuracy   test_accuracy\n",
            "7800 0.920200586 0.68966347 0.6977\n",
            "Steps loss     accuracy   test_accuracy\n",
            "8190 0.899388373 0.69837743 0.6996\n",
            "Steps loss     accuracy   test_accuracy\n",
            "8580 0.877989471 0.707271636 0.7035\n",
            "Steps loss     accuracy   test_accuracy\n",
            "8970 0.860537231 0.71065706 0.7101\n",
            "Steps loss     accuracy   test_accuracy\n",
            "9360 0.846515059 0.716125786 0.7137\n",
            "Steps loss     accuracy   test_accuracy\n",
            "9750 0.830904663 0.720853388 0.7162\n",
            "Steps loss     accuracy   test_accuracy\n",
            "10140 0.81870091 0.725801289 0.7237\n",
            "Steps loss     accuracy   test_accuracy\n",
            "10530 0.801618755 0.732532 0.7271\n",
            "Steps loss     accuracy   test_accuracy\n",
            "10920 0.787172079 0.738181114 0.7245\n",
            "Steps loss     accuracy   test_accuracy\n",
            "11310 0.77643019 0.741105795 0.7344\n",
            "Steps loss     accuracy   test_accuracy\n",
            "11700 0.764567554 0.745492816 0.7446\n",
            "Steps loss     accuracy   test_accuracy\n",
            "12090 0.756018043 0.74811697 0.7412\n",
            "Steps loss     accuracy   test_accuracy\n",
            "12480 0.745680332 0.750761211 0.7442\n",
            "Steps loss     accuracy   test_accuracy\n",
            "12870 0.733069241 0.754707515 0.7494\n",
            "Steps loss     accuracy   test_accuracy\n",
            "13260 0.720392704 0.759615362 0.743\n",
            "Steps loss     accuracy   test_accuracy\n",
            "13650 0.713273883 0.763922274 0.7536\n",
            "Steps loss     accuracy   test_accuracy\n",
            "14040 0.702732325 0.766806901 0.7562\n",
            "Steps loss     accuracy   test_accuracy\n",
            "14430 0.691564679 0.770192325 0.7571\n",
            "Steps loss     accuracy   test_accuracy\n",
            "14820 0.679997683 0.774919868 0.7599\n",
            "Steps loss     accuracy   test_accuracy\n",
            "15210 0.67141819 0.777784467 0.7583\n",
            "Steps loss     accuracy   test_accuracy\n",
            "15600 0.663299084 0.77880609 0.7625\n",
            "Steps loss     accuracy   test_accuracy\n",
            "15990 0.654687047 0.782031238 0.7667\n",
            "Steps loss     accuracy   test_accuracy\n",
            "16380 0.643481255 0.78661859 0.7661\n",
            "Steps loss     accuracy   test_accuracy\n",
            "16770 0.638656497 0.786137819 0.7644\n",
            "Steps loss     accuracy   test_accuracy\n",
            "17160 0.632476747 0.790785253 0.7675\n",
            "Steps loss     accuracy   test_accuracy\n",
            "17550 0.620113671 0.794250786 0.7721\n",
            "Steps loss     accuracy   test_accuracy\n",
            "17940 0.610016465 0.797335744 0.7699\n",
            "Steps loss     accuracy   test_accuracy\n",
            "18330 0.607569516 0.797496 0.7748\n",
            "Steps loss     accuracy   test_accuracy\n",
            "18720 0.602189541 0.80050081 0.7752\n",
            "Steps loss     accuracy   test_accuracy\n",
            "19110 0.593858659 0.802684307 0.7735\n",
            "Steps loss     accuracy   test_accuracy\n",
            "19500 0.582909286 0.805949509 0.7691\n",
            "Steps loss     accuracy   test_accuracy\n",
            "19890 0.580673635 0.804627419 0.7755\n",
            "Steps loss     accuracy   test_accuracy\n",
            "20280 0.570024967 0.809915841 0.7817\n",
            "Steps loss     accuracy   test_accuracy\n",
            "20670 0.566110075 0.810857356 0.7731\n",
            "Steps loss     accuracy   test_accuracy\n",
            "21060 0.557758808 0.813461542 0.7802\n",
            "Steps loss     accuracy   test_accuracy\n",
            "21450 0.552003264 0.8165465 0.7774\n",
            "Steps loss     accuracy   test_accuracy\n",
            "21840 0.549111 0.816666663 0.7801\n",
            "Steps loss     accuracy   test_accuracy\n",
            "22230 0.53960526 0.819651425 0.7839\n",
            "Steps loss     accuracy   test_accuracy\n",
            "22620 0.535357177 0.821995199 0.7794\n",
            "Steps loss     accuracy   test_accuracy\n",
            "23010 0.534016907 0.823157072 0.7867\n",
            "Steps loss     accuracy   test_accuracy\n",
            "23400 0.529910386 0.822916687 0.7839\n",
            "Steps loss     accuracy   test_accuracy\n",
            "23790 0.518496335 0.82638222 0.7886\n",
            "Steps loss     accuracy   test_accuracy\n",
            "24180 0.510722756 0.829266846 0.7832\n",
            "Steps loss     accuracy   test_accuracy\n",
            "24570 0.508599162 0.830248415 0.7899\n",
            "Steps loss     accuracy   test_accuracy\n",
            "24960 0.506163538 0.831690729 0.7874\n",
            "Steps loss     accuracy   test_accuracy\n",
            "25350 0.500810802 0.83259213 0.7907\n",
            "Steps loss     accuracy   test_accuracy\n",
            "25740 0.500299692 0.832672298 0.7894\n",
            "Steps loss     accuracy   test_accuracy\n",
            "26130 0.491163641 0.838621795 0.7854\n",
            "Steps loss     accuracy   test_accuracy\n",
            "26520 0.488297135 0.837379813 0.7893\n",
            "Steps loss     accuracy   test_accuracy\n",
            "26910 0.483357787 0.838401437 0.7911\n",
            "Steps loss     accuracy   test_accuracy\n",
            "27300 0.478817016 0.840084136 0.7873\n",
            "Steps loss     accuracy   test_accuracy\n",
            "27690 0.47919029 0.840905428 0.7924\n",
            "Steps loss     accuracy   test_accuracy\n",
            "28080 0.470252663 0.84403044 0.7907\n",
            "Steps loss     accuracy   test_accuracy\n",
            "28470 0.463371366 0.845092118 0.7946\n",
            "Steps loss     accuracy   test_accuracy\n",
            "28860 0.459584475 0.846734762 0.7924\n",
            "Steps loss     accuracy   test_accuracy\n",
            "29250 0.450617135 0.85072118 0.7936\n",
            "Steps loss     accuracy   test_accuracy\n",
            "29640 0.451860189 0.849919856 0.7943\n",
            "Steps loss     accuracy   test_accuracy\n",
            "30030 0.451812655 0.847496 0.7946\n",
            "Steps loss     accuracy   test_accuracy\n",
            "30420 0.443381131 0.853565693 0.7925\n",
            "Steps loss     accuracy   test_accuracy\n",
            "30810 0.443236262 0.851822913 0.7942\n",
            "Steps loss     accuracy   test_accuracy\n",
            "31200 0.439629465 0.853505611 0.7943\n",
            "Steps loss     accuracy   test_accuracy\n",
            "31590 0.430277228 0.856951118 0.8\n",
            "Steps loss     accuracy   test_accuracy\n",
            "31980 0.435118735 0.854106545 0.7972\n",
            "Steps loss     accuracy   test_accuracy\n",
            "32370 0.429098666 0.856450319 0.7973\n",
            "Steps loss     accuracy   test_accuracy\n",
            "32760 0.426145941 0.857111394 0.7906\n",
            "Steps loss     accuracy   test_accuracy\n",
            "33150 0.422869682 0.859334946 0.7969\n",
            "Steps loss     accuracy   test_accuracy\n",
            "33540 0.416442662 0.860737205 0.7975\n",
            "Steps loss     accuracy   test_accuracy\n",
            "33930 0.411199719 0.86300081 0.7964\n",
            "Steps loss     accuracy   test_accuracy\n",
            "34320 0.415919095 0.861137807 0.7972\n",
            "Steps loss     accuracy   test_accuracy\n",
            "34710 0.407111704 0.86370194 0.7954\n",
            "Steps loss     accuracy   test_accuracy\n",
            "35100 0.402847946 0.865825295 0.7983\n",
            "Steps loss     accuracy   test_accuracy\n",
            "35490 0.400864 0.867968738 0.7993\n",
            "Steps loss     accuracy   test_accuracy\n",
            "35880 0.401367426 0.867808521 0.8006\n",
            "Steps loss     accuracy   test_accuracy\n",
            "36270 0.395459801 0.869190693 0.7986\n",
            "Steps loss     accuracy   test_accuracy\n",
            "36660 0.395788699 0.870032072 0.801\n",
            "Steps loss     accuracy   test_accuracy\n",
            "37050 0.391431093 0.869090557 0.7998\n",
            "Steps loss     accuracy   test_accuracy\n",
            "37440 0.386470437 0.871414244 0.8038\n",
            "Steps loss     accuracy   test_accuracy\n",
            "37830 0.384347379 0.872496 0.8024\n",
            "Steps loss     accuracy   test_accuracy\n",
            "38220 0.380214095 0.875681102 0.8044\n",
            "Steps loss     accuracy   test_accuracy\n",
            "38610 0.381851405 0.872616172 0.7998\n",
            "Steps loss     accuracy   test_accuracy\n",
            "39000 0.378510863 0.876001596 0.8035\n",
            "Steps loss     accuracy   test_accuracy\n",
            "39390 0.375760317 0.876382232 0.7992\n",
            "Steps loss     accuracy   test_accuracy\n",
            "39780 0.37380752 0.876822889 0.8024\n",
            "Steps loss     accuracy   test_accuracy\n",
            "40170 0.369168 0.878946304 0.8016\n",
            "Steps loss     accuracy   test_accuracy\n",
            "40560 0.365596503 0.879106581 0.8036\n",
            "Steps loss     accuracy   test_accuracy\n",
            "40950 0.371336162 0.878425479 0.8066\n"
          ],
          "name": "stdout"
        }
      ]
    },
    {
      "cell_type": "code",
      "metadata": {
        "id": "MeaMh_v75CXQ",
        "colab_type": "code",
        "colab": {
          "base_uri": "https://localhost:8080/",
          "height": 781
        },
        "outputId": "1aa1dcc4-a2b8-44cc-a404-8b69d94766ac"
      },
      "source": [
        "student_model.summary()"
      ],
      "execution_count": null,
      "outputs": [
        {
          "output_type": "stream",
          "text": [
            "Model: \"sequential_4\"\n",
            "_________________________________________________________________\n",
            "Layer (type)                 Output Shape              Param #   \n",
            "=================================================================\n",
            "conv2d_24 (Conv2D)           (None, 32, 32, 32)        896       \n",
            "_________________________________________________________________\n",
            "batch_normalization_28 (Batc (None, 32, 32, 32)        128       \n",
            "_________________________________________________________________\n",
            "conv2d_25 (Conv2D)           (None, 32, 32, 32)        9248      \n",
            "_________________________________________________________________\n",
            "batch_normalization_29 (Batc (None, 32, 32, 32)        128       \n",
            "_________________________________________________________________\n",
            "max_pooling2d_12 (MaxPooling (None, 16, 16, 32)        0         \n",
            "_________________________________________________________________\n",
            "dropout_16 (Dropout)         (None, 16, 16, 32)        0         \n",
            "_________________________________________________________________\n",
            "conv2d_26 (Conv2D)           (None, 16, 16, 64)        18496     \n",
            "_________________________________________________________________\n",
            "batch_normalization_30 (Batc (None, 16, 16, 64)        256       \n",
            "_________________________________________________________________\n",
            "conv2d_27 (Conv2D)           (None, 16, 16, 64)        36928     \n",
            "_________________________________________________________________\n",
            "batch_normalization_31 (Batc (None, 16, 16, 64)        256       \n",
            "_________________________________________________________________\n",
            "max_pooling2d_13 (MaxPooling (None, 8, 8, 64)          0         \n",
            "_________________________________________________________________\n",
            "dropout_17 (Dropout)         (None, 8, 8, 64)          0         \n",
            "_________________________________________________________________\n",
            "flatten_4 (Flatten)          (None, 4096)              0         \n",
            "_________________________________________________________________\n",
            "dense_4 (Dense)              (None, 128)               524416    \n",
            "_________________________________________________________________\n",
            "batch_normalization_32 (Batc (None, 128)               512       \n",
            "_________________________________________________________________\n",
            "dropout_18 (Dropout)         (None, 128)               0         \n",
            "_________________________________________________________________\n",
            "logits (Dense)               (None, 10)                1290      \n",
            "=================================================================\n",
            "Total params: 592,554\n",
            "Trainable params: 591,914\n",
            "Non-trainable params: 640\n",
            "_________________________________________________________________\n"
          ],
          "name": "stdout"
        }
      ]
    },
    {
      "cell_type": "code",
      "metadata": {
        "id": "gGc9vKr563_O",
        "colab_type": "code",
        "colab": {}
      },
      "source": [
        "student_model.compile(optimizer=optimizer,\n",
        "              loss=tf.keras.losses.SparseCategoricalCrossentropy(from_logits=True),\n",
        "              metrics=['accuracy'])"
      ],
      "execution_count": null,
      "outputs": []
    },
    {
      "cell_type": "code",
      "metadata": {
        "id": "77jpKh2T6x1P",
        "colab_type": "code",
        "colab": {
          "base_uri": "https://localhost:8080/",
          "height": 72
        },
        "outputId": "ff99450a-2086-4aa5-e145-91590a97bfe0"
      },
      "source": [
        "test_loss, test_acc = student_model.evaluate(test_ds, verbose=2)\n",
        "print(\"Test Loss:\", test_loss)\n",
        "print(\"Test Accuracy:\", test_acc)"
      ],
      "execution_count": null,
      "outputs": [
        {
          "output_type": "stream",
          "text": [
            "40/40 - 0s - loss: 0.7804 - accuracy: 0.8059\n",
            "Test Loss: 0.7804117202758789\n",
            "Test Accuracy: 0.805899977684021\n"
          ],
          "name": "stdout"
        }
      ]
    },
    {
      "cell_type": "code",
      "metadata": {
        "id": "w6tH4iRP8C-n",
        "colab_type": "code",
        "colab": {}
      },
      "source": [
        "student_soft_logits = student_model.predict(test_images)"
      ],
      "execution_count": null,
      "outputs": []
    },
    {
      "cell_type": "code",
      "metadata": {
        "id": "GMOXiC7-8dYO",
        "colab_type": "code",
        "colab": {
          "base_uri": "https://localhost:8080/",
          "height": 72
        },
        "outputId": "f154cf0e-7cc2-49a0-a7af-79a1aa41c20e"
      },
      "source": [
        "student_soft_logits[0]"
      ],
      "execution_count": null,
      "outputs": [
        {
          "output_type": "execute_result",
          "data": {
            "text/plain": [
              "array([-3.570874  , -2.519906  , -5.808381  , 11.211636  , -3.1897728 ,\n",
              "        7.058151  ,  4.684191  , -4.9653907 ,  0.10992634, -1.8421792 ],\n",
              "      dtype=float32)"
            ]
          },
          "metadata": {
            "tags": []
          },
          "execution_count": 117
        }
      ]
    },
    {
      "cell_type": "code",
      "metadata": {
        "id": "AFgK7bUE8HyQ",
        "colab_type": "code",
        "colab": {
          "base_uri": "https://localhost:8080/",
          "height": 35
        },
        "outputId": "9c297cbe-01c3-4c93-8b1d-35c3cc9df3d4"
      },
      "source": [
        "np.argmax(student_soft_logits[0])"
      ],
      "execution_count": null,
      "outputs": [
        {
          "output_type": "execute_result",
          "data": {
            "text/plain": [
              "3"
            ]
          },
          "metadata": {
            "tags": []
          },
          "execution_count": 118
        }
      ]
    },
    {
      "cell_type": "code",
      "metadata": {
        "id": "uJGK_HY38Ux4",
        "colab_type": "code",
        "colab": {
          "base_uri": "https://localhost:8080/",
          "height": 35
        },
        "outputId": "f84f8d48-cb4c-43d7-ba4f-6c46e9d9c9d7"
      },
      "source": [
        "np.argmax(test_labels[0])"
      ],
      "execution_count": null,
      "outputs": [
        {
          "output_type": "execute_result",
          "data": {
            "text/plain": [
              "3"
            ]
          },
          "metadata": {
            "tags": []
          },
          "execution_count": 119
        }
      ]
    },
    {
      "cell_type": "code",
      "metadata": {
        "id": "gPWi3_h98vsS",
        "colab_type": "code",
        "colab": {}
      },
      "source": [
        ""
      ],
      "execution_count": null,
      "outputs": []
    },
    {
      "cell_type": "code",
      "metadata": {
        "id": "k0ypwBj67YaB",
        "colab_type": "code",
        "colab": {}
      },
      "source": [
        "num_classes = len(class_names)"
      ],
      "execution_count": null,
      "outputs": []
    },
    {
      "cell_type": "code",
      "metadata": {
        "id": "dqoj3JFZuF_e",
        "colab_type": "code",
        "colab": {}
      },
      "source": [
        "student_model.layers[-1].activation = tf.keras.activations.softmax"
      ],
      "execution_count": null,
      "outputs": []
    },
    {
      "cell_type": "code",
      "metadata": {
        "id": "rUfHoBYIudLc",
        "colab_type": "code",
        "colab": {
          "base_uri": "https://localhost:8080/",
          "height": 35
        },
        "outputId": "8d90c077-ea34-4096-eeda-d05f3a8c6005"
      },
      "source": [
        "student_model.layers[-1].activation"
      ],
      "execution_count": null,
      "outputs": [
        {
          "output_type": "execute_result",
          "data": {
            "text/plain": [
              "<function tensorflow.python.keras.activations.softmax>"
            ]
          },
          "metadata": {
            "tags": []
          },
          "execution_count": 126
        }
      ]
    },
    {
      "cell_type": "code",
      "metadata": {
        "id": "0bzt-lsVx_X_",
        "colab_type": "code",
        "colab": {}
      },
      "source": [
        "# TODO add the compile stage if necessary\n",
        "# student_model.compile"
      ],
      "execution_count": null,
      "outputs": []
    },
    {
      "cell_type": "code",
      "metadata": {
        "id": "OxLYS7zO7xF9",
        "colab_type": "code",
        "colab": {
          "base_uri": "https://localhost:8080/",
          "height": 72
        },
        "outputId": "d112c955-5646-459a-fdcc-0944a621100c"
      },
      "source": [
        "test_loss, test_acc = student_model.evaluate(test_ds, verbose=2)\n",
        "print(\"Test Loss:\", test_loss)\n",
        "print(\"Test Accuracy:\", test_acc)"
      ],
      "execution_count": null,
      "outputs": [
        {
          "output_type": "stream",
          "text": [
            "40/40 - 0s - loss: 0.7804 - accuracy: 0.8059\n",
            "Test Loss: 0.7804117202758789\n",
            "Test Accuracy: 0.805899977684021\n"
          ],
          "name": "stdout"
        }
      ]
    },
    {
      "cell_type": "code",
      "metadata": {
        "id": "yj7WLAKX7K_e",
        "colab_type": "code",
        "colab": {}
      },
      "source": [
        "output_layer = tf.keras.layers.Dense(num_classes, activation='softmax', name='scores')(student_model.layers[-1].output)\n",
        "new_student_model = tf.keras.Model(student_model.input, output_layer)"
      ],
      "execution_count": null,
      "outputs": []
    },
    {
      "cell_type": "code",
      "metadata": {
        "id": "ktsKLNgVuYVH",
        "colab_type": "code",
        "colab": {
          "base_uri": "https://localhost:8080/",
          "height": 781
        },
        "outputId": "87bfba0c-db4c-42a2-9897-640a85add957"
      },
      "source": [
        "student_model.summary()"
      ],
      "execution_count": null,
      "outputs": [
        {
          "output_type": "stream",
          "text": [
            "Model: \"sequential_4\"\n",
            "_________________________________________________________________\n",
            "Layer (type)                 Output Shape              Param #   \n",
            "=================================================================\n",
            "conv2d_24 (Conv2D)           (None, 32, 32, 32)        896       \n",
            "_________________________________________________________________\n",
            "batch_normalization_28 (Batc (None, 32, 32, 32)        128       \n",
            "_________________________________________________________________\n",
            "conv2d_25 (Conv2D)           (None, 32, 32, 32)        9248      \n",
            "_________________________________________________________________\n",
            "batch_normalization_29 (Batc (None, 32, 32, 32)        128       \n",
            "_________________________________________________________________\n",
            "max_pooling2d_12 (MaxPooling (None, 16, 16, 32)        0         \n",
            "_________________________________________________________________\n",
            "dropout_16 (Dropout)         (None, 16, 16, 32)        0         \n",
            "_________________________________________________________________\n",
            "conv2d_26 (Conv2D)           (None, 16, 16, 64)        18496     \n",
            "_________________________________________________________________\n",
            "batch_normalization_30 (Batc (None, 16, 16, 64)        256       \n",
            "_________________________________________________________________\n",
            "conv2d_27 (Conv2D)           (None, 16, 16, 64)        36928     \n",
            "_________________________________________________________________\n",
            "batch_normalization_31 (Batc (None, 16, 16, 64)        256       \n",
            "_________________________________________________________________\n",
            "max_pooling2d_13 (MaxPooling (None, 8, 8, 64)          0         \n",
            "_________________________________________________________________\n",
            "dropout_17 (Dropout)         (None, 8, 8, 64)          0         \n",
            "_________________________________________________________________\n",
            "flatten_4 (Flatten)          (None, 4096)              0         \n",
            "_________________________________________________________________\n",
            "dense_4 (Dense)              (None, 128)               524416    \n",
            "_________________________________________________________________\n",
            "batch_normalization_32 (Batc (None, 128)               512       \n",
            "_________________________________________________________________\n",
            "dropout_18 (Dropout)         (None, 128)               0         \n",
            "_________________________________________________________________\n",
            "logits (Dense)               (None, 10)                1290      \n",
            "=================================================================\n",
            "Total params: 592,554\n",
            "Trainable params: 591,914\n",
            "Non-trainable params: 640\n",
            "_________________________________________________________________\n"
          ],
          "name": "stdout"
        }
      ]
    },
    {
      "cell_type": "code",
      "metadata": {
        "id": "97Tf5Gm57ivN",
        "colab_type": "code",
        "colab": {}
      },
      "source": [
        "new_student_model.compile(optimizer='adam', loss='sparse_categorical_crossentropy',metrics=['accuracy'])"
      ],
      "execution_count": null,
      "outputs": []
    },
    {
      "cell_type": "code",
      "metadata": {
        "id": "hQ7uxDjv7l-G",
        "colab_type": "code",
        "colab": {
          "base_uri": "https://localhost:8080/",
          "height": 854
        },
        "outputId": "755b4b18-e8f3-4b22-d744-f21f0f72e764"
      },
      "source": [
        "new_student_model.summary()"
      ],
      "execution_count": null,
      "outputs": [
        {
          "output_type": "stream",
          "text": [
            "Model: \"functional_3\"\n",
            "_________________________________________________________________\n",
            "Layer (type)                 Output Shape              Param #   \n",
            "=================================================================\n",
            "conv2d_24_input (InputLayer) [(None, 32, 32, 3)]       0         \n",
            "_________________________________________________________________\n",
            "conv2d_24 (Conv2D)           (None, 32, 32, 32)        896       \n",
            "_________________________________________________________________\n",
            "batch_normalization_28 (Batc (None, 32, 32, 32)        128       \n",
            "_________________________________________________________________\n",
            "conv2d_25 (Conv2D)           (None, 32, 32, 32)        9248      \n",
            "_________________________________________________________________\n",
            "batch_normalization_29 (Batc (None, 32, 32, 32)        128       \n",
            "_________________________________________________________________\n",
            "max_pooling2d_12 (MaxPooling (None, 16, 16, 32)        0         \n",
            "_________________________________________________________________\n",
            "dropout_16 (Dropout)         (None, 16, 16, 32)        0         \n",
            "_________________________________________________________________\n",
            "conv2d_26 (Conv2D)           (None, 16, 16, 64)        18496     \n",
            "_________________________________________________________________\n",
            "batch_normalization_30 (Batc (None, 16, 16, 64)        256       \n",
            "_________________________________________________________________\n",
            "conv2d_27 (Conv2D)           (None, 16, 16, 64)        36928     \n",
            "_________________________________________________________________\n",
            "batch_normalization_31 (Batc (None, 16, 16, 64)        256       \n",
            "_________________________________________________________________\n",
            "max_pooling2d_13 (MaxPooling (None, 8, 8, 64)          0         \n",
            "_________________________________________________________________\n",
            "dropout_17 (Dropout)         (None, 8, 8, 64)          0         \n",
            "_________________________________________________________________\n",
            "flatten_4 (Flatten)          (None, 4096)              0         \n",
            "_________________________________________________________________\n",
            "dense_4 (Dense)              (None, 128)               524416    \n",
            "_________________________________________________________________\n",
            "batch_normalization_32 (Batc (None, 128)               512       \n",
            "_________________________________________________________________\n",
            "dropout_18 (Dropout)         (None, 128)               0         \n",
            "_________________________________________________________________\n",
            "logits (Dense)               (None, 10)                1290      \n",
            "_________________________________________________________________\n",
            "scores (Dense)               (None, 10)                110       \n",
            "=================================================================\n",
            "Total params: 592,664\n",
            "Trainable params: 592,024\n",
            "Non-trainable params: 640\n",
            "_________________________________________________________________\n"
          ],
          "name": "stdout"
        }
      ]
    },
    {
      "cell_type": "code",
      "metadata": {
        "id": "7ntpv5XL7ole",
        "colab_type": "code",
        "colab": {
          "base_uri": "https://localhost:8080/",
          "height": 72
        },
        "outputId": "5b975327-9f5c-4471-a446-a3a7674e2edd"
      },
      "source": [
        "test_loss, test_acc = new_student_model.evaluate(test_ds, verbose=2)\n",
        "print(\"Test Loss:\", test_loss)\n",
        "print(\"Test Accuracy:\", test_acc)"
      ],
      "execution_count": null,
      "outputs": [
        {
          "output_type": "stream",
          "text": [
            "40/40 - 0s - loss: 5.1993 - accuracy: 0.0712\n",
            "Test Loss: 5.199324131011963\n",
            "Test Accuracy: 0.07119999825954437\n"
          ],
          "name": "stdout"
        }
      ]
    },
    {
      "cell_type": "code",
      "metadata": {
        "id": "Hf_i-szmujYm",
        "colab_type": "code",
        "colab": {}
      },
      "source": [
        ""
      ],
      "execution_count": null,
      "outputs": []
    }
  ]
}