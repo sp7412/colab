{
  "nbformat": 4,
  "nbformat_minor": 0,
  "metadata": {
    "colab": {
      "name": "distilling.ipynb",
      "provenance": [],
      "collapsed_sections": [],
      "authorship_tag": "ABX9TyOpONBYI+uzXgZzucxRGwZI",
      "include_colab_link": true
    },
    "kernelspec": {
      "name": "python3",
      "display_name": "Python 3"
    },
    "accelerator": "GPU"
  },
  "cells": [
    {
      "cell_type": "markdown",
      "metadata": {
        "id": "view-in-github",
        "colab_type": "text"
      },
      "source": [
        "<a href=\"https://colab.research.google.com/github/sp7412/colab/blob/master/distilling.ipynb\" target=\"_parent\"><img src=\"https://colab.research.google.com/assets/colab-badge.svg\" alt=\"Open In Colab\"/></a>"
      ]
    },
    {
      "cell_type": "code",
      "metadata": {
        "id": "6-IFpKGE-hDq",
        "colab_type": "code",
        "colab": {}
      },
      "source": [
        "import tensorflow as tf\n",
        "import tensorflow_datasets as tfds\n",
        "import numpy as np"
      ],
      "execution_count": 1,
      "outputs": []
    },
    {
      "cell_type": "code",
      "metadata": {
        "id": "qkKuT9h9-hOV",
        "colab_type": "code",
        "colab": {}
      },
      "source": [
        "def normalize_img(image, label):\n",
        "  \"\"\"Normalizes images: `uint8` -> `float32`.\"\"\"\n",
        "  return tf.cast(image, tf.float32) / 255., label\n",
        "\n",
        "def softmax_sparse_categorical_crossentropy(labels, logits):\n",
        "  softmaxed = tf.keras.backend.softmax(logits)\n",
        "\n",
        "  return tf.keras.losses.sparse_categorical_crossentropy(labels, softmaxed)"
      ],
      "execution_count": 2,
      "outputs": []
    },
    {
      "cell_type": "code",
      "metadata": {
        "id": "eLJY6Gl3-hVc",
        "colab_type": "code",
        "colab": {}
      },
      "source": [
        "(ds_train, ds_test), ds_info = tfds.load(\n",
        "    'mnist',\n",
        "    split=['train', 'test'],\n",
        "    shuffle_files=True,\n",
        "    as_supervised=True,\n",
        "    with_info=True,\n",
        ")\n",
        "\n",
        "ds_train = ds_train.map(\n",
        "    normalize_img, num_parallel_calls=tf.data.experimental.AUTOTUNE)\n",
        "\n",
        "ds_test = ds_test.map(\n",
        "    normalize_img, num_parallel_calls=tf.data.experimental.AUTOTUNE)"
      ],
      "execution_count": 78,
      "outputs": []
    },
    {
      "cell_type": "code",
      "metadata": {
        "id": "ooQK3sXuOb85",
        "colab_type": "code",
        "colab": {
          "base_uri": "https://localhost:8080/",
          "height": 35
        },
        "outputId": "379b1dc1-eb4c-4262-8d90-ee86e14c9632"
      },
      "source": [
        "ds_info.features['image'].shape"
      ],
      "execution_count": 52,
      "outputs": [
        {
          "output_type": "execute_result",
          "data": {
            "text/plain": [
              "(28, 28, 1)"
            ]
          },
          "metadata": {
            "tags": []
          },
          "execution_count": 52
        }
      ]
    },
    {
      "cell_type": "code",
      "metadata": {
        "id": "elT2HSSsOF88",
        "colab_type": "code",
        "colab": {
          "base_uri": "https://localhost:8080/",
          "height": 35
        },
        "outputId": "c8b0740e-fc2d-44e4-9a05-ba6eacb7f5b7"
      },
      "source": [
        "num_training_examples = ds_info.splits['train'].num_examples\n",
        "num_training_examples"
      ],
      "execution_count": 53,
      "outputs": [
        {
          "output_type": "execute_result",
          "data": {
            "text/plain": [
              "60000"
            ]
          },
          "metadata": {
            "tags": []
          },
          "execution_count": 53
        }
      ]
    },
    {
      "cell_type": "code",
      "metadata": {
        "id": "-IqmqPPgHADV",
        "colab_type": "code",
        "colab": {}
      },
      "source": [
        "ds_train_iter = ds_train.as_numpy_iterator()\n",
        "train_images, train_labels = zip(*[ds_train_iter.next() for i in range(num_training_examples)])\n",
        "train_images = np.asarray(train_images)"
      ],
      "execution_count": 7,
      "outputs": []
    },
    {
      "cell_type": "code",
      "metadata": {
        "id": "Flk4vFoKbE8_",
        "colab_type": "code",
        "colab": {
          "base_uri": "https://localhost:8080/",
          "height": 35
        },
        "outputId": "48223146-dda9-4140-c795-1d604fe61fe5"
      },
      "source": [
        "train_images.shape"
      ],
      "execution_count": 127,
      "outputs": [
        {
          "output_type": "execute_result",
          "data": {
            "text/plain": [
              "(60000, 28, 28, 1)"
            ]
          },
          "metadata": {
            "tags": []
          },
          "execution_count": 127
        }
      ]
    },
    {
      "cell_type": "code",
      "metadata": {
        "id": "IVq4gI_CtbJ5",
        "colab_type": "code",
        "colab": {
          "base_uri": "https://localhost:8080/",
          "height": 35
        },
        "outputId": "1762ac4c-129d-49ff-cf37-0604ba150830"
      },
      "source": [
        "num_testing_examples = ds_info.splits['test'].num_examples\n",
        "num_testing_examples"
      ],
      "execution_count": 55,
      "outputs": [
        {
          "output_type": "execute_result",
          "data": {
            "text/plain": [
              "10000"
            ]
          },
          "metadata": {
            "tags": []
          },
          "execution_count": 55
        }
      ]
    },
    {
      "cell_type": "code",
      "metadata": {
        "id": "kYaHYg2IvzlE",
        "colab_type": "code",
        "colab": {}
      },
      "source": [
        "ds_test_iter = ds_test.as_numpy_iterator()"
      ],
      "execution_count": 79,
      "outputs": []
    },
    {
      "cell_type": "code",
      "metadata": {
        "id": "Mp5NFhkVwJFU",
        "colab_type": "code",
        "colab": {}
      },
      "source": [
        "test_images, test_labels = zip(*[ds_test_iter.next() for i in range(num_testing_examples)])\n",
        "test_images = np.asarray(test_images)"
      ],
      "execution_count": 158,
      "outputs": []
    },
    {
      "cell_type": "code",
      "metadata": {
        "id": "c_eoLZgxadpN",
        "colab_type": "code",
        "colab": {}
      },
      "source": [
        "# ds_train = ds_train.take(10)"
      ],
      "execution_count": 128,
      "outputs": []
    },
    {
      "cell_type": "code",
      "metadata": {
        "id": "wRswy17f-hZU",
        "colab_type": "code",
        "colab": {}
      },
      "source": [
        "ds_train = ds_train.cache()\n",
        "ds_train = ds_train.shuffle(ds_info.splits['train'].num_examples)\n",
        "ds_train = ds_train.batch(128)\n",
        "ds_train = ds_train.prefetch(tf.data.experimental.AUTOTUNE)"
      ],
      "execution_count": 12,
      "outputs": []
    },
    {
      "cell_type": "code",
      "metadata": {
        "id": "rA75n0hv-hcv",
        "colab_type": "code",
        "colab": {}
      },
      "source": [
        "ds_test = ds_test.batch(128)\n",
        "ds_test = ds_test.cache()\n",
        "ds_test = ds_test.prefetch(tf.data.experimental.AUTOTUNE)"
      ],
      "execution_count": 13,
      "outputs": []
    },
    {
      "cell_type": "code",
      "metadata": {
        "id": "g9td20Wq-hgB",
        "colab_type": "code",
        "colab": {
          "base_uri": "https://localhost:8080/",
          "height": 490
        },
        "outputId": "b84557c7-c06e-46e1-ab12-99732984f03f"
      },
      "source": [
        "control_model = tf.keras.models.Sequential([\n",
        "  tf.keras.Input([28, 28]), \n",
        "  tf.keras.layers.Reshape([28, 28, 1]), \n",
        "  tf.keras.layers.Conv2D(64, 3, 2, activation='relu'), \n",
        "  tf.keras.layers.BatchNormalization(),\n",
        "  tf.keras.layers.Dropout(0.2),\n",
        "  tf.keras.layers.Conv2D(64, 3, 2, activation='relu'), \n",
        "  tf.keras.layers.BatchNormalization(),\n",
        "  tf.keras.layers.Dropout(0.2),\n",
        "  tf.keras.layers.GlobalAveragePooling2D(), \n",
        "  #tf.keras.layers.Dense(10, activation='softmax')])\n",
        "  tf.keras.layers.Dense(10, activation=None)])\n",
        "\n",
        "#control_model.compile('adam', 'sparse_categorical_crossentropy', ['accuracy'])\n",
        "control_model.compile('adam', softmax_sparse_categorical_crossentropy, ['accuracy'])\n",
        "control_model.summary()"
      ],
      "execution_count": 14,
      "outputs": [
        {
          "output_type": "stream",
          "text": [
            "Model: \"sequential_1\"\n",
            "_________________________________________________________________\n",
            "Layer (type)                 Output Shape              Param #   \n",
            "=================================================================\n",
            "reshape_1 (Reshape)          (None, 28, 28, 1)         0         \n",
            "_________________________________________________________________\n",
            "conv2d_2 (Conv2D)            (None, 13, 13, 64)        640       \n",
            "_________________________________________________________________\n",
            "batch_normalization_2 (Batch (None, 13, 13, 64)        256       \n",
            "_________________________________________________________________\n",
            "dropout_2 (Dropout)          (None, 13, 13, 64)        0         \n",
            "_________________________________________________________________\n",
            "conv2d_3 (Conv2D)            (None, 6, 6, 64)          36928     \n",
            "_________________________________________________________________\n",
            "batch_normalization_3 (Batch (None, 6, 6, 64)          256       \n",
            "_________________________________________________________________\n",
            "dropout_3 (Dropout)          (None, 6, 6, 64)          0         \n",
            "_________________________________________________________________\n",
            "global_average_pooling2d_1 ( (None, 64)                0         \n",
            "_________________________________________________________________\n",
            "dense_1 (Dense)              (None, 10)                650       \n",
            "=================================================================\n",
            "Total params: 38,730\n",
            "Trainable params: 38,474\n",
            "Non-trainable params: 256\n",
            "_________________________________________________________________\n"
          ],
          "name": "stdout"
        }
      ]
    },
    {
      "cell_type": "code",
      "metadata": {
        "id": "5SOj9cBa-y5w",
        "colab_type": "code",
        "colab": {
          "base_uri": "https://localhost:8080/",
          "height": 217
        },
        "outputId": "90dd11a1-13b5-4bc4-e747-23547e680142"
      },
      "source": [
        "control_model.fit(ds_train, epochs=5)"
      ],
      "execution_count": 16,
      "outputs": [
        {
          "output_type": "stream",
          "text": [
            "Epoch 1/5\n",
            "469/469 [==============================] - 2s 4ms/step - loss: 0.9943 - accuracy: 0.7281\n",
            "Epoch 2/5\n",
            "469/469 [==============================] - 2s 4ms/step - loss: 0.3918 - accuracy: 0.9002\n",
            "Epoch 3/5\n",
            "469/469 [==============================] - 2s 4ms/step - loss: 0.2727 - accuracy: 0.9261\n",
            "Epoch 4/5\n",
            "469/469 [==============================] - 2s 4ms/step - loss: 0.2261 - accuracy: 0.9355\n",
            "Epoch 5/5\n",
            "469/469 [==============================] - 2s 4ms/step - loss: 0.1967 - accuracy: 0.9431\n"
          ],
          "name": "stdout"
        },
        {
          "output_type": "execute_result",
          "data": {
            "text/plain": [
              "<tensorflow.python.keras.callbacks.History at 0x7f111fecfc88>"
            ]
          },
          "metadata": {
            "tags": []
          },
          "execution_count": 16
        }
      ]
    },
    {
      "cell_type": "code",
      "metadata": {
        "id": "1ryNekBy-y9Z",
        "colab_type": "code",
        "colab": {
          "base_uri": "https://localhost:8080/",
          "height": 72
        },
        "outputId": "5ab439cf-210b-494e-e6b8-6bc96b79b47d"
      },
      "source": [
        "test_loss, test_acc = control_model.evaluate(ds_test)\n",
        "print(\"Test Loss:\", test_loss)\n",
        "print(\"Test Accuracy:\", test_acc)"
      ],
      "execution_count": 17,
      "outputs": [
        {
          "output_type": "stream",
          "text": [
            "79/79 [==============================] - 2s 20ms/step - loss: 0.2019 - accuracy: 0.9366\n",
            "Test Loss: 0.20186038315296173\n",
            "Test Accuracy: 0.9366000294685364\n"
          ],
          "name": "stdout"
        }
      ]
    },
    {
      "cell_type": "code",
      "metadata": {
        "id": "c92vASME-zAh",
        "colab_type": "code",
        "colab": {
          "base_uri": "https://localhost:8080/",
          "height": 599
        },
        "outputId": "4e572765-de52-4eb0-e3a2-5fc3cc93b1b4"
      },
      "source": [
        "teacher_model = tf.keras.models.Sequential([\n",
        "  tf.keras.Input([28, 28]), \n",
        "  tf.keras.layers.Reshape([28, 28, 1]), \n",
        "  tf.keras.layers.Conv2D(64, 3, 2, activation='relu'), \n",
        "  tf.keras.layers.BatchNormalization(),\n",
        "  tf.keras.layers.Dropout(0.2),\n",
        "  tf.keras.layers.Conv2D(64, 3, 2, activation='relu'), \n",
        "  tf.keras.layers.BatchNormalization(),\n",
        "  tf.keras.layers.Dropout(0.2),\n",
        "  tf.keras.layers.Conv2D(64, 3, 2, activation='relu'), \n",
        "  tf.keras.layers.BatchNormalization(),\n",
        "  tf.keras.layers.Dropout(0.2),\n",
        "  tf.keras.layers.GlobalAveragePooling2D(), \n",
        "  #tf.keras.layers.Dense(10, activation='softmax')])\n",
        "  tf.keras.layers.Dense(10, activation=None)])\n",
        "\n",
        "#teacher_model.compile('adam', 'sparse_categorical_crossentropy', ['accuracy'])\n",
        "teacher_model.compile('adam', softmax_sparse_categorical_crossentropy, ['accuracy'])\n",
        "teacher_model.summary()"
      ],
      "execution_count": 18,
      "outputs": [
        {
          "output_type": "stream",
          "text": [
            "Model: \"sequential_2\"\n",
            "_________________________________________________________________\n",
            "Layer (type)                 Output Shape              Param #   \n",
            "=================================================================\n",
            "reshape_2 (Reshape)          (None, 28, 28, 1)         0         \n",
            "_________________________________________________________________\n",
            "conv2d_4 (Conv2D)            (None, 13, 13, 64)        640       \n",
            "_________________________________________________________________\n",
            "batch_normalization_4 (Batch (None, 13, 13, 64)        256       \n",
            "_________________________________________________________________\n",
            "dropout_4 (Dropout)          (None, 13, 13, 64)        0         \n",
            "_________________________________________________________________\n",
            "conv2d_5 (Conv2D)            (None, 6, 6, 64)          36928     \n",
            "_________________________________________________________________\n",
            "batch_normalization_5 (Batch (None, 6, 6, 64)          256       \n",
            "_________________________________________________________________\n",
            "dropout_5 (Dropout)          (None, 6, 6, 64)          0         \n",
            "_________________________________________________________________\n",
            "conv2d_6 (Conv2D)            (None, 2, 2, 64)          36928     \n",
            "_________________________________________________________________\n",
            "batch_normalization_6 (Batch (None, 2, 2, 64)          256       \n",
            "_________________________________________________________________\n",
            "dropout_6 (Dropout)          (None, 2, 2, 64)          0         \n",
            "_________________________________________________________________\n",
            "global_average_pooling2d_2 ( (None, 64)                0         \n",
            "_________________________________________________________________\n",
            "dense_2 (Dense)              (None, 10)                650       \n",
            "=================================================================\n",
            "Total params: 75,914\n",
            "Trainable params: 75,530\n",
            "Non-trainable params: 384\n",
            "_________________________________________________________________\n"
          ],
          "name": "stdout"
        }
      ]
    },
    {
      "cell_type": "code",
      "metadata": {
        "id": "vVHj1dtW-zD9",
        "colab_type": "code",
        "colab": {
          "base_uri": "https://localhost:8080/",
          "height": 217
        },
        "outputId": "a515b520-afd4-4370-ec52-7ae6f6274d8d"
      },
      "source": [
        "teacher_model.fit(ds_train, epochs=5)"
      ],
      "execution_count": 19,
      "outputs": [
        {
          "output_type": "stream",
          "text": [
            "Epoch 1/5\n",
            "469/469 [==============================] - 2s 4ms/step - loss: 0.3886 - accuracy: 0.8934\n",
            "Epoch 2/5\n",
            "469/469 [==============================] - 2s 4ms/step - loss: 0.1210 - accuracy: 0.9650\n",
            "Epoch 3/5\n",
            "469/469 [==============================] - 2s 4ms/step - loss: 0.0868 - accuracy: 0.9746\n",
            "Epoch 4/5\n",
            "469/469 [==============================] - 2s 4ms/step - loss: 0.0733 - accuracy: 0.9776\n",
            "Epoch 5/5\n",
            "469/469 [==============================] - 2s 4ms/step - loss: 0.0627 - accuracy: 0.9812\n"
          ],
          "name": "stdout"
        },
        {
          "output_type": "execute_result",
          "data": {
            "text/plain": [
              "<tensorflow.python.keras.callbacks.History at 0x7f111fecfb38>"
            ]
          },
          "metadata": {
            "tags": []
          },
          "execution_count": 19
        }
      ]
    },
    {
      "cell_type": "code",
      "metadata": {
        "id": "_RArgOS4-zHe",
        "colab_type": "code",
        "colab": {
          "base_uri": "https://localhost:8080/",
          "height": 72
        },
        "outputId": "6575546f-09b6-496b-c42f-5773ee6f8bf7"
      },
      "source": [
        "test_loss, test_acc = teacher_model.evaluate(ds_test)\n",
        "print(\"Test Loss:\", test_loss)\n",
        "print(\"Test Accuracy:\", test_acc)"
      ],
      "execution_count": 20,
      "outputs": [
        {
          "output_type": "stream",
          "text": [
            "79/79 [==============================] - 0s 2ms/step - loss: 0.0470 - accuracy: 0.9854\n",
            "Test Loss: 0.047029588371515274\n",
            "Test Accuracy: 0.9854000210762024\n"
          ],
          "name": "stdout"
        }
      ]
    },
    {
      "cell_type": "code",
      "metadata": {
        "id": "A4uyY2IeS3PI",
        "colab_type": "code",
        "colab": {}
      },
      "source": [
        "# train_images = list(map(lambda x:tf.reshape(x,(-1,28,28,1)), train_images))"
      ],
      "execution_count": 111,
      "outputs": []
    },
    {
      "cell_type": "code",
      "metadata": {
        "id": "tKr8x3jR-zKo",
        "colab_type": "code",
        "colab": {
          "base_uri": "https://localhost:8080/",
          "height": 35
        },
        "outputId": "e00f8450-a7e3-42f9-e9d6-163832c50cc3"
      },
      "source": [
        "ds_train_images = tf.data.Dataset.from_tensor_slices(list(map(lambda x:tf.reshape(x,(-1,28,28,1)), train_images)))\n",
        "soft_labels = teacher_model.predict(ds_train_images,verbose=1)"
      ],
      "execution_count": 22,
      "outputs": [
        {
          "output_type": "stream",
          "text": [
            "60000/60000 [==============================] - 71s 1ms/step\n"
          ],
          "name": "stdout"
        }
      ]
    },
    {
      "cell_type": "code",
      "metadata": {
        "id": "uocqXT5E-hmi",
        "colab_type": "code",
        "colab": {}
      },
      "source": [
        "temperature = 3\n",
        "afterwards_temperature = 1\n",
        "\n",
        "def temperature_softmax(logits):\n",
        "  soft_logits = tf.keras.backend.exp(logits / temperature)\n",
        "  return soft_logits / tf.keras.backend.sum(soft_logits, axis=-1, keepdims=True) / afterwards_temperature\n",
        "\n",
        "def distillation_loss(labels, logits):\n",
        "  labels = temperature_softmax(labels)\n",
        "  logits = temperature_softmax(logits)\n",
        "\n",
        "  return -tf.keras.backend.mean(labels * tf.keras.backend.log(logits))"
      ],
      "execution_count": 23,
      "outputs": []
    },
    {
      "cell_type": "code",
      "metadata": {
        "id": "98gz8b64-hpv",
        "colab_type": "code",
        "colab": {
          "base_uri": "https://localhost:8080/",
          "height": 490
        },
        "outputId": "3c59319d-13f0-40a3-c3fa-9cb3b14d9958"
      },
      "source": [
        "student_model = tf.keras.models.Sequential([\n",
        "  tf.keras.Input([28, 28]), \n",
        "  tf.keras.layers.Reshape([28, 28, 1]), \n",
        "  tf.keras.layers.Conv2D(64, 3, 2, activation='relu'), \n",
        "  tf.keras.layers.BatchNormalization(),\n",
        "  tf.keras.layers.Dropout(0.2),\n",
        "  tf.keras.layers.Conv2D(64, 3, 2, activation='relu'), \n",
        "  tf.keras.layers.BatchNormalization(),\n",
        "  tf.keras.layers.Dropout(0.2),\n",
        "  tf.keras.layers.GlobalAveragePooling2D(), \n",
        "  # tf.keras.layers.Dense(10, activation='softmax')])\n",
        "  tf.keras.layers.Dense(10, activation=None)])\n",
        "\n",
        "student_model.compile('adam', distillation_loss, ['accuracy'])\n",
        "student_model.summary()"
      ],
      "execution_count": 24,
      "outputs": [
        {
          "output_type": "stream",
          "text": [
            "Model: \"sequential_3\"\n",
            "_________________________________________________________________\n",
            "Layer (type)                 Output Shape              Param #   \n",
            "=================================================================\n",
            "reshape_3 (Reshape)          (None, 28, 28, 1)         0         \n",
            "_________________________________________________________________\n",
            "conv2d_7 (Conv2D)            (None, 13, 13, 64)        640       \n",
            "_________________________________________________________________\n",
            "batch_normalization_7 (Batch (None, 13, 13, 64)        256       \n",
            "_________________________________________________________________\n",
            "dropout_7 (Dropout)          (None, 13, 13, 64)        0         \n",
            "_________________________________________________________________\n",
            "conv2d_8 (Conv2D)            (None, 6, 6, 64)          36928     \n",
            "_________________________________________________________________\n",
            "batch_normalization_8 (Batch (None, 6, 6, 64)          256       \n",
            "_________________________________________________________________\n",
            "dropout_8 (Dropout)          (None, 6, 6, 64)          0         \n",
            "_________________________________________________________________\n",
            "global_average_pooling2d_3 ( (None, 64)                0         \n",
            "_________________________________________________________________\n",
            "dense_3 (Dense)              (None, 10)                650       \n",
            "=================================================================\n",
            "Total params: 38,730\n",
            "Trainable params: 38,474\n",
            "Non-trainable params: 256\n",
            "_________________________________________________________________\n"
          ],
          "name": "stdout"
        }
      ]
    },
    {
      "cell_type": "code",
      "metadata": {
        "id": "wc3N-eNO-hty",
        "colab_type": "code",
        "colab": {
          "base_uri": "https://localhost:8080/",
          "height": 399
        },
        "outputId": "f6185ce8-5720-41b4-bfc6-234ba152b577"
      },
      "source": [
        "student_model.fit(train_images, soft_labels, epochs=10)"
      ],
      "execution_count": 77,
      "outputs": [
        {
          "output_type": "stream",
          "text": [
            "Epoch 1/10\n",
            "1875/1875 [==============================] - 5s 3ms/step - loss: 0.0920 - accuracy: 0.9492\n",
            "Epoch 2/10\n",
            "1875/1875 [==============================] - 5s 2ms/step - loss: 0.0920 - accuracy: 0.9486\n",
            "Epoch 3/10\n",
            "1875/1875 [==============================] - 5s 2ms/step - loss: 0.0916 - accuracy: 0.9514\n",
            "Epoch 4/10\n",
            "1875/1875 [==============================] - 5s 3ms/step - loss: 0.0918 - accuracy: 0.9490\n",
            "Epoch 5/10\n",
            "1875/1875 [==============================] - 5s 2ms/step - loss: 0.0917 - accuracy: 0.9494\n",
            "Epoch 6/10\n",
            "1875/1875 [==============================] - 5s 2ms/step - loss: 0.0916 - accuracy: 0.9500\n",
            "Epoch 7/10\n",
            "1875/1875 [==============================] - 5s 3ms/step - loss: 0.0915 - accuracy: 0.9515\n",
            "Epoch 8/10\n",
            "1875/1875 [==============================] - 5s 2ms/step - loss: 0.0915 - accuracy: 0.9507\n",
            "Epoch 9/10\n",
            "1875/1875 [==============================] - 5s 2ms/step - loss: 0.0914 - accuracy: 0.9518\n",
            "Epoch 10/10\n",
            "1875/1875 [==============================] - 5s 3ms/step - loss: 0.0914 - accuracy: 0.9517\n"
          ],
          "name": "stdout"
        },
        {
          "output_type": "execute_result",
          "data": {
            "text/plain": [
              "<tensorflow.python.keras.callbacks.History at 0x7f10e2e51630>"
            ]
          },
          "metadata": {
            "tags": []
          },
          "execution_count": 77
        }
      ]
    },
    {
      "cell_type": "code",
      "metadata": {
        "id": "sGtZ_R7otzbn",
        "colab_type": "code",
        "colab": {}
      },
      "source": [
        "test_images, test_labels = zip(*[ds_test_iter.next() for i in range(num_testing_examples)])"
      ],
      "execution_count": 80,
      "outputs": []
    },
    {
      "cell_type": "code",
      "metadata": {
        "id": "K1JBr7_-vH8_",
        "colab_type": "code",
        "colab": {}
      },
      "source": [
        "test_images = tf.cast(test_images, dtype='float64')\n",
        "test_labels = tf.cast(test_labels, dtype='float64')"
      ],
      "execution_count": 81,
      "outputs": []
    },
    {
      "cell_type": "code",
      "metadata": {
        "id": "QU053TO8uOp1",
        "colab_type": "code",
        "colab": {
          "base_uri": "https://localhost:8080/",
          "height": 72
        },
        "outputId": "2a10e306-0210-4d1e-801a-6ef57b49a41a"
      },
      "source": [
        "test_loss, test_acc = student_model.evaluate(test_images, test_labels)\n",
        "print(\"Test Loss:\", test_loss)\n",
        "print(\"Test Accuracy:\", test_acc)"
      ],
      "execution_count": 82,
      "outputs": [
        {
          "output_type": "stream",
          "text": [
            "313/313 [==============================] - 1s 2ms/step - loss: 4.2175 - accuracy: 0.0975\n",
            "Test Loss: 4.21751594543457\n",
            "Test Accuracy: 0.09749999642372131\n"
          ],
          "name": "stdout"
        }
      ]
    },
    {
      "cell_type": "code",
      "metadata": {
        "id": "DcFbURFhqt7a",
        "colab_type": "code",
        "colab": {}
      },
      "source": [
        ""
      ],
      "execution_count": null,
      "outputs": []
    }
  ]
}