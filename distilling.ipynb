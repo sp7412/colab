{
  "nbformat": 4,
  "nbformat_minor": 0,
  "metadata": {
    "colab": {
      "name": "distilling.ipynb",
      "provenance": [],
      "collapsed_sections": [],
      "authorship_tag": "ABX9TyPl/zle2Kc2JIUdA6mm/QiP",
      "include_colab_link": true
    },
    "kernelspec": {
      "name": "python3",
      "display_name": "Python 3"
    },
    "accelerator": "GPU",
    "widgets": {
      "application/vnd.jupyter.widget-state+json": {
        "afc8710805ed4affa2d12c879b51a6cd": {
          "model_module": "@jupyter-widgets/controls",
          "model_name": "HBoxModel",
          "state": {
            "_view_name": "HBoxView",
            "_dom_classes": [],
            "_model_name": "HBoxModel",
            "_view_module": "@jupyter-widgets/controls",
            "_model_module_version": "1.5.0",
            "_view_count": null,
            "_view_module_version": "1.5.0",
            "box_style": "",
            "layout": "IPY_MODEL_1563ac56c0af43c49e39e3becd45e32b",
            "_model_module": "@jupyter-widgets/controls",
            "children": [
              "IPY_MODEL_8eec03c68a6740b3b1f23782c298a690",
              "IPY_MODEL_1e0b617732044b1e91d8dc04aba04a23"
            ]
          }
        },
        "1563ac56c0af43c49e39e3becd45e32b": {
          "model_module": "@jupyter-widgets/base",
          "model_name": "LayoutModel",
          "state": {
            "_view_name": "LayoutView",
            "grid_template_rows": null,
            "right": null,
            "justify_content": null,
            "_view_module": "@jupyter-widgets/base",
            "overflow": null,
            "_model_module_version": "1.2.0",
            "_view_count": null,
            "flex_flow": null,
            "width": null,
            "min_width": null,
            "border": null,
            "align_items": null,
            "bottom": null,
            "_model_module": "@jupyter-widgets/base",
            "top": null,
            "grid_column": null,
            "overflow_y": null,
            "overflow_x": null,
            "grid_auto_flow": null,
            "grid_area": null,
            "grid_template_columns": null,
            "flex": null,
            "_model_name": "LayoutModel",
            "justify_items": null,
            "grid_row": null,
            "max_height": null,
            "align_content": null,
            "visibility": null,
            "align_self": null,
            "height": null,
            "min_height": null,
            "padding": null,
            "grid_auto_rows": null,
            "grid_gap": null,
            "max_width": null,
            "order": null,
            "_view_module_version": "1.2.0",
            "grid_template_areas": null,
            "object_position": null,
            "object_fit": null,
            "grid_auto_columns": null,
            "margin": null,
            "display": null,
            "left": null
          }
        },
        "8eec03c68a6740b3b1f23782c298a690": {
          "model_module": "@jupyter-widgets/controls",
          "model_name": "FloatProgressModel",
          "state": {
            "_view_name": "ProgressView",
            "style": "IPY_MODEL_0f376f1fb51a4d8da72ce0b5751035bf",
            "_dom_classes": [],
            "description": "Dl Completed...: 100%",
            "_model_name": "FloatProgressModel",
            "bar_style": "success",
            "max": 4,
            "_view_module": "@jupyter-widgets/controls",
            "_model_module_version": "1.5.0",
            "value": 4,
            "_view_count": null,
            "_view_module_version": "1.5.0",
            "orientation": "horizontal",
            "min": 0,
            "description_tooltip": null,
            "_model_module": "@jupyter-widgets/controls",
            "layout": "IPY_MODEL_eed657246c1c4cbd906f326ff3621f2a"
          }
        },
        "1e0b617732044b1e91d8dc04aba04a23": {
          "model_module": "@jupyter-widgets/controls",
          "model_name": "HTMLModel",
          "state": {
            "_view_name": "HTMLView",
            "style": "IPY_MODEL_6156e14db05343deb8ce5cbe75ea34cf",
            "_dom_classes": [],
            "description": "",
            "_model_name": "HTMLModel",
            "placeholder": "​",
            "_view_module": "@jupyter-widgets/controls",
            "_model_module_version": "1.5.0",
            "value": " 4/4 [00:29&lt;00:00,  7.32s/ file]",
            "_view_count": null,
            "_view_module_version": "1.5.0",
            "description_tooltip": null,
            "_model_module": "@jupyter-widgets/controls",
            "layout": "IPY_MODEL_03c7c834e7eb47e682bf84c47dd40ebf"
          }
        },
        "0f376f1fb51a4d8da72ce0b5751035bf": {
          "model_module": "@jupyter-widgets/controls",
          "model_name": "ProgressStyleModel",
          "state": {
            "_view_name": "StyleView",
            "_model_name": "ProgressStyleModel",
            "description_width": "initial",
            "_view_module": "@jupyter-widgets/base",
            "_model_module_version": "1.5.0",
            "_view_count": null,
            "_view_module_version": "1.2.0",
            "bar_color": null,
            "_model_module": "@jupyter-widgets/controls"
          }
        },
        "eed657246c1c4cbd906f326ff3621f2a": {
          "model_module": "@jupyter-widgets/base",
          "model_name": "LayoutModel",
          "state": {
            "_view_name": "LayoutView",
            "grid_template_rows": null,
            "right": null,
            "justify_content": null,
            "_view_module": "@jupyter-widgets/base",
            "overflow": null,
            "_model_module_version": "1.2.0",
            "_view_count": null,
            "flex_flow": null,
            "width": null,
            "min_width": null,
            "border": null,
            "align_items": null,
            "bottom": null,
            "_model_module": "@jupyter-widgets/base",
            "top": null,
            "grid_column": null,
            "overflow_y": null,
            "overflow_x": null,
            "grid_auto_flow": null,
            "grid_area": null,
            "grid_template_columns": null,
            "flex": null,
            "_model_name": "LayoutModel",
            "justify_items": null,
            "grid_row": null,
            "max_height": null,
            "align_content": null,
            "visibility": null,
            "align_self": null,
            "height": null,
            "min_height": null,
            "padding": null,
            "grid_auto_rows": null,
            "grid_gap": null,
            "max_width": null,
            "order": null,
            "_view_module_version": "1.2.0",
            "grid_template_areas": null,
            "object_position": null,
            "object_fit": null,
            "grid_auto_columns": null,
            "margin": null,
            "display": null,
            "left": null
          }
        },
        "6156e14db05343deb8ce5cbe75ea34cf": {
          "model_module": "@jupyter-widgets/controls",
          "model_name": "DescriptionStyleModel",
          "state": {
            "_view_name": "StyleView",
            "_model_name": "DescriptionStyleModel",
            "description_width": "",
            "_view_module": "@jupyter-widgets/base",
            "_model_module_version": "1.5.0",
            "_view_count": null,
            "_view_module_version": "1.2.0",
            "_model_module": "@jupyter-widgets/controls"
          }
        },
        "03c7c834e7eb47e682bf84c47dd40ebf": {
          "model_module": "@jupyter-widgets/base",
          "model_name": "LayoutModel",
          "state": {
            "_view_name": "LayoutView",
            "grid_template_rows": null,
            "right": null,
            "justify_content": null,
            "_view_module": "@jupyter-widgets/base",
            "overflow": null,
            "_model_module_version": "1.2.0",
            "_view_count": null,
            "flex_flow": null,
            "width": null,
            "min_width": null,
            "border": null,
            "align_items": null,
            "bottom": null,
            "_model_module": "@jupyter-widgets/base",
            "top": null,
            "grid_column": null,
            "overflow_y": null,
            "overflow_x": null,
            "grid_auto_flow": null,
            "grid_area": null,
            "grid_template_columns": null,
            "flex": null,
            "_model_name": "LayoutModel",
            "justify_items": null,
            "grid_row": null,
            "max_height": null,
            "align_content": null,
            "visibility": null,
            "align_self": null,
            "height": null,
            "min_height": null,
            "padding": null,
            "grid_auto_rows": null,
            "grid_gap": null,
            "max_width": null,
            "order": null,
            "_view_module_version": "1.2.0",
            "grid_template_areas": null,
            "object_position": null,
            "object_fit": null,
            "grid_auto_columns": null,
            "margin": null,
            "display": null,
            "left": null
          }
        }
      }
    }
  },
  "cells": [
    {
      "cell_type": "markdown",
      "metadata": {
        "id": "view-in-github",
        "colab_type": "text"
      },
      "source": [
        "<a href=\"https://colab.research.google.com/github/sp7412/colab/blob/master/distilling.ipynb\" target=\"_parent\"><img src=\"https://colab.research.google.com/assets/colab-badge.svg\" alt=\"Open In Colab\"/></a>"
      ]
    },
    {
      "cell_type": "code",
      "metadata": {
        "id": "oE7AKZfdoNUp",
        "colab_type": "code",
        "colab": {
          "base_uri": "https://localhost:8080/",
          "height": 381
        },
        "outputId": "bc6a8c04-b19e-463c-f40f-49f138ad08d9"
      },
      "source": [
        "!nvidia-smi"
      ],
      "execution_count": 1,
      "outputs": [
        {
          "output_type": "stream",
          "text": [
            "Thu Aug  6 14:49:32 2020       \n",
            "+-----------------------------------------------------------------------------+\n",
            "| NVIDIA-SMI 450.57       Driver Version: 418.67       CUDA Version: 10.1     |\n",
            "|-------------------------------+----------------------+----------------------+\n",
            "| GPU  Name        Persistence-M| Bus-Id        Disp.A | Volatile Uncorr. ECC |\n",
            "| Fan  Temp  Perf  Pwr:Usage/Cap|         Memory-Usage | GPU-Util  Compute M. |\n",
            "|                               |                      |               MIG M. |\n",
            "|===============================+======================+======================|\n",
            "|   0  Tesla T4            Off  | 00000000:00:04.0 Off |                    0 |\n",
            "| N/A   52C    P8    11W /  70W |      0MiB / 15079MiB |      0%      Default |\n",
            "|                               |                      |                 ERR! |\n",
            "+-------------------------------+----------------------+----------------------+\n",
            "                                                                               \n",
            "+-----------------------------------------------------------------------------+\n",
            "| Processes:                                                                  |\n",
            "|  GPU   GI   CI        PID   Type   Process name                  GPU Memory |\n",
            "|        ID   ID                                                   Usage      |\n",
            "|=============================================================================|\n",
            "|  No running processes found                                                 |\n",
            "+-----------------------------------------------------------------------------+\n"
          ],
          "name": "stdout"
        }
      ]
    },
    {
      "cell_type": "code",
      "metadata": {
        "id": "6-IFpKGE-hDq",
        "colab_type": "code",
        "colab": {}
      },
      "source": [
        "import tensorflow as tf\n",
        "import tensorflow_datasets as tfds\n",
        "import numpy as np"
      ],
      "execution_count": 2,
      "outputs": []
    },
    {
      "cell_type": "code",
      "metadata": {
        "id": "4vcv77RgQCuo",
        "colab_type": "code",
        "colab": {
          "base_uri": "https://localhost:8080/",
          "height": 54
        },
        "outputId": "587a5e7a-f124-41d9-cff4-358272ee263f"
      },
      "source": [
        "GPUs = tf.config.experimental.list_physical_devices('GPU')\n",
        "# get list of GPUs on host\n",
        "if GPUs:\n",
        "    print(\"Tensorflow detected GPUs\")\n",
        "    try:\n",
        "        # Currently, memory growth needs to be the same across GPUs\n",
        "        for gpu in GPUs:\n",
        "            tf.config.experimental.set_memory_growth(gpu, True)\n",
        "        logical_gpus = tf.config.experimental.list_logical_devices('GPU')\n",
        "        print(len(GPUs), \"Physical GPUs,\", len(logical_gpus), \"Logical GPUs\")\n",
        "    except RuntimeError as e:\n",
        "        print(\"Memory growth must be set before GPUs have been initialized\")\n",
        "        print(e)"
      ],
      "execution_count": 4,
      "outputs": [
        {
          "output_type": "stream",
          "text": [
            "Tensorflow detected GPUs\n",
            "1 Physical GPUs, 1 Logical GPUs\n"
          ],
          "name": "stdout"
        }
      ]
    },
    {
      "cell_type": "code",
      "metadata": {
        "id": "qkKuT9h9-hOV",
        "colab_type": "code",
        "colab": {}
      },
      "source": [
        "def normalize_img(image, label):\n",
        "  \"\"\"Normalizes images: `uint8` -> `float32`.\"\"\"\n",
        "  return tf.cast(image, tf.float32) / 255., label\n",
        "\n",
        "def softmax_sparse_categorical_crossentropy(labels, logits):\n",
        "  softmaxed = tf.keras.backend.softmax(logits)\n",
        "\n",
        "  return tf.keras.losses.sparse_categorical_crossentropy(labels, softmaxed)"
      ],
      "execution_count": 5,
      "outputs": []
    },
    {
      "cell_type": "code",
      "metadata": {
        "id": "eLJY6Gl3-hVc",
        "colab_type": "code",
        "colab": {
          "base_uri": "https://localhost:8080/",
          "height": 213,
          "referenced_widgets": [
            "afc8710805ed4affa2d12c879b51a6cd",
            "1563ac56c0af43c49e39e3becd45e32b",
            "8eec03c68a6740b3b1f23782c298a690",
            "1e0b617732044b1e91d8dc04aba04a23",
            "0f376f1fb51a4d8da72ce0b5751035bf",
            "eed657246c1c4cbd906f326ff3621f2a",
            "6156e14db05343deb8ce5cbe75ea34cf",
            "03c7c834e7eb47e682bf84c47dd40ebf"
          ]
        },
        "outputId": "499ab90f-0c49-48be-9729-6135fde201e7"
      },
      "source": [
        "(ds_train, ds_test), ds_info = tfds.load(\n",
        "    'mnist',\n",
        "    split=['train', 'test'],\n",
        "    shuffle_files=True,\n",
        "    as_supervised=True,\n",
        "    with_info=True,\n",
        ")\n",
        "\n",
        "ds_train = ds_train.map(\n",
        "    normalize_img, num_parallel_calls=tf.data.experimental.AUTOTUNE)\n",
        "\n",
        "ds_test = ds_test.map(\n",
        "    normalize_img, num_parallel_calls=tf.data.experimental.AUTOTUNE)"
      ],
      "execution_count": 6,
      "outputs": [
        {
          "output_type": "stream",
          "text": [
            "WARNING:absl:Dataset mnist is hosted on GCS. It will automatically be downloaded to your\n",
            "local data directory. If you'd instead prefer to read directly from our public\n",
            "GCS bucket (recommended if you're running on GCP), you can instead set\n",
            "data_dir=gs://tfds-data/datasets.\n",
            "\n"
          ],
          "name": "stderr"
        },
        {
          "output_type": "stream",
          "text": [
            "\u001b[1mDownloading and preparing dataset mnist/3.0.0 (download: 11.06 MiB, generated: Unknown size, total: 11.06 MiB) to /root/tensorflow_datasets/mnist/3.0.0...\u001b[0m\n"
          ],
          "name": "stdout"
        },
        {
          "output_type": "display_data",
          "data": {
            "application/vnd.jupyter.widget-view+json": {
              "model_id": "afc8710805ed4affa2d12c879b51a6cd",
              "version_minor": 0,
              "version_major": 2
            },
            "text/plain": [
              "HBox(children=(FloatProgress(value=0.0, description='Dl Completed...', max=4.0, style=ProgressStyle(descriptio…"
            ]
          },
          "metadata": {
            "tags": []
          }
        },
        {
          "output_type": "stream",
          "text": [
            "\n",
            "\n",
            "\u001b[1mDataset mnist downloaded and prepared to /root/tensorflow_datasets/mnist/3.0.0. Subsequent calls will reuse this data.\u001b[0m\n"
          ],
          "name": "stdout"
        }
      ]
    },
    {
      "cell_type": "code",
      "metadata": {
        "id": "2fyXxLU2gQGO",
        "colab_type": "code",
        "colab": {}
      },
      "source": [
        "num_classes = ds_info.features['label'].num_classes"
      ],
      "execution_count": 7,
      "outputs": []
    },
    {
      "cell_type": "code",
      "metadata": {
        "id": "ooQK3sXuOb85",
        "colab_type": "code",
        "colab": {
          "base_uri": "https://localhost:8080/",
          "height": 35
        },
        "outputId": "2b91706d-5f00-426a-9842-d2cdf1856467"
      },
      "source": [
        "ds_info.features['image'].shape"
      ],
      "execution_count": 8,
      "outputs": [
        {
          "output_type": "execute_result",
          "data": {
            "text/plain": [
              "(28, 28, 1)"
            ]
          },
          "metadata": {
            "tags": []
          },
          "execution_count": 8
        }
      ]
    },
    {
      "cell_type": "code",
      "metadata": {
        "id": "elT2HSSsOF88",
        "colab_type": "code",
        "colab": {
          "base_uri": "https://localhost:8080/",
          "height": 35
        },
        "outputId": "f0709d79-8eeb-4b9f-e8ae-3c4709878ba0"
      },
      "source": [
        "num_training_examples = ds_info.splits['train'].num_examples\n",
        "num_training_examples"
      ],
      "execution_count": 9,
      "outputs": [
        {
          "output_type": "execute_result",
          "data": {
            "text/plain": [
              "60000"
            ]
          },
          "metadata": {
            "tags": []
          },
          "execution_count": 9
        }
      ]
    },
    {
      "cell_type": "code",
      "metadata": {
        "id": "-IqmqPPgHADV",
        "colab_type": "code",
        "colab": {}
      },
      "source": [
        "ds_train_iter = ds_train.as_numpy_iterator()\n",
        "train_images, train_labels = zip(*[ds_train_iter.next() for i in range(num_training_examples)])\n",
        "train_images = np.asarray(train_images)"
      ],
      "execution_count": 10,
      "outputs": []
    },
    {
      "cell_type": "code",
      "metadata": {
        "id": "FVvKY-K2YkoQ",
        "colab_type": "code",
        "colab": {
          "base_uri": "https://localhost:8080/",
          "height": 35
        },
        "outputId": "1fbbf7f5-94d0-4d6d-bdc6-c551744891b8"
      },
      "source": [
        "# labels are integers so we need to use sparse_categorical_crossentropy instead of categorical_crossentropy\n",
        "train_labels[:2]"
      ],
      "execution_count": 44,
      "outputs": [
        {
          "output_type": "execute_result",
          "data": {
            "text/plain": [
              "(1, 0)"
            ]
          },
          "metadata": {
            "tags": []
          },
          "execution_count": 44
        }
      ]
    },
    {
      "cell_type": "code",
      "metadata": {
        "id": "zZZgx7GJhr0-",
        "colab_type": "code",
        "colab": {
          "base_uri": "https://localhost:8080/",
          "height": 299
        },
        "outputId": "04ff4531-ac85-43a2-e053-89db0c038df6"
      },
      "source": [
        "import matplotlib.pyplot as plt\n",
        "idx = 10\n",
        "plt.imshow(np.squeeze(train_images[idx]))\n",
        "plt.title(train_labels[idx])"
      ],
      "execution_count": 11,
      "outputs": [
        {
          "output_type": "execute_result",
          "data": {
            "text/plain": [
              "Text(0.5, 1.0, '6')"
            ]
          },
          "metadata": {
            "tags": []
          },
          "execution_count": 11
        },
        {
          "output_type": "display_data",
          "data": {
            "image/png": "[encoded data removed]",
            "text/plain": [
              "<Figure size 432x288 with 1 Axes>"
            ]
          },
          "metadata": {
            "tags": [],
            "needs_background": "light"
          }
        }
      ]
    },
    {
      "cell_type": "code",
      "metadata": {
        "id": "Flk4vFoKbE8_",
        "colab_type": "code",
        "colab": {
          "base_uri": "https://localhost:8080/",
          "height": 35
        },
        "outputId": "28c1aa91-062f-4888-a31d-b2767cdf6fbc"
      },
      "source": [
        "train_images.shape"
      ],
      "execution_count": 12,
      "outputs": [
        {
          "output_type": "execute_result",
          "data": {
            "text/plain": [
              "(60000, 28, 28, 1)"
            ]
          },
          "metadata": {
            "tags": []
          },
          "execution_count": 12
        }
      ]
    },
    {
      "cell_type": "code",
      "metadata": {
        "id": "IVq4gI_CtbJ5",
        "colab_type": "code",
        "colab": {
          "base_uri": "https://localhost:8080/",
          "height": 35
        },
        "outputId": "3842911e-8147-4f01-b190-ddb15651d779"
      },
      "source": [
        "num_testing_examples = ds_info.splits['test'].num_examples\n",
        "num_testing_examples"
      ],
      "execution_count": 13,
      "outputs": [
        {
          "output_type": "execute_result",
          "data": {
            "text/plain": [
              "10000"
            ]
          },
          "metadata": {
            "tags": []
          },
          "execution_count": 13
        }
      ]
    },
    {
      "cell_type": "code",
      "metadata": {
        "id": "wRswy17f-hZU",
        "colab_type": "code",
        "colab": {}
      },
      "source": [
        "ds_train = ds_train.cache()\n",
        "ds_train = ds_train.shuffle(ds_info.splits['train'].num_examples)\n",
        "ds_train = ds_train.batch(128)\n",
        "ds_train = ds_train.prefetch(tf.data.experimental.AUTOTUNE)"
      ],
      "execution_count": 14,
      "outputs": []
    },
    {
      "cell_type": "code",
      "metadata": {
        "id": "kYaHYg2IvzlE",
        "colab_type": "code",
        "colab": {}
      },
      "source": [
        "ds_test_iter = ds_test.as_numpy_iterator()"
      ],
      "execution_count": 15,
      "outputs": []
    },
    {
      "cell_type": "code",
      "metadata": {
        "id": "Mp5NFhkVwJFU",
        "colab_type": "code",
        "colab": {}
      },
      "source": [
        "test_images, test_labels = zip(*[ds_test_iter.next() for i in range(num_testing_examples)])"
      ],
      "execution_count": 16,
      "outputs": []
    },
    {
      "cell_type": "code",
      "metadata": {
        "id": "rA75n0hv-hcv",
        "colab_type": "code",
        "colab": {}
      },
      "source": [
        "ds_test = ds_test.batch(128)\n",
        "ds_test = ds_test.cache()\n",
        "ds_test = ds_test.prefetch(tf.data.experimental.AUTOTUNE)"
      ],
      "execution_count": 17,
      "outputs": []
    },
    {
      "cell_type": "code",
      "metadata": {
        "id": "g9td20Wq-hgB",
        "colab_type": "code",
        "colab": {
          "base_uri": "https://localhost:8080/",
          "height": 490
        },
        "outputId": "258561f3-2f69-4b3c-c4f6-5dc13baba4f2"
      },
      "source": [
        "control_model = tf.keras.models.Sequential([\n",
        "  tf.keras.Input([28, 28]), \n",
        "  tf.keras.layers.Reshape([28, 28, 1]), \n",
        "  tf.keras.layers.Conv2D(64, 3, 2, activation='relu'), \n",
        "  tf.keras.layers.BatchNormalization(),\n",
        "  tf.keras.layers.Dropout(0.2),\n",
        "  tf.keras.layers.Conv2D(64, 3, 2, activation='relu'), \n",
        "  tf.keras.layers.BatchNormalization(),\n",
        "  tf.keras.layers.Dropout(0.2),\n",
        "  tf.keras.layers.GlobalAveragePooling2D(), \n",
        "  tf.keras.layers.Dense(10, activation='softmax')])\n",
        "  # tf.keras.layers.Dense(10, activation=None)])\n",
        "\n",
        "control_model.compile('adam', 'sparse_categorical_crossentropy', ['accuracy'])\n",
        "# control_model.compile(optimizer='adam', loss='categorical_crossentropy',metrics=['accuracy'])\n",
        "# control_model.compile('adam', softmax_sparse_categorical_crossentropy, ['accuracy'])\n",
        "control_model.summary()"
      ],
      "execution_count": 23,
      "outputs": [
        {
          "output_type": "stream",
          "text": [
            "Model: \"sequential_2\"\n",
            "_________________________________________________________________\n",
            "Layer (type)                 Output Shape              Param #   \n",
            "=================================================================\n",
            "reshape_2 (Reshape)          (None, 28, 28, 1)         0         \n",
            "_________________________________________________________________\n",
            "conv2d_5 (Conv2D)            (None, 13, 13, 64)        640       \n",
            "_________________________________________________________________\n",
            "batch_normalization_5 (Batch (None, 13, 13, 64)        256       \n",
            "_________________________________________________________________\n",
            "dropout_5 (Dropout)          (None, 13, 13, 64)        0         \n",
            "_________________________________________________________________\n",
            "conv2d_6 (Conv2D)            (None, 6, 6, 64)          36928     \n",
            "_________________________________________________________________\n",
            "batch_normalization_6 (Batch (None, 6, 6, 64)          256       \n",
            "_________________________________________________________________\n",
            "dropout_6 (Dropout)          (None, 6, 6, 64)          0         \n",
            "_________________________________________________________________\n",
            "global_average_pooling2d_2 ( (None, 64)                0         \n",
            "_________________________________________________________________\n",
            "dense_2 (Dense)              (None, 10)                650       \n",
            "=================================================================\n",
            "Total params: 38,730\n",
            "Trainable params: 38,474\n",
            "Non-trainable params: 256\n",
            "_________________________________________________________________\n"
          ],
          "name": "stdout"
        }
      ]
    },
    {
      "cell_type": "code",
      "metadata": {
        "id": "5SOj9cBa-y5w",
        "colab_type": "code",
        "colab": {
          "base_uri": "https://localhost:8080/",
          "height": 1000
        },
        "outputId": "ff83302b-29cf-4859-c1d8-d029bdb2202c"
      },
      "source": [
        "control_model.fit(train_images,np.asarray(train_labels), epochs=30,validation_split=0.2)"
      ],
      "execution_count": 27,
      "outputs": [
        {
          "output_type": "stream",
          "text": [
            "Epoch 1/30\n",
            "1500/1500 [==============================] - 4s 3ms/step - loss: 0.7569 - accuracy: 0.7876 - val_loss: 0.3512 - val_accuracy: 0.9003\n",
            "Epoch 2/30\n",
            "1500/1500 [==============================] - 4s 3ms/step - loss: 0.3116 - accuracy: 0.9101 - val_loss: 0.2254 - val_accuracy: 0.9377\n",
            "Epoch 3/30\n",
            "1500/1500 [==============================] - 4s 3ms/step - loss: 0.2494 - accuracy: 0.9267 - val_loss: 0.2221 - val_accuracy: 0.9357\n",
            "Epoch 4/30\n",
            "1500/1500 [==============================] - 4s 3ms/step - loss: 0.2206 - accuracy: 0.9324 - val_loss: 0.2010 - val_accuracy: 0.9408\n",
            "Epoch 5/30\n",
            "1500/1500 [==============================] - 4s 3ms/step - loss: 0.2006 - accuracy: 0.9387 - val_loss: 0.1940 - val_accuracy: 0.9398\n",
            "Epoch 6/30\n",
            "1500/1500 [==============================] - 4s 3ms/step - loss: 0.1874 - accuracy: 0.9422 - val_loss: 0.1646 - val_accuracy: 0.9505\n",
            "Epoch 7/30\n",
            "1500/1500 [==============================] - 4s 3ms/step - loss: 0.1822 - accuracy: 0.9436 - val_loss: 0.1163 - val_accuracy: 0.9672\n",
            "Epoch 8/30\n",
            "1500/1500 [==============================] - 4s 3ms/step - loss: 0.1723 - accuracy: 0.9451 - val_loss: 0.1257 - val_accuracy: 0.9617\n",
            "Epoch 9/30\n",
            "1500/1500 [==============================] - 4s 3ms/step - loss: 0.1677 - accuracy: 0.9473 - val_loss: 0.1156 - val_accuracy: 0.9648\n",
            "Epoch 10/30\n",
            "1500/1500 [==============================] - 4s 3ms/step - loss: 0.1604 - accuracy: 0.9500 - val_loss: 0.1504 - val_accuracy: 0.9513\n",
            "Epoch 11/30\n",
            "1500/1500 [==============================] - 4s 3ms/step - loss: 0.1569 - accuracy: 0.9510 - val_loss: 0.1223 - val_accuracy: 0.9616\n",
            "Epoch 12/30\n",
            "1500/1500 [==============================] - 4s 3ms/step - loss: 0.1521 - accuracy: 0.9518 - val_loss: 0.1301 - val_accuracy: 0.9597\n",
            "Epoch 13/30\n",
            "1500/1500 [==============================] - 4s 3ms/step - loss: 0.1509 - accuracy: 0.9524 - val_loss: 0.1148 - val_accuracy: 0.9635\n",
            "Epoch 14/30\n",
            "1500/1500 [==============================] - 4s 3ms/step - loss: 0.1469 - accuracy: 0.9530 - val_loss: 0.1045 - val_accuracy: 0.9672\n",
            "Epoch 15/30\n",
            "1500/1500 [==============================] - 5s 3ms/step - loss: 0.1471 - accuracy: 0.9531 - val_loss: 0.0952 - val_accuracy: 0.9700\n",
            "Epoch 16/30\n",
            "1500/1500 [==============================] - 5s 3ms/step - loss: 0.1398 - accuracy: 0.9550 - val_loss: 0.1289 - val_accuracy: 0.9600\n",
            "Epoch 17/30\n",
            "1500/1500 [==============================] - 4s 3ms/step - loss: 0.1383 - accuracy: 0.9567 - val_loss: 0.0943 - val_accuracy: 0.9697\n",
            "Epoch 18/30\n",
            "1500/1500 [==============================] - 4s 3ms/step - loss: 0.1361 - accuracy: 0.9562 - val_loss: 0.0943 - val_accuracy: 0.9688\n",
            "Epoch 19/30\n",
            "1500/1500 [==============================] - 4s 3ms/step - loss: 0.1345 - accuracy: 0.9570 - val_loss: 0.0915 - val_accuracy: 0.9715\n",
            "Epoch 20/30\n",
            "1500/1500 [==============================] - 4s 3ms/step - loss: 0.1328 - accuracy: 0.9569 - val_loss: 0.0938 - val_accuracy: 0.9697\n",
            "Epoch 21/30\n",
            "1500/1500 [==============================] - 4s 3ms/step - loss: 0.1261 - accuracy: 0.9599 - val_loss: 0.0851 - val_accuracy: 0.9738\n",
            "Epoch 22/30\n",
            "1500/1500 [==============================] - 4s 3ms/step - loss: 0.1281 - accuracy: 0.9582 - val_loss: 0.0916 - val_accuracy: 0.9712\n",
            "Epoch 23/30\n",
            "1500/1500 [==============================] - 4s 3ms/step - loss: 0.1258 - accuracy: 0.9595 - val_loss: 0.1004 - val_accuracy: 0.9672\n",
            "Epoch 24/30\n",
            "1500/1500 [==============================] - 4s 3ms/step - loss: 0.1224 - accuracy: 0.9607 - val_loss: 0.0880 - val_accuracy: 0.9719\n",
            "Epoch 25/30\n",
            "1500/1500 [==============================] - 4s 3ms/step - loss: 0.1238 - accuracy: 0.9603 - val_loss: 0.1011 - val_accuracy: 0.9697\n",
            "Epoch 26/30\n",
            "1500/1500 [==============================] - 4s 3ms/step - loss: 0.1231 - accuracy: 0.9593 - val_loss: 0.0993 - val_accuracy: 0.9704\n",
            "Epoch 27/30\n",
            "1500/1500 [==============================] - 4s 3ms/step - loss: 0.1216 - accuracy: 0.9599 - val_loss: 0.0896 - val_accuracy: 0.9719\n",
            "Epoch 28/30\n",
            "1500/1500 [==============================] - 4s 3ms/step - loss: 0.1190 - accuracy: 0.9618 - val_loss: 0.0976 - val_accuracy: 0.9688\n",
            "Epoch 29/30\n",
            "1500/1500 [==============================] - 4s 3ms/step - loss: 0.1211 - accuracy: 0.9607 - val_loss: 0.1002 - val_accuracy: 0.9680\n",
            "Epoch 30/30\n",
            "1500/1500 [==============================] - 4s 3ms/step - loss: 0.1182 - accuracy: 0.9624 - val_loss: 0.0954 - val_accuracy: 0.9694\n"
          ],
          "name": "stdout"
        },
        {
          "output_type": "execute_result",
          "data": {
            "text/plain": [
              "<tensorflow.python.keras.callbacks.History at 0x7f43f5c74be0>"
            ]
          },
          "metadata": {
            "tags": []
          },
          "execution_count": 27
        }
      ]
    },
    {
      "cell_type": "code",
      "metadata": {
        "id": "cNryVCWhQ6MC",
        "colab_type": "code",
        "colab": {
          "base_uri": "https://localhost:8080/",
          "height": 72
        },
        "outputId": "fc15610c-8b5d-4024-de5d-8ad1b88c437a"
      },
      "source": [
        "test_loss, test_acc = control_model.evaluate(ds_test)\n",
        "print(\"Test Loss:\", test_loss)\n",
        "print(\"Test Accuracy:\", test_acc)"
      ],
      "execution_count": 28,
      "outputs": [
        {
          "output_type": "stream",
          "text": [
            "79/79 [==============================] - 0s 2ms/step - loss: 0.0912 - accuracy: 0.9711\n",
            "Test Loss: 0.09120030701160431\n",
            "Test Accuracy: 0.9710999727249146\n"
          ],
          "name": "stdout"
        }
      ]
    },
    {
      "cell_type": "code",
      "metadata": {
        "id": "PdBz7tjgvbaT",
        "colab_type": "code",
        "colab": {
          "base_uri": "https://localhost:8080/",
          "height": 72
        },
        "outputId": "13e83821-b756-4156-f5c7-9f9d93d0b9fd"
      },
      "source": [
        "test_loss, test_acc = control_model.evaluate(np.asarray(test_images),np.asarray(test_labels))\n",
        "print(\"Test Loss:\", test_loss)\n",
        "print(\"Test Accuracy:\", test_acc)"
      ],
      "execution_count": 31,
      "outputs": [
        {
          "output_type": "stream",
          "text": [
            "313/313 [==============================] - 1s 2ms/step - loss: 0.0912 - accuracy: 0.9711\n",
            "Test Loss: 0.0912003442645073\n",
            "Test Accuracy: 0.9710999727249146\n"
          ],
          "name": "stdout"
        }
      ]
    },
    {
      "cell_type": "code",
      "metadata": {
        "id": "c92vASME-zAh",
        "colab_type": "code",
        "colab": {
          "base_uri": "https://localhost:8080/",
          "height": 599
        },
        "outputId": "ca34bed9-2e63-47b1-e048-419b82812a16"
      },
      "source": [
        "teacher_model = tf.keras.models.Sequential([\n",
        "  tf.keras.Input([28, 28]), \n",
        "  tf.keras.layers.Reshape([28, 28, 1]), \n",
        "  tf.keras.layers.Conv2D(64, 3, 2, activation='relu'), \n",
        "  tf.keras.layers.BatchNormalization(),\n",
        "  tf.keras.layers.Dropout(0.2),\n",
        "  tf.keras.layers.Conv2D(64, 3, 2, activation='relu'), \n",
        "  tf.keras.layers.BatchNormalization(),\n",
        "  tf.keras.layers.Dropout(0.2),\n",
        "  tf.keras.layers.Conv2D(64, 3, 2, activation='relu'), \n",
        "  tf.keras.layers.BatchNormalization(),\n",
        "  tf.keras.layers.Dropout(0.2),\n",
        "  tf.keras.layers.GlobalAveragePooling2D(), \n",
        "  #tf.keras.layers.Dense(10, activation='softmax')])\n",
        "  tf.keras.layers.Dense(10, activation=None)])\n",
        "\n",
        "# teacher_model.compile('adam', 'sparse_categorical_crossentropy', ['accuracy']) # awful\n",
        "teacher_model.compile('adam', softmax_sparse_categorical_crossentropy, ['accuracy'])\n",
        "teacher_model.summary()"
      ],
      "execution_count": 35,
      "outputs": [
        {
          "output_type": "stream",
          "text": [
            "Model: \"sequential_5\"\n",
            "_________________________________________________________________\n",
            "Layer (type)                 Output Shape              Param #   \n",
            "=================================================================\n",
            "reshape_5 (Reshape)          (None, 28, 28, 1)         0         \n",
            "_________________________________________________________________\n",
            "conv2d_13 (Conv2D)           (None, 13, 13, 64)        640       \n",
            "_________________________________________________________________\n",
            "batch_normalization_13 (Batc (None, 13, 13, 64)        256       \n",
            "_________________________________________________________________\n",
            "dropout_13 (Dropout)         (None, 13, 13, 64)        0         \n",
            "_________________________________________________________________\n",
            "conv2d_14 (Conv2D)           (None, 6, 6, 64)          36928     \n",
            "_________________________________________________________________\n",
            "batch_normalization_14 (Batc (None, 6, 6, 64)          256       \n",
            "_________________________________________________________________\n",
            "dropout_14 (Dropout)         (None, 6, 6, 64)          0         \n",
            "_________________________________________________________________\n",
            "conv2d_15 (Conv2D)           (None, 2, 2, 64)          36928     \n",
            "_________________________________________________________________\n",
            "batch_normalization_15 (Batc (None, 2, 2, 64)          256       \n",
            "_________________________________________________________________\n",
            "dropout_15 (Dropout)         (None, 2, 2, 64)          0         \n",
            "_________________________________________________________________\n",
            "global_average_pooling2d_5 ( (None, 64)                0         \n",
            "_________________________________________________________________\n",
            "dense_5 (Dense)              (None, 10)                650       \n",
            "=================================================================\n",
            "Total params: 75,914\n",
            "Trainable params: 75,530\n",
            "Non-trainable params: 384\n",
            "_________________________________________________________________\n"
          ],
          "name": "stdout"
        }
      ]
    },
    {
      "cell_type": "code",
      "metadata": {
        "id": "vVHj1dtW-zD9",
        "colab_type": "code",
        "colab": {
          "base_uri": "https://localhost:8080/",
          "height": 1000
        },
        "outputId": "75b51ab0-a57a-424f-bfc9-0b75fb458831"
      },
      "source": [
        "teacher_model.fit(ds_train, epochs=40)"
      ],
      "execution_count": 36,
      "outputs": [
        {
          "output_type": "stream",
          "text": [
            "Epoch 1/40\n",
            "469/469 [==============================] - 2s 4ms/step - loss: 0.3976 - accuracy: 0.8902\n",
            "Epoch 2/40\n",
            "469/469 [==============================] - 2s 4ms/step - loss: 0.1272 - accuracy: 0.9636\n",
            "Epoch 3/40\n",
            "469/469 [==============================] - 2s 4ms/step - loss: 0.0929 - accuracy: 0.9724\n",
            "Epoch 4/40\n",
            "469/469 [==============================] - 2s 4ms/step - loss: 0.0749 - accuracy: 0.9779\n",
            "Epoch 5/40\n",
            "469/469 [==============================] - 2s 4ms/step - loss: 0.0669 - accuracy: 0.9794\n",
            "Epoch 6/40\n",
            "469/469 [==============================] - 2s 4ms/step - loss: 0.0582 - accuracy: 0.9819\n",
            "Epoch 7/40\n",
            "469/469 [==============================] - 2s 4ms/step - loss: 0.0529 - accuracy: 0.9834\n",
            "Epoch 8/40\n",
            "469/469 [==============================] - 2s 4ms/step - loss: 0.0479 - accuracy: 0.9850\n",
            "Epoch 9/40\n",
            "469/469 [==============================] - 2s 4ms/step - loss: 0.0451 - accuracy: 0.9856\n",
            "Epoch 10/40\n",
            "469/469 [==============================] - 2s 4ms/step - loss: 0.0418 - accuracy: 0.9869\n",
            "Epoch 11/40\n",
            "469/469 [==============================] - 2s 4ms/step - loss: 0.0403 - accuracy: 0.9875\n",
            "Epoch 12/40\n",
            "469/469 [==============================] - 2s 4ms/step - loss: 0.0380 - accuracy: 0.9881\n",
            "Epoch 13/40\n",
            "469/469 [==============================] - 2s 4ms/step - loss: 0.0369 - accuracy: 0.9878\n",
            "Epoch 14/40\n",
            "469/469 [==============================] - 2s 4ms/step - loss: 0.0349 - accuracy: 0.9884\n",
            "Epoch 15/40\n",
            "469/469 [==============================] - 2s 4ms/step - loss: 0.0326 - accuracy: 0.9890\n",
            "Epoch 16/40\n",
            "469/469 [==============================] - 2s 4ms/step - loss: 0.0304 - accuracy: 0.9900\n",
            "Epoch 17/40\n",
            "469/469 [==============================] - 2s 4ms/step - loss: 0.0299 - accuracy: 0.9902\n",
            "Epoch 18/40\n",
            "469/469 [==============================] - 2s 4ms/step - loss: 0.0289 - accuracy: 0.9898\n",
            "Epoch 19/40\n",
            "469/469 [==============================] - 2s 4ms/step - loss: 0.0279 - accuracy: 0.9910\n",
            "Epoch 20/40\n",
            "469/469 [==============================] - 2s 4ms/step - loss: 0.0263 - accuracy: 0.9912\n",
            "Epoch 21/40\n",
            "469/469 [==============================] - 2s 4ms/step - loss: 0.0262 - accuracy: 0.9912\n",
            "Epoch 22/40\n",
            "469/469 [==============================] - 2s 4ms/step - loss: 0.0253 - accuracy: 0.9914\n",
            "Epoch 23/40\n",
            "469/469 [==============================] - 2s 4ms/step - loss: 0.0240 - accuracy: 0.9922\n",
            "Epoch 24/40\n",
            "469/469 [==============================] - 2s 4ms/step - loss: 0.0242 - accuracy: 0.9918\n",
            "Epoch 25/40\n",
            "469/469 [==============================] - 2s 4ms/step - loss: 0.0247 - accuracy: 0.9920\n",
            "Epoch 26/40\n",
            "469/469 [==============================] - 2s 4ms/step - loss: 0.0239 - accuracy: 0.9918\n",
            "Epoch 27/40\n",
            "469/469 [==============================] - 2s 4ms/step - loss: 0.0211 - accuracy: 0.9929\n",
            "Epoch 28/40\n",
            "469/469 [==============================] - 2s 4ms/step - loss: 0.0200 - accuracy: 0.9930\n",
            "Epoch 29/40\n",
            "469/469 [==============================] - 2s 4ms/step - loss: 0.0220 - accuracy: 0.9928\n",
            "Epoch 30/40\n",
            "469/469 [==============================] - 2s 4ms/step - loss: 0.0205 - accuracy: 0.9928\n",
            "Epoch 31/40\n",
            "469/469 [==============================] - 2s 4ms/step - loss: 0.0220 - accuracy: 0.9921\n",
            "Epoch 32/40\n",
            "469/469 [==============================] - 2s 4ms/step - loss: 0.0212 - accuracy: 0.9928\n",
            "Epoch 33/40\n",
            "469/469 [==============================] - 2s 4ms/step - loss: 0.0198 - accuracy: 0.9934\n",
            "Epoch 34/40\n",
            "469/469 [==============================] - 2s 4ms/step - loss: 0.0186 - accuracy: 0.9936\n",
            "Epoch 35/40\n",
            "469/469 [==============================] - 2s 4ms/step - loss: 0.0186 - accuracy: 0.9936\n",
            "Epoch 36/40\n",
            "469/469 [==============================] - 2s 4ms/step - loss: 0.0189 - accuracy: 0.9937\n",
            "Epoch 37/40\n",
            "469/469 [==============================] - 2s 4ms/step - loss: 0.0182 - accuracy: 0.9940\n",
            "Epoch 38/40\n",
            "469/469 [==============================] - 2s 4ms/step - loss: 0.0180 - accuracy: 0.9936\n",
            "Epoch 39/40\n",
            "469/469 [==============================] - 2s 4ms/step - loss: 0.0172 - accuracy: 0.9943\n",
            "Epoch 40/40\n",
            "469/469 [==============================] - 2s 4ms/step - loss: 0.0175 - accuracy: 0.9939\n"
          ],
          "name": "stdout"
        },
        {
          "output_type": "execute_result",
          "data": {
            "text/plain": [
              "<tensorflow.python.keras.callbacks.History at 0x7f43f4dc2ac8>"
            ]
          },
          "metadata": {
            "tags": []
          },
          "execution_count": 36
        }
      ]
    },
    {
      "cell_type": "code",
      "metadata": {
        "id": "kBaTy-juQ2RL",
        "colab_type": "code",
        "colab": {
          "base_uri": "https://localhost:8080/",
          "height": 72
        },
        "outputId": "de41977d-eb99-4a30-aa97-29278afbec4b"
      },
      "source": [
        "test_loss, test_acc = teacher_model.evaluate(ds_test)\n",
        "print(\"Test Loss:\", test_loss)\n",
        "print(\"Test Accuracy:\", test_acc)"
      ],
      "execution_count": 37,
      "outputs": [
        {
          "output_type": "stream",
          "text": [
            "79/79 [==============================] - 0s 2ms/step - loss: 0.0315 - accuracy: 0.9916\n",
            "Test Loss: 0.03152507171034813\n",
            "Test Accuracy: 0.991599977016449\n"
          ],
          "name": "stdout"
        }
      ]
    },
    {
      "cell_type": "code",
      "metadata": {
        "id": "tKr8x3jR-zKo",
        "colab_type": "code",
        "colab": {
          "base_uri": "https://localhost:8080/",
          "height": 35
        },
        "outputId": "178b4e93-6fb7-4269-b137-c840902bda90"
      },
      "source": [
        "ds_train_images = tf.data.Dataset.from_tensor_slices(list(map(lambda x:tf.reshape(x,(-1,28,28,1)), train_images)))\n",
        "soft_labels_train = teacher_model.predict(train_images,verbose=1)"
      ],
      "execution_count": 38,
      "outputs": [
        {
          "output_type": "stream",
          "text": [
            "1875/1875 [==============================] - 2s 1ms/step\n"
          ],
          "name": "stdout"
        }
      ]
    },
    {
      "cell_type": "code",
      "metadata": {
        "id": "goR4MB_NhiJM",
        "colab_type": "code",
        "colab": {
          "base_uri": "https://localhost:8080/",
          "height": 254
        },
        "outputId": "085dfe9f-716e-4393-cdcc-0b595595e30f"
      },
      "source": [
        "soft_labels_train"
      ],
      "execution_count": 39,
      "outputs": [
        {
          "output_type": "execute_result",
          "data": {
            "text/plain": [
              "array([[ -1.0065963 ,  14.832432  ,   0.95538414, ...,   3.1830795 ,\n",
              "         -1.1765536 ,  -1.5471779 ],\n",
              "       [ 21.29068   ,  -4.1315365 ,  -0.55932367, ...,  -6.327407  ,\n",
              "         -5.881832  ,  -2.3061526 ],\n",
              "       [ -4.356993  ,   6.273755  ,  -1.1109675 , ...,   3.6377504 ,\n",
              "         -1.4271237 ,  -1.903285  ],\n",
              "       ...,\n",
              "       [  7.9176154 ,  -1.4114485 ,   0.23747845, ...,  -8.882339  ,\n",
              "          0.26183182,  -9.117241  ],\n",
              "       [ -2.809055  ,  17.37452   ,  -2.2765884 , ...,   2.0608976 ,\n",
              "          0.8182487 ,  -1.8203354 ],\n",
              "       [ -7.982747  , -12.50778   ,  -7.6023836 , ...,  -2.6798337 ,\n",
              "          5.9955473 ,   2.7410467 ]], dtype=float32)"
            ]
          },
          "metadata": {
            "tags": []
          },
          "execution_count": 39
        }
      ]
    },
    {
      "cell_type": "code",
      "metadata": {
        "id": "uocqXT5E-hmi",
        "colab_type": "code",
        "colab": {}
      },
      "source": [
        "temperature = 3\n",
        "afterwards_temperature = 1\n",
        "\n",
        "def temperature_softmax(logits):\n",
        "  soft_logits = tf.keras.backend.exp(logits / temperature)\n",
        "  return soft_logits / tf.keras.backend.sum(soft_logits, axis=-1, keepdims=True) / afterwards_temperature\n",
        "\n",
        "def distillation_loss(labels, logits):\n",
        "  labels = temperature_softmax(labels)\n",
        "  logits = temperature_softmax(logits)\n",
        "\n",
        "  return -tf.keras.backend.mean(labels * tf.keras.backend.log(logits))"
      ],
      "execution_count": 54,
      "outputs": []
    },
    {
      "cell_type": "code",
      "metadata": {
        "id": "98gz8b64-hpv",
        "colab_type": "code",
        "colab": {
          "base_uri": "https://localhost:8080/",
          "height": 490
        },
        "outputId": "941e4e5b-775a-4a02-87db-600a3355166d"
      },
      "source": [
        "student_model = tf.keras.models.Sequential([\n",
        "  tf.keras.Input([28, 28]), \n",
        "  tf.keras.layers.Reshape([28, 28, 1]), \n",
        "  tf.keras.layers.Conv2D(64, 3, 2, activation='relu'), \n",
        "  tf.keras.layers.BatchNormalization(),\n",
        "  tf.keras.layers.Dropout(0.2),\n",
        "  tf.keras.layers.Conv2D(64, 3, 2, activation='relu'), \n",
        "  tf.keras.layers.BatchNormalization(),\n",
        "  tf.keras.layers.Dropout(0.2),\n",
        "  tf.keras.layers.GlobalAveragePooling2D(), \n",
        "  # tf.keras.layers.Dense(10, activation='softmax')])\n",
        "  tf.keras.layers.Dense(10, activation=None)])\n",
        "\n",
        "student_model.compile('adam', distillation_loss, ['accuracy'])\n",
        "student_model.summary()"
      ],
      "execution_count": 55,
      "outputs": [
        {
          "output_type": "stream",
          "text": [
            "Model: \"sequential_10\"\n",
            "_________________________________________________________________\n",
            "Layer (type)                 Output Shape              Param #   \n",
            "=================================================================\n",
            "reshape_10 (Reshape)         (None, 28, 28, 1)         0         \n",
            "_________________________________________________________________\n",
            "conv2d_24 (Conv2D)           (None, 13, 13, 64)        640       \n",
            "_________________________________________________________________\n",
            "batch_normalization_24 (Batc (None, 13, 13, 64)        256       \n",
            "_________________________________________________________________\n",
            "dropout_24 (Dropout)         (None, 13, 13, 64)        0         \n",
            "_________________________________________________________________\n",
            "conv2d_25 (Conv2D)           (None, 6, 6, 64)          36928     \n",
            "_________________________________________________________________\n",
            "batch_normalization_25 (Batc (None, 6, 6, 64)          256       \n",
            "_________________________________________________________________\n",
            "dropout_25 (Dropout)         (None, 6, 6, 64)          0         \n",
            "_________________________________________________________________\n",
            "global_average_pooling2d_10  (None, 64)                0         \n",
            "_________________________________________________________________\n",
            "dense_10 (Dense)             (None, 10)                650       \n",
            "=================================================================\n",
            "Total params: 38,730\n",
            "Trainable params: 38,474\n",
            "Non-trainable params: 256\n",
            "_________________________________________________________________\n"
          ],
          "name": "stdout"
        }
      ]
    },
    {
      "cell_type": "code",
      "metadata": {
        "id": "Y1sr_FM-jXek",
        "colab_type": "code",
        "colab": {
          "base_uri": "https://localhost:8080/",
          "height": 1000
        },
        "outputId": "6ba3a783-8ada-4845-d293-72e96d42cdd6"
      },
      "source": [
        "student_model.fit(train_images, soft_labels_train, epochs=50, validation_split=0.2)"
      ],
      "execution_count": 56,
      "outputs": [
        {
          "output_type": "stream",
          "text": [
            "Epoch 1/50\n",
            "1500/1500 [==============================] - 5s 3ms/step - loss: 0.1109 - accuracy: 0.7270 - val_loss: 0.0772 - val_accuracy: 0.8201\n",
            "Epoch 2/50\n",
            "1500/1500 [==============================] - 4s 3ms/step - loss: 0.0552 - accuracy: 0.9015 - val_loss: 0.0520 - val_accuracy: 0.9118\n",
            "Epoch 3/50\n",
            "1500/1500 [==============================] - 4s 3ms/step - loss: 0.0466 - accuracy: 0.9251 - val_loss: 0.0499 - val_accuracy: 0.9107\n",
            "Epoch 4/50\n",
            "1500/1500 [==============================] - 4s 3ms/step - loss: 0.0432 - accuracy: 0.9355 - val_loss: 0.0375 - val_accuracy: 0.9557\n",
            "Epoch 5/50\n",
            "1500/1500 [==============================] - 4s 3ms/step - loss: 0.0419 - accuracy: 0.9408 - val_loss: 0.0393 - val_accuracy: 0.9504\n",
            "Epoch 6/50\n",
            "1500/1500 [==============================] - 4s 3ms/step - loss: 0.0409 - accuracy: 0.9428 - val_loss: 0.0394 - val_accuracy: 0.9499\n",
            "Epoch 7/50\n",
            "1500/1500 [==============================] - 4s 3ms/step - loss: 0.0401 - accuracy: 0.9465 - val_loss: 0.0384 - val_accuracy: 0.9539\n",
            "Epoch 8/50\n",
            "1500/1500 [==============================] - 4s 3ms/step - loss: 0.0394 - accuracy: 0.9507 - val_loss: 0.0356 - val_accuracy: 0.9608\n",
            "Epoch 9/50\n",
            "1500/1500 [==============================] - 4s 3ms/step - loss: 0.0391 - accuracy: 0.9510 - val_loss: 0.0345 - val_accuracy: 0.9663\n",
            "Epoch 10/50\n",
            "1500/1500 [==============================] - 4s 3ms/step - loss: 0.0388 - accuracy: 0.9522 - val_loss: 0.0358 - val_accuracy: 0.9614\n",
            "Epoch 11/50\n",
            "1500/1500 [==============================] - 4s 3ms/step - loss: 0.0385 - accuracy: 0.9535 - val_loss: 0.0334 - val_accuracy: 0.9698\n",
            "Epoch 12/50\n",
            "1500/1500 [==============================] - 4s 3ms/step - loss: 0.0383 - accuracy: 0.9545 - val_loss: 0.0343 - val_accuracy: 0.9658\n",
            "Epoch 13/50\n",
            "1500/1500 [==============================] - 5s 3ms/step - loss: 0.0381 - accuracy: 0.9563 - val_loss: 0.0334 - val_accuracy: 0.9710\n",
            "Epoch 14/50\n",
            "1500/1500 [==============================] - 4s 3ms/step - loss: 0.0377 - accuracy: 0.9567 - val_loss: 0.0332 - val_accuracy: 0.9717\n",
            "Epoch 15/50\n",
            "1500/1500 [==============================] - 4s 3ms/step - loss: 0.0374 - accuracy: 0.9578 - val_loss: 0.0335 - val_accuracy: 0.9704\n",
            "Epoch 16/50\n",
            "1500/1500 [==============================] - 4s 3ms/step - loss: 0.0374 - accuracy: 0.9585 - val_loss: 0.0343 - val_accuracy: 0.9693\n",
            "Epoch 17/50\n",
            "1500/1500 [==============================] - 4s 3ms/step - loss: 0.0371 - accuracy: 0.9598 - val_loss: 0.0331 - val_accuracy: 0.9711\n",
            "Epoch 18/50\n",
            "1500/1500 [==============================] - 4s 3ms/step - loss: 0.0370 - accuracy: 0.9600 - val_loss: 0.0330 - val_accuracy: 0.9731\n",
            "Epoch 19/50\n",
            "1500/1500 [==============================] - 4s 3ms/step - loss: 0.0368 - accuracy: 0.9606 - val_loss: 0.0343 - val_accuracy: 0.9682\n",
            "Epoch 20/50\n",
            "1500/1500 [==============================] - 4s 3ms/step - loss: 0.0369 - accuracy: 0.9588 - val_loss: 0.0334 - val_accuracy: 0.9696\n",
            "Epoch 21/50\n",
            "1500/1500 [==============================] - 4s 3ms/step - loss: 0.0366 - accuracy: 0.9609 - val_loss: 0.0322 - val_accuracy: 0.9737\n",
            "Epoch 22/50\n",
            "1500/1500 [==============================] - 4s 3ms/step - loss: 0.0364 - accuracy: 0.9623 - val_loss: 0.0334 - val_accuracy: 0.9686\n",
            "Epoch 23/50\n",
            "1500/1500 [==============================] - 4s 3ms/step - loss: 0.0365 - accuracy: 0.9615 - val_loss: 0.0324 - val_accuracy: 0.9724\n",
            "Epoch 24/50\n",
            "1500/1500 [==============================] - 4s 3ms/step - loss: 0.0364 - accuracy: 0.9623 - val_loss: 0.0326 - val_accuracy: 0.9728\n",
            "Epoch 25/50\n",
            "1500/1500 [==============================] - 4s 3ms/step - loss: 0.0363 - accuracy: 0.9624 - val_loss: 0.0339 - val_accuracy: 0.9680\n",
            "Epoch 26/50\n",
            "1500/1500 [==============================] - 4s 3ms/step - loss: 0.0363 - accuracy: 0.9633 - val_loss: 0.0320 - val_accuracy: 0.9746\n",
            "Epoch 27/50\n",
            "1500/1500 [==============================] - 4s 3ms/step - loss: 0.0363 - accuracy: 0.9628 - val_loss: 0.0325 - val_accuracy: 0.9724\n",
            "Epoch 28/50\n",
            "1500/1500 [==============================] - 4s 3ms/step - loss: 0.0361 - accuracy: 0.9643 - val_loss: 0.0333 - val_accuracy: 0.9728\n",
            "Epoch 29/50\n",
            "1500/1500 [==============================] - 4s 3ms/step - loss: 0.0360 - accuracy: 0.9645 - val_loss: 0.0322 - val_accuracy: 0.9740\n",
            "Epoch 30/50\n",
            "1500/1500 [==============================] - 4s 3ms/step - loss: 0.0359 - accuracy: 0.9635 - val_loss: 0.0325 - val_accuracy: 0.9731\n",
            "Epoch 31/50\n",
            "1500/1500 [==============================] - 4s 3ms/step - loss: 0.0358 - accuracy: 0.9645 - val_loss: 0.0329 - val_accuracy: 0.9712\n",
            "Epoch 32/50\n",
            "1500/1500 [==============================] - 4s 3ms/step - loss: 0.0359 - accuracy: 0.9643 - val_loss: 0.0327 - val_accuracy: 0.9730\n",
            "Epoch 33/50\n",
            "1500/1500 [==============================] - 4s 3ms/step - loss: 0.0357 - accuracy: 0.9650 - val_loss: 0.0323 - val_accuracy: 0.9747\n",
            "Epoch 34/50\n",
            "1500/1500 [==============================] - 4s 3ms/step - loss: 0.0358 - accuracy: 0.9657 - val_loss: 0.0319 - val_accuracy: 0.9740\n",
            "Epoch 35/50\n",
            "1500/1500 [==============================] - 4s 3ms/step - loss: 0.0357 - accuracy: 0.9649 - val_loss: 0.0327 - val_accuracy: 0.9737\n",
            "Epoch 36/50\n",
            "1500/1500 [==============================] - 4s 3ms/step - loss: 0.0357 - accuracy: 0.9651 - val_loss: 0.0327 - val_accuracy: 0.9712\n",
            "Epoch 37/50\n",
            "1500/1500 [==============================] - 4s 3ms/step - loss: 0.0356 - accuracy: 0.9661 - val_loss: 0.0321 - val_accuracy: 0.9737\n",
            "Epoch 38/50\n",
            "1500/1500 [==============================] - 4s 3ms/step - loss: 0.0357 - accuracy: 0.9643 - val_loss: 0.0321 - val_accuracy: 0.9749\n",
            "Epoch 39/50\n",
            "1500/1500 [==============================] - 4s 3ms/step - loss: 0.0356 - accuracy: 0.9652 - val_loss: 0.0315 - val_accuracy: 0.9776\n",
            "Epoch 40/50\n",
            "1500/1500 [==============================] - 4s 3ms/step - loss: 0.0354 - accuracy: 0.9659 - val_loss: 0.0326 - val_accuracy: 0.9732\n",
            "Epoch 41/50\n",
            "1500/1500 [==============================] - 4s 3ms/step - loss: 0.0354 - accuracy: 0.9672 - val_loss: 0.0318 - val_accuracy: 0.9741\n",
            "Epoch 42/50\n",
            "1500/1500 [==============================] - 5s 3ms/step - loss: 0.0354 - accuracy: 0.9665 - val_loss: 0.0316 - val_accuracy: 0.9758\n",
            "Epoch 43/50\n",
            "1500/1500 [==============================] - 5s 3ms/step - loss: 0.0352 - accuracy: 0.9662 - val_loss: 0.0327 - val_accuracy: 0.9740\n",
            "Epoch 44/50\n",
            "1500/1500 [==============================] - 5s 3ms/step - loss: 0.0354 - accuracy: 0.9656 - val_loss: 0.0317 - val_accuracy: 0.9772\n",
            "Epoch 45/50\n",
            "1500/1500 [==============================] - 5s 3ms/step - loss: 0.0352 - accuracy: 0.9667 - val_loss: 0.0317 - val_accuracy: 0.9754\n",
            "Epoch 46/50\n",
            "1500/1500 [==============================] - 4s 3ms/step - loss: 0.0353 - accuracy: 0.9676 - val_loss: 0.0328 - val_accuracy: 0.9715\n",
            "Epoch 47/50\n",
            "1500/1500 [==============================] - 4s 3ms/step - loss: 0.0352 - accuracy: 0.9673 - val_loss: 0.0317 - val_accuracy: 0.9748\n",
            "Epoch 48/50\n",
            "1500/1500 [==============================] - 4s 3ms/step - loss: 0.0350 - accuracy: 0.9671 - val_loss: 0.0322 - val_accuracy: 0.9726\n",
            "Epoch 49/50\n",
            "1500/1500 [==============================] - 4s 3ms/step - loss: 0.0350 - accuracy: 0.9684 - val_loss: 0.0318 - val_accuracy: 0.9750\n",
            "Epoch 50/50\n",
            "1500/1500 [==============================] - 4s 3ms/step - loss: 0.0350 - accuracy: 0.9678 - val_loss: 0.0329 - val_accuracy: 0.9726\n"
          ],
          "name": "stdout"
        },
        {
          "output_type": "execute_result",
          "data": {
            "text/plain": [
              "<tensorflow.python.keras.callbacks.History at 0x7f437abc9eb8>"
            ]
          },
          "metadata": {
            "tags": []
          },
          "execution_count": 56
        }
      ]
    },
    {
      "cell_type": "markdown",
      "metadata": {
        "id": "83t303B7ZIhm",
        "colab_type": "text"
      },
      "source": [
        "temperature = 1 > loss: 0.0106 - accuracy: 0.9670 - val_loss: 0.0084 - val_accuracy: 0.9753\n",
        "\n",
        "temperature = 3 > loss: 0.0350 - accuracy: 0.9672 - val_loss: 0.0321 - val_accuracy: 0.9725\n",
        "\n",
        "temperature = 5 > loss: 0.0967 - accuracy: 0.9610 - val_loss: 0.0930 - val_accuracy: 0.9697\n",
        "\n",
        "temperature = 7 > loss: 0.1481 - accuracy: 0.9581 - val_loss: 0.1462 - val_accuracy: 0.9645"
      ]
    },
    {
      "cell_type": "code",
      "metadata": {
        "id": "m0cF2iS5vvXT",
        "colab_type": "code",
        "colab": {}
      },
      "source": [
        "# from https://stackoverflow.com/a/58547262/5495698\n",
        "student_model.layers[-1].activation = tf.keras.activations.softmax"
      ],
      "execution_count": 57,
      "outputs": []
    },
    {
      "cell_type": "code",
      "metadata": {
        "id": "zjd8lLEtxW9q",
        "colab_type": "code",
        "colab": {}
      },
      "source": [
        "student_model.compile(optimizer='adam', loss='sparse_categorical_crossentropy',metrics=['accuracy'])"
      ],
      "execution_count": 58,
      "outputs": []
    },
    {
      "cell_type": "code",
      "metadata": {
        "id": "YcILYSmjw_Cy",
        "colab_type": "code",
        "colab": {
          "base_uri": "https://localhost:8080/",
          "height": 490
        },
        "outputId": "83fd8dfa-69a7-409f-e017-16eebcb8b487"
      },
      "source": [
        "student_model.summary()"
      ],
      "execution_count": 59,
      "outputs": [
        {
          "output_type": "stream",
          "text": [
            "Model: \"sequential_10\"\n",
            "_________________________________________________________________\n",
            "Layer (type)                 Output Shape              Param #   \n",
            "=================================================================\n",
            "reshape_10 (Reshape)         (None, 28, 28, 1)         0         \n",
            "_________________________________________________________________\n",
            "conv2d_24 (Conv2D)           (None, 13, 13, 64)        640       \n",
            "_________________________________________________________________\n",
            "batch_normalization_24 (Batc (None, 13, 13, 64)        256       \n",
            "_________________________________________________________________\n",
            "dropout_24 (Dropout)         (None, 13, 13, 64)        0         \n",
            "_________________________________________________________________\n",
            "conv2d_25 (Conv2D)           (None, 6, 6, 64)          36928     \n",
            "_________________________________________________________________\n",
            "batch_normalization_25 (Batc (None, 6, 6, 64)          256       \n",
            "_________________________________________________________________\n",
            "dropout_25 (Dropout)         (None, 6, 6, 64)          0         \n",
            "_________________________________________________________________\n",
            "global_average_pooling2d_10  (None, 64)                0         \n",
            "_________________________________________________________________\n",
            "dense_10 (Dense)             (None, 10)                650       \n",
            "=================================================================\n",
            "Total params: 38,730\n",
            "Trainable params: 38,474\n",
            "Non-trainable params: 256\n",
            "_________________________________________________________________\n"
          ],
          "name": "stdout"
        }
      ]
    },
    {
      "cell_type": "code",
      "metadata": {
        "id": "QU053TO8uOp1",
        "colab_type": "code",
        "colab": {
          "base_uri": "https://localhost:8080/",
          "height": 72
        },
        "outputId": "31295ac8-84c2-4445-f055-ddfd125158df"
      },
      "source": [
        "test_loss, test_acc = student_model.evaluate(ds_test, batch_size=128)\n",
        "print(\"Test Loss:\", test_loss)\n",
        "print(\"Test Accuracy:\", test_acc)"
      ],
      "execution_count": 60,
      "outputs": [
        {
          "output_type": "stream",
          "text": [
            "79/79 [==============================] - 0s 2ms/step - loss: 0.1116 - accuracy: 0.9726\n",
            "Test Loss: 0.11164765805006027\n",
            "Test Accuracy: 0.972599983215332\n"
          ],
          "name": "stdout"
        }
      ]
    },
    {
      "cell_type": "code",
      "metadata": {
        "id": "pJZQVeMDnrIX",
        "colab_type": "code",
        "colab": {
          "base_uri": "https://localhost:8080/",
          "height": 72
        },
        "outputId": "7c5042b3-dfaf-4688-fcf4-ba6873860bf5"
      },
      "source": [
        "test_loss, test_acc = student_model.evaluate(np.asarray(test_images),np.asarray(test_labels))\n",
        "print(\"Test Loss:\", test_loss)\n",
        "print(\"Test Accuracy:\", test_acc)"
      ],
      "execution_count": 62,
      "outputs": [
        {
          "output_type": "stream",
          "text": [
            "313/313 [==============================] - 1s 2ms/step - loss: 0.1116 - accuracy: 0.9726\n",
            "Test Loss: 0.11164768040180206\n",
            "Test Accuracy: 0.972599983215332\n"
          ],
          "name": "stdout"
        }
      ]
    },
    {
      "cell_type": "code",
      "metadata": {
        "id": "FhfJlqsWd1Xk",
        "colab_type": "code",
        "colab": {}
      },
      "source": [
        ""
      ],
      "execution_count": null,
      "outputs": []
    }
  ]
}