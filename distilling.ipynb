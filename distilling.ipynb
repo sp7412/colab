{
  "nbformat": 4,
  "nbformat_minor": 0,
  "metadata": {
    "colab": {
      "name": "distilling.ipynb",
      "provenance": [],
      "collapsed_sections": [],
      "authorship_tag": "ABX9TyPpWPOlDh0XTsmgoXFQRPr/",
      "include_colab_link": true
    },
    "kernelspec": {
      "name": "python3",
      "display_name": "Python 3"
    },
    "accelerator": "GPU",
    "widgets": {
      "application/vnd.jupyter.widget-state+json": {
        "e2588758100641e7ad08d641572a8c8d": {
          "model_module": "@jupyter-widgets/controls",
          "model_name": "HBoxModel",
          "state": {
            "_view_name": "HBoxView",
            "_dom_classes": [],
            "_model_name": "HBoxModel",
            "_view_module": "@jupyter-widgets/controls",
            "_model_module_version": "1.5.0",
            "_view_count": null,
            "_view_module_version": "1.5.0",
            "box_style": "",
            "layout": "IPY_MODEL_e2f0c8d7db064373ba59533f73165c4e",
            "_model_module": "@jupyter-widgets/controls",
            "children": [
              "IPY_MODEL_9e521b517e5f44498f6f4f655dcc3749",
              "IPY_MODEL_280adcaba70948a5ad0b4a08e423d3b3"
            ]
          }
        },
        "e2f0c8d7db064373ba59533f73165c4e": {
          "model_module": "@jupyter-widgets/base",
          "model_name": "LayoutModel",
          "state": {
            "_view_name": "LayoutView",
            "grid_template_rows": null,
            "right": null,
            "justify_content": null,
            "_view_module": "@jupyter-widgets/base",
            "overflow": null,
            "_model_module_version": "1.2.0",
            "_view_count": null,
            "flex_flow": null,
            "width": null,
            "min_width": null,
            "border": null,
            "align_items": null,
            "bottom": null,
            "_model_module": "@jupyter-widgets/base",
            "top": null,
            "grid_column": null,
            "overflow_y": null,
            "overflow_x": null,
            "grid_auto_flow": null,
            "grid_area": null,
            "grid_template_columns": null,
            "flex": null,
            "_model_name": "LayoutModel",
            "justify_items": null,
            "grid_row": null,
            "max_height": null,
            "align_content": null,
            "visibility": null,
            "align_self": null,
            "height": null,
            "min_height": null,
            "padding": null,
            "grid_auto_rows": null,
            "grid_gap": null,
            "max_width": null,
            "order": null,
            "_view_module_version": "1.2.0",
            "grid_template_areas": null,
            "object_position": null,
            "object_fit": null,
            "grid_auto_columns": null,
            "margin": null,
            "display": null,
            "left": null
          }
        },
        "9e521b517e5f44498f6f4f655dcc3749": {
          "model_module": "@jupyter-widgets/controls",
          "model_name": "FloatProgressModel",
          "state": {
            "_view_name": "ProgressView",
            "style": "IPY_MODEL_9a50b5e6f6fe4387af77ab0fd88953bc",
            "_dom_classes": [],
            "description": "Dl Completed...: 100%",
            "_model_name": "FloatProgressModel",
            "bar_style": "success",
            "max": 4,
            "_view_module": "@jupyter-widgets/controls",
            "_model_module_version": "1.5.0",
            "value": 4,
            "_view_count": null,
            "_view_module_version": "1.5.0",
            "orientation": "horizontal",
            "min": 0,
            "description_tooltip": null,
            "_model_module": "@jupyter-widgets/controls",
            "layout": "IPY_MODEL_eeb4ca97476a469a85ddc74199236a63"
          }
        },
        "280adcaba70948a5ad0b4a08e423d3b3": {
          "model_module": "@jupyter-widgets/controls",
          "model_name": "HTMLModel",
          "state": {
            "_view_name": "HTMLView",
            "style": "IPY_MODEL_ade9ba11405349ffbeecd86e3888808c",
            "_dom_classes": [],
            "description": "",
            "_model_name": "HTMLModel",
            "placeholder": "​",
            "_view_module": "@jupyter-widgets/controls",
            "_model_module_version": "1.5.0",
            "value": " 4/4 [00:20&lt;00:00,  5.04s/ file]",
            "_view_count": null,
            "_view_module_version": "1.5.0",
            "description_tooltip": null,
            "_model_module": "@jupyter-widgets/controls",
            "layout": "IPY_MODEL_1b3f5e43b866445e82ee732f31eb666b"
          }
        },
        "9a50b5e6f6fe4387af77ab0fd88953bc": {
          "model_module": "@jupyter-widgets/controls",
          "model_name": "ProgressStyleModel",
          "state": {
            "_view_name": "StyleView",
            "_model_name": "ProgressStyleModel",
            "description_width": "initial",
            "_view_module": "@jupyter-widgets/base",
            "_model_module_version": "1.5.0",
            "_view_count": null,
            "_view_module_version": "1.2.0",
            "bar_color": null,
            "_model_module": "@jupyter-widgets/controls"
          }
        },
        "eeb4ca97476a469a85ddc74199236a63": {
          "model_module": "@jupyter-widgets/base",
          "model_name": "LayoutModel",
          "state": {
            "_view_name": "LayoutView",
            "grid_template_rows": null,
            "right": null,
            "justify_content": null,
            "_view_module": "@jupyter-widgets/base",
            "overflow": null,
            "_model_module_version": "1.2.0",
            "_view_count": null,
            "flex_flow": null,
            "width": null,
            "min_width": null,
            "border": null,
            "align_items": null,
            "bottom": null,
            "_model_module": "@jupyter-widgets/base",
            "top": null,
            "grid_column": null,
            "overflow_y": null,
            "overflow_x": null,
            "grid_auto_flow": null,
            "grid_area": null,
            "grid_template_columns": null,
            "flex": null,
            "_model_name": "LayoutModel",
            "justify_items": null,
            "grid_row": null,
            "max_height": null,
            "align_content": null,
            "visibility": null,
            "align_self": null,
            "height": null,
            "min_height": null,
            "padding": null,
            "grid_auto_rows": null,
            "grid_gap": null,
            "max_width": null,
            "order": null,
            "_view_module_version": "1.2.0",
            "grid_template_areas": null,
            "object_position": null,
            "object_fit": null,
            "grid_auto_columns": null,
            "margin": null,
            "display": null,
            "left": null
          }
        },
        "ade9ba11405349ffbeecd86e3888808c": {
          "model_module": "@jupyter-widgets/controls",
          "model_name": "DescriptionStyleModel",
          "state": {
            "_view_name": "StyleView",
            "_model_name": "DescriptionStyleModel",
            "description_width": "",
            "_view_module": "@jupyter-widgets/base",
            "_model_module_version": "1.5.0",
            "_view_count": null,
            "_view_module_version": "1.2.0",
            "_model_module": "@jupyter-widgets/controls"
          }
        },
        "1b3f5e43b866445e82ee732f31eb666b": {
          "model_module": "@jupyter-widgets/base",
          "model_name": "LayoutModel",
          "state": {
            "_view_name": "LayoutView",
            "grid_template_rows": null,
            "right": null,
            "justify_content": null,
            "_view_module": "@jupyter-widgets/base",
            "overflow": null,
            "_model_module_version": "1.2.0",
            "_view_count": null,
            "flex_flow": null,
            "width": null,
            "min_width": null,
            "border": null,
            "align_items": null,
            "bottom": null,
            "_model_module": "@jupyter-widgets/base",
            "top": null,
            "grid_column": null,
            "overflow_y": null,
            "overflow_x": null,
            "grid_auto_flow": null,
            "grid_area": null,
            "grid_template_columns": null,
            "flex": null,
            "_model_name": "LayoutModel",
            "justify_items": null,
            "grid_row": null,
            "max_height": null,
            "align_content": null,
            "visibility": null,
            "align_self": null,
            "height": null,
            "min_height": null,
            "padding": null,
            "grid_auto_rows": null,
            "grid_gap": null,
            "max_width": null,
            "order": null,
            "_view_module_version": "1.2.0",
            "grid_template_areas": null,
            "object_position": null,
            "object_fit": null,
            "grid_auto_columns": null,
            "margin": null,
            "display": null,
            "left": null
          }
        }
      }
    }
  },
  "cells": [
    {
      "cell_type": "markdown",
      "metadata": {
        "id": "view-in-github",
        "colab_type": "text"
      },
      "source": [
        "<a href=\"https://colab.research.google.com/github/sp7412/colab/blob/master/distilling.ipynb\" target=\"_parent\"><img src=\"https://colab.research.google.com/assets/colab-badge.svg\" alt=\"Open In Colab\"/></a>"
      ]
    },
    {
      "cell_type": "code",
      "metadata": {
        "id": "oE7AKZfdoNUp",
        "colab_type": "code",
        "colab": {
          "base_uri": "https://localhost:8080/",
          "height": 381
        },
        "outputId": "f8c17f5f-afa6-4d31-948e-4b1ec461e160"
      },
      "source": [
        "!nvidia-smi"
      ],
      "execution_count": 4,
      "outputs": [
        {
          "output_type": "stream",
          "text": [
            "Thu Aug  6 16:36:17 2020       \n",
            "+-----------------------------------------------------------------------------+\n",
            "| NVIDIA-SMI 450.57       Driver Version: 418.67       CUDA Version: 10.1     |\n",
            "|-------------------------------+----------------------+----------------------+\n",
            "| GPU  Name        Persistence-M| Bus-Id        Disp.A | Volatile Uncorr. ECC |\n",
            "| Fan  Temp  Perf  Pwr:Usage/Cap|         Memory-Usage | GPU-Util  Compute M. |\n",
            "|                               |                      |               MIG M. |\n",
            "|===============================+======================+======================|\n",
            "|   0  Tesla T4            Off  | 00000000:00:04.0 Off |                    0 |\n",
            "| N/A   51C    P0    27W /  70W |    227MiB / 15079MiB |      0%      Default |\n",
            "|                               |                      |                 ERR! |\n",
            "+-------------------------------+----------------------+----------------------+\n",
            "                                                                               \n",
            "+-----------------------------------------------------------------------------+\n",
            "| Processes:                                                                  |\n",
            "|  GPU   GI   CI        PID   Type   Process name                  GPU Memory |\n",
            "|        ID   ID                                                   Usage      |\n",
            "|=============================================================================|\n",
            "|  No running processes found                                                 |\n",
            "+-----------------------------------------------------------------------------+\n"
          ],
          "name": "stdout"
        }
      ]
    },
    {
      "cell_type": "code",
      "metadata": {
        "id": "6-IFpKGE-hDq",
        "colab_type": "code",
        "colab": {}
      },
      "source": [
        "import tensorflow as tf\n",
        "import tensorflow_datasets as tfds\n",
        "import numpy as np"
      ],
      "execution_count": 5,
      "outputs": []
    },
    {
      "cell_type": "code",
      "metadata": {
        "id": "4vcv77RgQCuo",
        "colab_type": "code",
        "colab": {
          "base_uri": "https://localhost:8080/",
          "height": 54
        },
        "outputId": "426f2edf-96a2-46a5-9c09-595d5658ce39"
      },
      "source": [
        "GPUs = tf.config.experimental.list_physical_devices('GPU')\n",
        "# get list of GPUs on host\n",
        "if GPUs:\n",
        "    print(\"Tensorflow detected GPUs\")\n",
        "    try:\n",
        "        # Currently, memory growth needs to be the same across GPUs\n",
        "        for gpu in GPUs:\n",
        "            tf.config.experimental.set_memory_growth(gpu, True)\n",
        "        logical_gpus = tf.config.experimental.list_logical_devices('GPU')\n",
        "        print(len(GPUs), \"Physical GPUs,\", len(logical_gpus), \"Logical GPUs\")\n",
        "    except RuntimeError as e:\n",
        "        print(\"Memory growth must be set before GPUs have been initialized\")\n",
        "        print(e)"
      ],
      "execution_count": 6,
      "outputs": [
        {
          "output_type": "stream",
          "text": [
            "Tensorflow detected GPUs\n",
            "1 Physical GPUs, 1 Logical GPUs\n"
          ],
          "name": "stdout"
        }
      ]
    },
    {
      "cell_type": "code",
      "metadata": {
        "id": "qkKuT9h9-hOV",
        "colab_type": "code",
        "colab": {}
      },
      "source": [
        "def normalize_img(image, label):\n",
        "  \"\"\"Normalizes images: `uint8` -> `float32`.\"\"\"\n",
        "  return tf.cast(image, tf.float32) / 255., label\n",
        "\n",
        "def softmax_sparse_categorical_crossentropy(labels, logits):\n",
        "  softmaxed = tf.keras.backend.softmax(logits)\n",
        "\n",
        "  return tf.keras.losses.sparse_categorical_crossentropy(labels, softmaxed)"
      ],
      "execution_count": 7,
      "outputs": []
    },
    {
      "cell_type": "code",
      "metadata": {
        "id": "eLJY6Gl3-hVc",
        "colab_type": "code",
        "colab": {
          "base_uri": "https://localhost:8080/",
          "height": 213,
          "referenced_widgets": [
            "e2588758100641e7ad08d641572a8c8d",
            "e2f0c8d7db064373ba59533f73165c4e",
            "9e521b517e5f44498f6f4f655dcc3749",
            "280adcaba70948a5ad0b4a08e423d3b3",
            "9a50b5e6f6fe4387af77ab0fd88953bc",
            "eeb4ca97476a469a85ddc74199236a63",
            "ade9ba11405349ffbeecd86e3888808c",
            "1b3f5e43b866445e82ee732f31eb666b"
          ]
        },
        "outputId": "41a446a9-991e-4b19-940a-4cb1888f5f76"
      },
      "source": [
        "(ds_train, ds_test), ds_info = tfds.load(\n",
        "    'mnist',\n",
        "    split=['train', 'test'],\n",
        "    shuffle_files=True,\n",
        "    as_supervised=True,\n",
        "    with_info=True,\n",
        ")\n",
        "\n",
        "ds_train = ds_train.map(\n",
        "    normalize_img, num_parallel_calls=tf.data.experimental.AUTOTUNE)\n",
        "\n",
        "ds_test = ds_test.map(\n",
        "    normalize_img, num_parallel_calls=tf.data.experimental.AUTOTUNE)"
      ],
      "execution_count": 8,
      "outputs": [
        {
          "output_type": "stream",
          "text": [
            "\u001b[1mDownloading and preparing dataset mnist/3.0.0 (download: 11.06 MiB, generated: Unknown size, total: 11.06 MiB) to /root/tensorflow_datasets/mnist/3.0.0...\u001b[0m\n"
          ],
          "name": "stdout"
        },
        {
          "output_type": "stream",
          "text": [
            "WARNING:absl:Dataset mnist is hosted on GCS. It will automatically be downloaded to your\n",
            "local data directory. If you'd instead prefer to read directly from our public\n",
            "GCS bucket (recommended if you're running on GCP), you can instead set\n",
            "data_dir=gs://tfds-data/datasets.\n",
            "\n"
          ],
          "name": "stderr"
        },
        {
          "output_type": "display_data",
          "data": {
            "application/vnd.jupyter.widget-view+json": {
              "model_id": "e2588758100641e7ad08d641572a8c8d",
              "version_minor": 0,
              "version_major": 2
            },
            "text/plain": [
              "HBox(children=(FloatProgress(value=0.0, description='Dl Completed...', max=4.0, style=ProgressStyle(descriptio…"
            ]
          },
          "metadata": {
            "tags": []
          }
        },
        {
          "output_type": "stream",
          "text": [
            "\n",
            "\n",
            "\u001b[1mDataset mnist downloaded and prepared to /root/tensorflow_datasets/mnist/3.0.0. Subsequent calls will reuse this data.\u001b[0m\n"
          ],
          "name": "stdout"
        }
      ]
    },
    {
      "cell_type": "code",
      "metadata": {
        "id": "2fyXxLU2gQGO",
        "colab_type": "code",
        "colab": {}
      },
      "source": [
        "num_classes = ds_info.features['label'].num_classes"
      ],
      "execution_count": 9,
      "outputs": []
    },
    {
      "cell_type": "code",
      "metadata": {
        "id": "ooQK3sXuOb85",
        "colab_type": "code",
        "colab": {
          "base_uri": "https://localhost:8080/",
          "height": 35
        },
        "outputId": "342d993a-08f8-4132-9c05-73e7bcf94106"
      },
      "source": [
        "ds_info.features['image'].shape"
      ],
      "execution_count": 10,
      "outputs": [
        {
          "output_type": "execute_result",
          "data": {
            "text/plain": [
              "(28, 28, 1)"
            ]
          },
          "metadata": {
            "tags": []
          },
          "execution_count": 10
        }
      ]
    },
    {
      "cell_type": "code",
      "metadata": {
        "id": "elT2HSSsOF88",
        "colab_type": "code",
        "colab": {
          "base_uri": "https://localhost:8080/",
          "height": 35
        },
        "outputId": "ad7f98f8-faac-44d4-f8eb-393481e1218b"
      },
      "source": [
        "num_training_examples = ds_info.splits['train'].num_examples\n",
        "num_training_examples"
      ],
      "execution_count": 11,
      "outputs": [
        {
          "output_type": "execute_result",
          "data": {
            "text/plain": [
              "60000"
            ]
          },
          "metadata": {
            "tags": []
          },
          "execution_count": 11
        }
      ]
    },
    {
      "cell_type": "code",
      "metadata": {
        "id": "-IqmqPPgHADV",
        "colab_type": "code",
        "colab": {}
      },
      "source": [
        "ds_train_iter = ds_train.as_numpy_iterator()\n",
        "train_images, train_labels = zip(*[ds_train_iter.next() for i in range(num_training_examples)])\n",
        "train_images = np.asarray(train_images)"
      ],
      "execution_count": 12,
      "outputs": []
    },
    {
      "cell_type": "code",
      "metadata": {
        "id": "FVvKY-K2YkoQ",
        "colab_type": "code",
        "colab": {
          "base_uri": "https://localhost:8080/",
          "height": 35
        },
        "outputId": "f0682c71-d10d-42d8-d277-f9b82b5d9eb2"
      },
      "source": [
        "# labels are integers so we need to use sparse_categorical_crossentropy instead of categorical_crossentropy\n",
        "train_labels[:2]"
      ],
      "execution_count": 13,
      "outputs": [
        {
          "output_type": "execute_result",
          "data": {
            "text/plain": [
              "(1, 4)"
            ]
          },
          "metadata": {
            "tags": []
          },
          "execution_count": 13
        }
      ]
    },
    {
      "cell_type": "code",
      "metadata": {
        "id": "zZZgx7GJhr0-",
        "colab_type": "code",
        "colab": {
          "base_uri": "https://localhost:8080/",
          "height": 299
        },
        "outputId": "bce12ce2-4839-4bc7-db8e-a57304fd0ed1"
      },
      "source": [
        "import matplotlib.pyplot as plt\n",
        "idx = 10\n",
        "plt.imshow(np.squeeze(train_images[idx]))\n",
        "plt.title(train_labels[idx])"
      ],
      "execution_count": 14,
      "outputs": [
        {
          "output_type": "execute_result",
          "data": {
            "text/plain": [
              "Text(0.5, 1.0, '6')"
            ]
          },
          "metadata": {
            "tags": []
          },
          "execution_count": 14
        },
        {
          "output_type": "display_data",
          "data": {
            "image/png": "[encoded data removed]",
            "text/plain": [
              "<Figure size 432x288 with 1 Axes>"
            ]
          },
          "metadata": {
            "tags": [],
            "needs_background": "light"
          }
        }
      ]
    },
    {
      "cell_type": "code",
      "metadata": {
        "id": "Flk4vFoKbE8_",
        "colab_type": "code",
        "colab": {
          "base_uri": "https://localhost:8080/",
          "height": 35
        },
        "outputId": "4b5233a0-a5d4-40d5-806f-ecdc9ed03e66"
      },
      "source": [
        "train_images.shape"
      ],
      "execution_count": 15,
      "outputs": [
        {
          "output_type": "execute_result",
          "data": {
            "text/plain": [
              "(60000, 28, 28, 1)"
            ]
          },
          "metadata": {
            "tags": []
          },
          "execution_count": 15
        }
      ]
    },
    {
      "cell_type": "code",
      "metadata": {
        "id": "IVq4gI_CtbJ5",
        "colab_type": "code",
        "colab": {
          "base_uri": "https://localhost:8080/",
          "height": 35
        },
        "outputId": "ac1d89bd-a5cc-4fc5-bbc9-79500a67b1fc"
      },
      "source": [
        "num_testing_examples = ds_info.splits['test'].num_examples\n",
        "num_testing_examples"
      ],
      "execution_count": 16,
      "outputs": [
        {
          "output_type": "execute_result",
          "data": {
            "text/plain": [
              "10000"
            ]
          },
          "metadata": {
            "tags": []
          },
          "execution_count": 16
        }
      ]
    },
    {
      "cell_type": "code",
      "metadata": {
        "id": "wRswy17f-hZU",
        "colab_type": "code",
        "colab": {}
      },
      "source": [
        "ds_train = ds_train.cache()\n",
        "ds_train = ds_train.shuffle(ds_info.splits['train'].num_examples)\n",
        "ds_train = ds_train.batch(128)\n",
        "ds_train = ds_train.prefetch(tf.data.experimental.AUTOTUNE)"
      ],
      "execution_count": 17,
      "outputs": []
    },
    {
      "cell_type": "code",
      "metadata": {
        "id": "kYaHYg2IvzlE",
        "colab_type": "code",
        "colab": {}
      },
      "source": [
        "ds_test_iter = ds_test.as_numpy_iterator()"
      ],
      "execution_count": 18,
      "outputs": []
    },
    {
      "cell_type": "code",
      "metadata": {
        "id": "Mp5NFhkVwJFU",
        "colab_type": "code",
        "colab": {}
      },
      "source": [
        "test_images, test_labels = zip(*[ds_test_iter.next() for i in range(num_testing_examples)])"
      ],
      "execution_count": 19,
      "outputs": []
    },
    {
      "cell_type": "code",
      "metadata": {
        "id": "rA75n0hv-hcv",
        "colab_type": "code",
        "colab": {}
      },
      "source": [
        "ds_test = ds_test.batch(128)\n",
        "ds_test = ds_test.cache()\n",
        "ds_test = ds_test.prefetch(tf.data.experimental.AUTOTUNE)"
      ],
      "execution_count": 20,
      "outputs": []
    },
    {
      "cell_type": "code",
      "metadata": {
        "id": "g9td20Wq-hgB",
        "colab_type": "code",
        "colab": {
          "base_uri": "https://localhost:8080/",
          "height": 490
        },
        "outputId": "a3cf8557-0331-472d-b75e-af4c538bd7a8"
      },
      "source": [
        "control_model = tf.keras.models.Sequential([\n",
        "  tf.keras.Input([28, 28]), \n",
        "  tf.keras.layers.Reshape([28, 28, 1]), \n",
        "  tf.keras.layers.Conv2D(64, 3, 2, activation='relu'), \n",
        "  tf.keras.layers.BatchNormalization(),\n",
        "  tf.keras.layers.Dropout(0.2),\n",
        "  tf.keras.layers.Conv2D(64, 3, 2, activation='relu'), \n",
        "  tf.keras.layers.BatchNormalization(),\n",
        "  tf.keras.layers.Dropout(0.2),\n",
        "  tf.keras.layers.GlobalAveragePooling2D(), \n",
        "  tf.keras.layers.Dense(10, activation='softmax')])\n",
        "  # tf.keras.layers.Dense(10, activation=None)])\n",
        "\n",
        "control_model.compile('adam', 'sparse_categorical_crossentropy', ['accuracy'])\n",
        "# control_model.compile(optimizer='adam', loss='categorical_crossentropy',metrics=['accuracy'])\n",
        "# control_model.compile('adam', softmax_sparse_categorical_crossentropy, ['accuracy'])\n",
        "control_model.summary()"
      ],
      "execution_count": 21,
      "outputs": [
        {
          "output_type": "stream",
          "text": [
            "Model: \"sequential\"\n",
            "_________________________________________________________________\n",
            "Layer (type)                 Output Shape              Param #   \n",
            "=================================================================\n",
            "reshape (Reshape)            (None, 28, 28, 1)         0         \n",
            "_________________________________________________________________\n",
            "conv2d (Conv2D)              (None, 13, 13, 64)        640       \n",
            "_________________________________________________________________\n",
            "batch_normalization (BatchNo (None, 13, 13, 64)        256       \n",
            "_________________________________________________________________\n",
            "dropout (Dropout)            (None, 13, 13, 64)        0         \n",
            "_________________________________________________________________\n",
            "conv2d_1 (Conv2D)            (None, 6, 6, 64)          36928     \n",
            "_________________________________________________________________\n",
            "batch_normalization_1 (Batch (None, 6, 6, 64)          256       \n",
            "_________________________________________________________________\n",
            "dropout_1 (Dropout)          (None, 6, 6, 64)          0         \n",
            "_________________________________________________________________\n",
            "global_average_pooling2d (Gl (None, 64)                0         \n",
            "_________________________________________________________________\n",
            "dense (Dense)                (None, 10)                650       \n",
            "=================================================================\n",
            "Total params: 38,730\n",
            "Trainable params: 38,474\n",
            "Non-trainable params: 256\n",
            "_________________________________________________________________\n"
          ],
          "name": "stdout"
        }
      ]
    },
    {
      "cell_type": "code",
      "metadata": {
        "id": "5SOj9cBa-y5w",
        "colab_type": "code",
        "colab": {
          "base_uri": "https://localhost:8080/",
          "height": 1000
        },
        "outputId": "e6bc7a73-39e3-4e2f-f986-b3890261c551"
      },
      "source": [
        "control_model.fit(train_images,np.asarray(train_labels), epochs=30,validation_split=0.2)"
      ],
      "execution_count": 22,
      "outputs": [
        {
          "output_type": "stream",
          "text": [
            "Epoch 1/30\n",
            "1500/1500 [==============================] - 4s 3ms/step - loss: 0.7514 - accuracy: 0.7907 - val_loss: 0.3425 - val_accuracy: 0.9162\n",
            "Epoch 2/30\n",
            "1500/1500 [==============================] - 4s 3ms/step - loss: 0.3073 - accuracy: 0.9125 - val_loss: 0.2017 - val_accuracy: 0.9430\n",
            "Epoch 3/30\n",
            "1500/1500 [==============================] - 4s 3ms/step - loss: 0.2432 - accuracy: 0.9287 - val_loss: 0.2164 - val_accuracy: 0.9387\n",
            "Epoch 4/30\n",
            "1500/1500 [==============================] - 4s 3ms/step - loss: 0.2172 - accuracy: 0.9349 - val_loss: 0.1802 - val_accuracy: 0.9473\n",
            "Epoch 5/30\n",
            "1500/1500 [==============================] - 4s 3ms/step - loss: 0.1962 - accuracy: 0.9392 - val_loss: 0.1452 - val_accuracy: 0.9581\n",
            "Epoch 6/30\n",
            "1500/1500 [==============================] - 4s 3ms/step - loss: 0.1805 - accuracy: 0.9436 - val_loss: 0.1316 - val_accuracy: 0.9594\n",
            "Epoch 7/30\n",
            "1500/1500 [==============================] - 4s 3ms/step - loss: 0.1769 - accuracy: 0.9455 - val_loss: 0.1279 - val_accuracy: 0.9613\n",
            "Epoch 8/30\n",
            "1500/1500 [==============================] - 4s 3ms/step - loss: 0.1673 - accuracy: 0.9473 - val_loss: 0.1349 - val_accuracy: 0.9579\n",
            "Epoch 9/30\n",
            "1500/1500 [==============================] - 4s 3ms/step - loss: 0.1595 - accuracy: 0.9506 - val_loss: 0.1288 - val_accuracy: 0.9610\n",
            "Epoch 10/30\n",
            "1500/1500 [==============================] - 4s 3ms/step - loss: 0.1572 - accuracy: 0.9504 - val_loss: 0.1052 - val_accuracy: 0.9692\n",
            "Epoch 11/30\n",
            "1500/1500 [==============================] - 4s 3ms/step - loss: 0.1549 - accuracy: 0.9509 - val_loss: 0.1073 - val_accuracy: 0.9672\n",
            "Epoch 12/30\n",
            "1500/1500 [==============================] - 4s 3ms/step - loss: 0.1511 - accuracy: 0.9524 - val_loss: 0.1117 - val_accuracy: 0.9663\n",
            "Epoch 13/30\n",
            "1500/1500 [==============================] - 4s 3ms/step - loss: 0.1469 - accuracy: 0.9529 - val_loss: 0.1199 - val_accuracy: 0.9638\n",
            "Epoch 14/30\n",
            "1500/1500 [==============================] - 4s 3ms/step - loss: 0.1438 - accuracy: 0.9538 - val_loss: 0.1044 - val_accuracy: 0.9678\n",
            "Epoch 15/30\n",
            "1500/1500 [==============================] - 4s 3ms/step - loss: 0.1424 - accuracy: 0.9539 - val_loss: 0.1126 - val_accuracy: 0.9650\n",
            "Epoch 16/30\n",
            "1500/1500 [==============================] - 4s 3ms/step - loss: 0.1424 - accuracy: 0.9545 - val_loss: 0.0995 - val_accuracy: 0.9688\n",
            "Epoch 17/30\n",
            "1500/1500 [==============================] - 4s 3ms/step - loss: 0.1369 - accuracy: 0.9564 - val_loss: 0.0989 - val_accuracy: 0.9703\n",
            "Epoch 18/30\n",
            "1500/1500 [==============================] - 4s 3ms/step - loss: 0.1356 - accuracy: 0.9569 - val_loss: 0.0948 - val_accuracy: 0.9719\n",
            "Epoch 19/30\n",
            "1500/1500 [==============================] - 4s 3ms/step - loss: 0.1294 - accuracy: 0.9587 - val_loss: 0.0964 - val_accuracy: 0.9717\n",
            "Epoch 20/30\n",
            "1500/1500 [==============================] - 4s 3ms/step - loss: 0.1289 - accuracy: 0.9588 - val_loss: 0.1005 - val_accuracy: 0.9688\n",
            "Epoch 21/30\n",
            "1500/1500 [==============================] - 5s 3ms/step - loss: 0.1323 - accuracy: 0.9575 - val_loss: 0.1046 - val_accuracy: 0.9688\n",
            "Epoch 22/30\n",
            "1500/1500 [==============================] - 4s 3ms/step - loss: 0.1288 - accuracy: 0.9584 - val_loss: 0.0989 - val_accuracy: 0.9700\n",
            "Epoch 23/30\n",
            "1500/1500 [==============================] - 4s 3ms/step - loss: 0.1248 - accuracy: 0.9593 - val_loss: 0.0960 - val_accuracy: 0.9705\n",
            "Epoch 24/30\n",
            "1500/1500 [==============================] - 4s 3ms/step - loss: 0.1247 - accuracy: 0.9601 - val_loss: 0.0967 - val_accuracy: 0.9715\n",
            "Epoch 25/30\n",
            "1500/1500 [==============================] - 4s 3ms/step - loss: 0.1248 - accuracy: 0.9598 - val_loss: 0.1433 - val_accuracy: 0.9587\n",
            "Epoch 26/30\n",
            "1500/1500 [==============================] - 4s 3ms/step - loss: 0.1239 - accuracy: 0.9592 - val_loss: 0.1018 - val_accuracy: 0.9681\n",
            "Epoch 27/30\n",
            "1500/1500 [==============================] - 4s 3ms/step - loss: 0.1204 - accuracy: 0.9609 - val_loss: 0.0953 - val_accuracy: 0.9702\n",
            "Epoch 28/30\n",
            "1500/1500 [==============================] - 4s 3ms/step - loss: 0.1182 - accuracy: 0.9620 - val_loss: 0.1021 - val_accuracy: 0.9677\n",
            "Epoch 29/30\n",
            "1500/1500 [==============================] - 4s 3ms/step - loss: 0.1194 - accuracy: 0.9605 - val_loss: 0.1012 - val_accuracy: 0.9697\n",
            "Epoch 30/30\n",
            "1500/1500 [==============================] - 4s 3ms/step - loss: 0.1124 - accuracy: 0.9624 - val_loss: 0.1025 - val_accuracy: 0.9688\n"
          ],
          "name": "stdout"
        },
        {
          "output_type": "execute_result",
          "data": {
            "text/plain": [
              "<tensorflow.python.keras.callbacks.History at 0x7f7c99c80668>"
            ]
          },
          "metadata": {
            "tags": []
          },
          "execution_count": 22
        }
      ]
    },
    {
      "cell_type": "code",
      "metadata": {
        "id": "cNryVCWhQ6MC",
        "colab_type": "code",
        "colab": {
          "base_uri": "https://localhost:8080/",
          "height": 72
        },
        "outputId": "1be2a601-3527-4c0f-ad42-f26bd0238dc5"
      },
      "source": [
        "test_loss, test_acc = control_model.evaluate(ds_test)\n",
        "print(\"Test Loss:\", test_loss)\n",
        "print(\"Test Accuracy:\", test_acc)"
      ],
      "execution_count": 23,
      "outputs": [
        {
          "output_type": "stream",
          "text": [
            "79/79 [==============================] - 2s 20ms/step - loss: 0.0941 - accuracy: 0.9720\n",
            "Test Loss: 0.09408590197563171\n",
            "Test Accuracy: 0.972000002861023\n"
          ],
          "name": "stdout"
        }
      ]
    },
    {
      "cell_type": "code",
      "metadata": {
        "id": "PdBz7tjgvbaT",
        "colab_type": "code",
        "colab": {
          "base_uri": "https://localhost:8080/",
          "height": 72
        },
        "outputId": "f2db95ea-9ac9-4743-a909-0e958947a90c"
      },
      "source": [
        "test_loss, test_acc = control_model.evaluate(np.asarray(test_images),np.asarray(test_labels))\n",
        "print(\"Test Loss:\", test_loss)\n",
        "print(\"Test Accuracy:\", test_acc)"
      ],
      "execution_count": 24,
      "outputs": [
        {
          "output_type": "stream",
          "text": [
            "313/313 [==============================] - 1s 2ms/step - loss: 0.0941 - accuracy: 0.9720\n",
            "Test Loss: 0.09408590197563171\n",
            "Test Accuracy: 0.972000002861023\n"
          ],
          "name": "stdout"
        }
      ]
    },
    {
      "cell_type": "code",
      "metadata": {
        "id": "c92vASME-zAh",
        "colab_type": "code",
        "colab": {
          "base_uri": "https://localhost:8080/",
          "height": 599
        },
        "outputId": "07b4c89a-c498-472a-ba68-a98491e26a57"
      },
      "source": [
        "teacher_model = tf.keras.models.Sequential([\n",
        "  tf.keras.Input([28, 28]), \n",
        "  tf.keras.layers.Reshape([28, 28, 1]), \n",
        "  tf.keras.layers.Conv2D(64, 3, 2, activation='relu'), \n",
        "  tf.keras.layers.BatchNormalization(),\n",
        "  tf.keras.layers.Dropout(0.2),\n",
        "  tf.keras.layers.Conv2D(64, 3, 2, activation='relu'), \n",
        "  tf.keras.layers.BatchNormalization(),\n",
        "  tf.keras.layers.Dropout(0.2),\n",
        "  tf.keras.layers.Conv2D(64, 3, 2, activation='relu'), \n",
        "  tf.keras.layers.BatchNormalization(),\n",
        "  tf.keras.layers.Dropout(0.2),\n",
        "  tf.keras.layers.GlobalAveragePooling2D(), \n",
        "  #tf.keras.layers.Dense(10, activation='softmax')])\n",
        "  tf.keras.layers.Dense(10, activation=None)])\n",
        "\n",
        "# teacher_model.compile('adam', 'sparse_categorical_crossentropy', ['accuracy']) # awful\n",
        "teacher_model.compile('adam', softmax_sparse_categorical_crossentropy, ['accuracy'])\n",
        "teacher_model.summary()"
      ],
      "execution_count": 33,
      "outputs": [
        {
          "output_type": "stream",
          "text": [
            "Model: \"sequential_3\"\n",
            "_________________________________________________________________\n",
            "Layer (type)                 Output Shape              Param #   \n",
            "=================================================================\n",
            "reshape_3 (Reshape)          (None, 28, 28, 1)         0         \n",
            "_________________________________________________________________\n",
            "conv2d_7 (Conv2D)            (None, 13, 13, 64)        640       \n",
            "_________________________________________________________________\n",
            "batch_normalization_7 (Batch (None, 13, 13, 64)        256       \n",
            "_________________________________________________________________\n",
            "dropout_7 (Dropout)          (None, 13, 13, 64)        0         \n",
            "_________________________________________________________________\n",
            "conv2d_8 (Conv2D)            (None, 6, 6, 64)          36928     \n",
            "_________________________________________________________________\n",
            "batch_normalization_8 (Batch (None, 6, 6, 64)          256       \n",
            "_________________________________________________________________\n",
            "dropout_8 (Dropout)          (None, 6, 6, 64)          0         \n",
            "_________________________________________________________________\n",
            "conv2d_9 (Conv2D)            (None, 2, 2, 64)          36928     \n",
            "_________________________________________________________________\n",
            "batch_normalization_9 (Batch (None, 2, 2, 64)          256       \n",
            "_________________________________________________________________\n",
            "dropout_9 (Dropout)          (None, 2, 2, 64)          0         \n",
            "_________________________________________________________________\n",
            "global_average_pooling2d_3 ( (None, 64)                0         \n",
            "_________________________________________________________________\n",
            "dense_3 (Dense)              (None, 10)                650       \n",
            "=================================================================\n",
            "Total params: 75,914\n",
            "Trainable params: 75,530\n",
            "Non-trainable params: 384\n",
            "_________________________________________________________________\n"
          ],
          "name": "stdout"
        }
      ]
    },
    {
      "cell_type": "code",
      "metadata": {
        "id": "vVHj1dtW-zD9",
        "colab_type": "code",
        "colab": {
          "base_uri": "https://localhost:8080/",
          "height": 1000
        },
        "outputId": "44e9fb4d-d440-46c1-aba8-df0294fa8c32"
      },
      "source": [
        "teacher_model.fit(ds_train, epochs=40)"
      ],
      "execution_count": 34,
      "outputs": [
        {
          "output_type": "stream",
          "text": [
            "Epoch 1/40\n",
            "469/469 [==============================] - 2s 4ms/step - loss: 0.3914 - accuracy: 0.8919\n",
            "Epoch 2/40\n",
            "469/469 [==============================] - 2s 4ms/step - loss: 0.1239 - accuracy: 0.9647\n",
            "Epoch 3/40\n",
            "469/469 [==============================] - 2s 4ms/step - loss: 0.0910 - accuracy: 0.9738\n",
            "Epoch 4/40\n",
            "469/469 [==============================] - 2s 4ms/step - loss: 0.0740 - accuracy: 0.9780\n",
            "Epoch 5/40\n",
            "469/469 [==============================] - 2s 4ms/step - loss: 0.0653 - accuracy: 0.9796\n",
            "Epoch 6/40\n",
            "469/469 [==============================] - 2s 4ms/step - loss: 0.0570 - accuracy: 0.9823\n",
            "Epoch 7/40\n",
            "469/469 [==============================] - 2s 4ms/step - loss: 0.0534 - accuracy: 0.9831\n",
            "Epoch 8/40\n",
            "469/469 [==============================] - 2s 4ms/step - loss: 0.0479 - accuracy: 0.9851\n",
            "Epoch 9/40\n",
            "469/469 [==============================] - 2s 4ms/step - loss: 0.0443 - accuracy: 0.9862\n",
            "Epoch 10/40\n",
            "469/469 [==============================] - 2s 4ms/step - loss: 0.0417 - accuracy: 0.9870\n",
            "Epoch 11/40\n",
            "469/469 [==============================] - 2s 4ms/step - loss: 0.0386 - accuracy: 0.9874\n",
            "Epoch 12/40\n",
            "469/469 [==============================] - 2s 4ms/step - loss: 0.0366 - accuracy: 0.9878\n",
            "Epoch 13/40\n",
            "469/469 [==============================] - 2s 4ms/step - loss: 0.0345 - accuracy: 0.9885\n",
            "Epoch 14/40\n",
            "469/469 [==============================] - 2s 4ms/step - loss: 0.0338 - accuracy: 0.9889\n",
            "Epoch 15/40\n",
            "469/469 [==============================] - 2s 4ms/step - loss: 0.0319 - accuracy: 0.9898\n",
            "Epoch 16/40\n",
            "469/469 [==============================] - 2s 4ms/step - loss: 0.0281 - accuracy: 0.9907\n",
            "Epoch 17/40\n",
            "469/469 [==============================] - 2s 4ms/step - loss: 0.0291 - accuracy: 0.9905\n",
            "Epoch 18/40\n",
            "469/469 [==============================] - 2s 4ms/step - loss: 0.0286 - accuracy: 0.9905\n",
            "Epoch 19/40\n",
            "469/469 [==============================] - 2s 4ms/step - loss: 0.0292 - accuracy: 0.9901\n",
            "Epoch 20/40\n",
            "469/469 [==============================] - 2s 4ms/step - loss: 0.0237 - accuracy: 0.9922\n",
            "Epoch 21/40\n",
            "469/469 [==============================] - 2s 4ms/step - loss: 0.0257 - accuracy: 0.9912\n",
            "Epoch 22/40\n",
            "469/469 [==============================] - 2s 4ms/step - loss: 0.0254 - accuracy: 0.9913\n",
            "Epoch 23/40\n",
            "469/469 [==============================] - 2s 4ms/step - loss: 0.0242 - accuracy: 0.9918\n",
            "Epoch 24/40\n",
            "469/469 [==============================] - 2s 4ms/step - loss: 0.0227 - accuracy: 0.9923\n",
            "Epoch 25/40\n",
            "469/469 [==============================] - 2s 4ms/step - loss: 0.0228 - accuracy: 0.9919\n",
            "Epoch 26/40\n",
            "469/469 [==============================] - 2s 4ms/step - loss: 0.0233 - accuracy: 0.9921\n",
            "Epoch 27/40\n",
            "469/469 [==============================] - 2s 4ms/step - loss: 0.0196 - accuracy: 0.9933\n",
            "Epoch 28/40\n",
            "469/469 [==============================] - 2s 4ms/step - loss: 0.0218 - accuracy: 0.9927\n",
            "Epoch 29/40\n",
            "469/469 [==============================] - 2s 4ms/step - loss: 0.0217 - accuracy: 0.9926\n",
            "Epoch 30/40\n",
            "469/469 [==============================] - 2s 4ms/step - loss: 0.0203 - accuracy: 0.9933\n",
            "Epoch 31/40\n",
            "469/469 [==============================] - 2s 4ms/step - loss: 0.0194 - accuracy: 0.9934\n",
            "Epoch 32/40\n",
            "469/469 [==============================] - 2s 4ms/step - loss: 0.0210 - accuracy: 0.9930\n",
            "Epoch 33/40\n",
            "469/469 [==============================] - 2s 4ms/step - loss: 0.0181 - accuracy: 0.9938\n",
            "Epoch 34/40\n",
            "469/469 [==============================] - 2s 4ms/step - loss: 0.0200 - accuracy: 0.9930\n",
            "Epoch 35/40\n",
            "469/469 [==============================] - 2s 4ms/step - loss: 0.0209 - accuracy: 0.9931\n",
            "Epoch 36/40\n",
            "469/469 [==============================] - 2s 4ms/step - loss: 0.0180 - accuracy: 0.9941\n",
            "Epoch 37/40\n",
            "469/469 [==============================] - 2s 4ms/step - loss: 0.0176 - accuracy: 0.9941\n",
            "Epoch 38/40\n",
            "469/469 [==============================] - 2s 4ms/step - loss: 0.0189 - accuracy: 0.9937\n",
            "Epoch 39/40\n",
            "469/469 [==============================] - 2s 4ms/step - loss: 0.0171 - accuracy: 0.9939\n",
            "Epoch 40/40\n",
            "469/469 [==============================] - 2s 4ms/step - loss: 0.0185 - accuracy: 0.9937\n"
          ],
          "name": "stdout"
        },
        {
          "output_type": "execute_result",
          "data": {
            "text/plain": [
              "<tensorflow.python.keras.callbacks.History at 0x7f7ca3636630>"
            ]
          },
          "metadata": {
            "tags": []
          },
          "execution_count": 34
        }
      ]
    },
    {
      "cell_type": "code",
      "metadata": {
        "id": "kBaTy-juQ2RL",
        "colab_type": "code",
        "colab": {
          "base_uri": "https://localhost:8080/",
          "height": 72
        },
        "outputId": "f01ed5ff-4098-4c68-84d7-460305fee2d9"
      },
      "source": [
        "test_loss, test_acc = teacher_model.evaluate(ds_test)\n",
        "print(\"Test Loss:\", test_loss)\n",
        "print(\"Test Accuracy:\", test_acc)"
      ],
      "execution_count": 35,
      "outputs": [
        {
          "output_type": "stream",
          "text": [
            "79/79 [==============================] - 0s 2ms/step - loss: 0.0337 - accuracy: 0.9920\n",
            "Test Loss: 0.03371615707874298\n",
            "Test Accuracy: 0.9919999837875366\n"
          ],
          "name": "stdout"
        }
      ]
    },
    {
      "cell_type": "code",
      "metadata": {
        "id": "tKr8x3jR-zKo",
        "colab_type": "code",
        "colab": {
          "base_uri": "https://localhost:8080/",
          "height": 35
        },
        "outputId": "20ddef5a-f14b-46f0-be8e-1abef0cb7707"
      },
      "source": [
        "ds_train_images = tf.data.Dataset.from_tensor_slices(list(map(lambda x:tf.reshape(x,(-1,28,28,1)), train_images)))\n",
        "soft_labels_train = teacher_model.predict(train_images,verbose=1)"
      ],
      "execution_count": 36,
      "outputs": [
        {
          "output_type": "stream",
          "text": [
            "1875/1875 [==============================] - 2s 1ms/step\n"
          ],
          "name": "stdout"
        }
      ]
    },
    {
      "cell_type": "code",
      "metadata": {
        "id": "goR4MB_NhiJM",
        "colab_type": "code",
        "colab": {
          "base_uri": "https://localhost:8080/",
          "height": 254
        },
        "outputId": "e319c4ac-9e6d-41fc-b31f-c5af1ec0b2b0"
      },
      "source": [
        "soft_labels_train"
      ],
      "execution_count": 37,
      "outputs": [
        {
          "output_type": "execute_result",
          "data": {
            "text/plain": [
              "array([[-1.2264347 , 15.056972  , -0.11227764, ...,  4.4578333 ,\n",
              "        -1.6349523 , -5.492013  ],\n",
              "       [-3.9570134 ,  3.8842561 , -3.2265153 , ...,  3.0931685 ,\n",
              "         0.63524705,  1.7789557 ],\n",
              "       [-0.02634468, -2.8005726 ,  3.752659  , ..., 19.79496   ,\n",
              "        -4.237766  , -1.8213347 ],\n",
              "       ...,\n",
              "       [ 5.167602  , -1.0719528 ,  0.8606929 , ..., -8.203195  ,\n",
              "        -2.1975727 , -3.6170924 ],\n",
              "       [-2.7675464 , 16.637905  , -2.6154883 , ...,  1.4350276 ,\n",
              "        -0.34115666, -1.5480031 ],\n",
              "       [-9.11051   , -7.547922  , -9.361275  , ..., -8.520095  ,\n",
              "         7.4954658 , -0.9133364 ]], dtype=float32)"
            ]
          },
          "metadata": {
            "tags": []
          },
          "execution_count": 37
        }
      ]
    },
    {
      "cell_type": "code",
      "metadata": {
        "id": "uocqXT5E-hmi",
        "colab_type": "code",
        "colab": {}
      },
      "source": [
        "temperature = 3\n",
        "afterwards_temperature = 1\n",
        "\n",
        "def temperature_softmax(logits):\n",
        "  soft_logits = tf.keras.backend.exp(logits / temperature)\n",
        "  return soft_logits / tf.keras.backend.sum(soft_logits, axis=-1, keepdims=True) / afterwards_temperature\n",
        "\n",
        "def distillation_loss(labels, logits):\n",
        "  labels = temperature_softmax(labels)\n",
        "  logits = temperature_softmax(logits)\n",
        "\n",
        "  return -tf.keras.backend.mean(labels * tf.keras.backend.log(logits))"
      ],
      "execution_count": 38,
      "outputs": []
    },
    {
      "cell_type": "code",
      "metadata": {
        "id": "98gz8b64-hpv",
        "colab_type": "code",
        "colab": {
          "base_uri": "https://localhost:8080/",
          "height": 490
        },
        "outputId": "01687f8e-3a81-4e8a-c7d8-97bb0d97b9cc"
      },
      "source": [
        "student_model = tf.keras.models.Sequential([\n",
        "  tf.keras.Input([28, 28]), \n",
        "  tf.keras.layers.Reshape([28, 28, 1]), \n",
        "  tf.keras.layers.Conv2D(64, 3, 2, activation='relu'), \n",
        "  tf.keras.layers.BatchNormalization(),\n",
        "  tf.keras.layers.Dropout(0.2),\n",
        "  tf.keras.layers.Conv2D(64, 3, 2, activation='relu'), \n",
        "  tf.keras.layers.BatchNormalization(),\n",
        "  tf.keras.layers.Dropout(0.2),\n",
        "  tf.keras.layers.GlobalAveragePooling2D(), \n",
        "  # tf.keras.layers.Dense(10, activation='softmax')])\n",
        "  tf.keras.layers.Dense(10, activation=None)])\n",
        "\n",
        "student_model.compile('adam', distillation_loss, ['accuracy'])\n",
        "student_model.summary()"
      ],
      "execution_count": 39,
      "outputs": [
        {
          "output_type": "stream",
          "text": [
            "Model: \"sequential_4\"\n",
            "_________________________________________________________________\n",
            "Layer (type)                 Output Shape              Param #   \n",
            "=================================================================\n",
            "reshape_4 (Reshape)          (None, 28, 28, 1)         0         \n",
            "_________________________________________________________________\n",
            "conv2d_10 (Conv2D)           (None, 13, 13, 64)        640       \n",
            "_________________________________________________________________\n",
            "batch_normalization_10 (Batc (None, 13, 13, 64)        256       \n",
            "_________________________________________________________________\n",
            "dropout_10 (Dropout)         (None, 13, 13, 64)        0         \n",
            "_________________________________________________________________\n",
            "conv2d_11 (Conv2D)           (None, 6, 6, 64)          36928     \n",
            "_________________________________________________________________\n",
            "batch_normalization_11 (Batc (None, 6, 6, 64)          256       \n",
            "_________________________________________________________________\n",
            "dropout_11 (Dropout)         (None, 6, 6, 64)          0         \n",
            "_________________________________________________________________\n",
            "global_average_pooling2d_4 ( (None, 64)                0         \n",
            "_________________________________________________________________\n",
            "dense_4 (Dense)              (None, 10)                650       \n",
            "=================================================================\n",
            "Total params: 38,730\n",
            "Trainable params: 38,474\n",
            "Non-trainable params: 256\n",
            "_________________________________________________________________\n"
          ],
          "name": "stdout"
        }
      ]
    },
    {
      "cell_type": "code",
      "metadata": {
        "id": "Y1sr_FM-jXek",
        "colab_type": "code",
        "colab": {
          "base_uri": "https://localhost:8080/",
          "height": 1000
        },
        "outputId": "8e140cf7-40c5-445d-9ef0-3b8394417074"
      },
      "source": [
        "student_model.fit(train_images, soft_labels_train, epochs=100, validation_split=0.2)"
      ],
      "execution_count": 40,
      "outputs": [
        {
          "output_type": "stream",
          "text": [
            "Epoch 1/100\n",
            "1500/1500 [==============================] - 4s 3ms/step - loss: 0.1116 - accuracy: 0.7215 - val_loss: 0.0688 - val_accuracy: 0.8506\n",
            "Epoch 2/100\n",
            "1500/1500 [==============================] - 4s 3ms/step - loss: 0.0544 - accuracy: 0.9003 - val_loss: 0.0433 - val_accuracy: 0.9366\n",
            "Epoch 3/100\n",
            "1500/1500 [==============================] - 5s 3ms/step - loss: 0.0455 - accuracy: 0.9242 - val_loss: 0.0392 - val_accuracy: 0.9463\n",
            "Epoch 4/100\n",
            "1500/1500 [==============================] - 4s 3ms/step - loss: 0.0424 - accuracy: 0.9333 - val_loss: 0.0376 - val_accuracy: 0.9517\n",
            "Epoch 5/100\n",
            "1500/1500 [==============================] - 4s 3ms/step - loss: 0.0405 - accuracy: 0.9398 - val_loss: 0.0358 - val_accuracy: 0.9551\n",
            "Epoch 6/100\n",
            "1500/1500 [==============================] - 4s 3ms/step - loss: 0.0398 - accuracy: 0.9433 - val_loss: 0.0343 - val_accuracy: 0.9617\n",
            "Epoch 7/100\n",
            "1500/1500 [==============================] - 4s 3ms/step - loss: 0.0388 - accuracy: 0.9473 - val_loss: 0.0344 - val_accuracy: 0.9617\n",
            "Epoch 8/100\n",
            "1500/1500 [==============================] - 4s 3ms/step - loss: 0.0387 - accuracy: 0.9477 - val_loss: 0.0330 - val_accuracy: 0.9654\n",
            "Epoch 9/100\n",
            "1500/1500 [==============================] - 4s 3ms/step - loss: 0.0381 - accuracy: 0.9501 - val_loss: 0.0394 - val_accuracy: 0.9481\n",
            "Epoch 10/100\n",
            "1500/1500 [==============================] - 4s 3ms/step - loss: 0.0375 - accuracy: 0.9523 - val_loss: 0.0338 - val_accuracy: 0.9638\n",
            "Epoch 11/100\n",
            "1500/1500 [==============================] - 4s 3ms/step - loss: 0.0373 - accuracy: 0.9524 - val_loss: 0.0354 - val_accuracy: 0.9576\n",
            "Epoch 12/100\n",
            "1500/1500 [==============================] - 4s 3ms/step - loss: 0.0369 - accuracy: 0.9550 - val_loss: 0.0338 - val_accuracy: 0.9654\n",
            "Epoch 13/100\n",
            "1500/1500 [==============================] - 4s 3ms/step - loss: 0.0368 - accuracy: 0.9546 - val_loss: 0.0329 - val_accuracy: 0.9675\n",
            "Epoch 14/100\n",
            "1500/1500 [==============================] - 4s 3ms/step - loss: 0.0366 - accuracy: 0.9567 - val_loss: 0.0335 - val_accuracy: 0.9657\n",
            "Epoch 15/100\n",
            "1500/1500 [==============================] - 4s 3ms/step - loss: 0.0364 - accuracy: 0.9565 - val_loss: 0.0326 - val_accuracy: 0.9688\n",
            "Epoch 16/100\n",
            "1500/1500 [==============================] - 4s 3ms/step - loss: 0.0362 - accuracy: 0.9581 - val_loss: 0.0322 - val_accuracy: 0.9705\n",
            "Epoch 17/100\n",
            "1500/1500 [==============================] - 4s 3ms/step - loss: 0.0362 - accuracy: 0.9570 - val_loss: 0.0324 - val_accuracy: 0.9686\n",
            "Epoch 18/100\n",
            "1500/1500 [==============================] - 4s 3ms/step - loss: 0.0359 - accuracy: 0.9591 - val_loss: 0.0317 - val_accuracy: 0.9692\n",
            "Epoch 19/100\n",
            "1500/1500 [==============================] - 5s 3ms/step - loss: 0.0356 - accuracy: 0.9604 - val_loss: 0.0313 - val_accuracy: 0.9715\n",
            "Epoch 20/100\n",
            "1500/1500 [==============================] - 4s 3ms/step - loss: 0.0357 - accuracy: 0.9588 - val_loss: 0.0309 - val_accuracy: 0.9726\n",
            "Epoch 21/100\n",
            "1500/1500 [==============================] - 4s 3ms/step - loss: 0.0355 - accuracy: 0.9597 - val_loss: 0.0314 - val_accuracy: 0.9715\n",
            "Epoch 22/100\n",
            "1500/1500 [==============================] - 4s 3ms/step - loss: 0.0353 - accuracy: 0.9603 - val_loss: 0.0320 - val_accuracy: 0.9684\n",
            "Epoch 23/100\n",
            "1500/1500 [==============================] - 4s 3ms/step - loss: 0.0354 - accuracy: 0.9609 - val_loss: 0.0316 - val_accuracy: 0.9704\n",
            "Epoch 24/100\n",
            "1500/1500 [==============================] - 4s 3ms/step - loss: 0.0351 - accuracy: 0.9624 - val_loss: 0.0312 - val_accuracy: 0.9733\n",
            "Epoch 25/100\n",
            "1500/1500 [==============================] - 4s 3ms/step - loss: 0.0351 - accuracy: 0.9614 - val_loss: 0.0310 - val_accuracy: 0.9721\n",
            "Epoch 26/100\n",
            "1500/1500 [==============================] - 4s 3ms/step - loss: 0.0350 - accuracy: 0.9632 - val_loss: 0.0326 - val_accuracy: 0.9668\n",
            "Epoch 27/100\n",
            "1500/1500 [==============================] - 4s 3ms/step - loss: 0.0349 - accuracy: 0.9619 - val_loss: 0.0316 - val_accuracy: 0.9710\n",
            "Epoch 28/100\n",
            "1500/1500 [==============================] - 4s 3ms/step - loss: 0.0348 - accuracy: 0.9634 - val_loss: 0.0315 - val_accuracy: 0.9707\n",
            "Epoch 29/100\n",
            "1500/1500 [==============================] - 4s 3ms/step - loss: 0.0346 - accuracy: 0.9635 - val_loss: 0.0309 - val_accuracy: 0.9742\n",
            "Epoch 30/100\n",
            "1500/1500 [==============================] - 4s 3ms/step - loss: 0.0348 - accuracy: 0.9634 - val_loss: 0.0308 - val_accuracy: 0.9742\n",
            "Epoch 31/100\n",
            "1500/1500 [==============================] - 4s 3ms/step - loss: 0.0347 - accuracy: 0.9642 - val_loss: 0.0313 - val_accuracy: 0.9713\n",
            "Epoch 32/100\n",
            "1500/1500 [==============================] - 4s 3ms/step - loss: 0.0347 - accuracy: 0.9628 - val_loss: 0.0309 - val_accuracy: 0.9731\n",
            "Epoch 33/100\n",
            "1500/1500 [==============================] - 4s 3ms/step - loss: 0.0346 - accuracy: 0.9631 - val_loss: 0.0310 - val_accuracy: 0.9744\n",
            "Epoch 34/100\n",
            "1500/1500 [==============================] - 4s 3ms/step - loss: 0.0344 - accuracy: 0.9646 - val_loss: 0.0304 - val_accuracy: 0.9753\n",
            "Epoch 35/100\n",
            "1500/1500 [==============================] - 4s 3ms/step - loss: 0.0344 - accuracy: 0.9646 - val_loss: 0.0323 - val_accuracy: 0.9715\n",
            "Epoch 36/100\n",
            "1500/1500 [==============================] - 4s 3ms/step - loss: 0.0343 - accuracy: 0.9657 - val_loss: 0.0308 - val_accuracy: 0.9756\n",
            "Epoch 37/100\n",
            "1500/1500 [==============================] - 4s 3ms/step - loss: 0.0343 - accuracy: 0.9653 - val_loss: 0.0320 - val_accuracy: 0.9708\n",
            "Epoch 38/100\n",
            "1500/1500 [==============================] - 4s 3ms/step - loss: 0.0342 - accuracy: 0.9658 - val_loss: 0.0309 - val_accuracy: 0.9743\n",
            "Epoch 39/100\n",
            "1500/1500 [==============================] - 4s 3ms/step - loss: 0.0342 - accuracy: 0.9650 - val_loss: 0.0308 - val_accuracy: 0.9737\n",
            "Epoch 40/100\n",
            "1500/1500 [==============================] - 4s 3ms/step - loss: 0.0343 - accuracy: 0.9650 - val_loss: 0.0317 - val_accuracy: 0.9708\n",
            "Epoch 41/100\n",
            "1500/1500 [==============================] - 4s 3ms/step - loss: 0.0341 - accuracy: 0.9659 - val_loss: 0.0309 - val_accuracy: 0.9737\n",
            "Epoch 42/100\n",
            "1500/1500 [==============================] - 4s 3ms/step - loss: 0.0341 - accuracy: 0.9661 - val_loss: 0.0305 - val_accuracy: 0.9753\n",
            "Epoch 43/100\n",
            "1500/1500 [==============================] - 4s 3ms/step - loss: 0.0341 - accuracy: 0.9661 - val_loss: 0.0308 - val_accuracy: 0.9742\n",
            "Epoch 44/100\n",
            "1500/1500 [==============================] - 4s 3ms/step - loss: 0.0340 - accuracy: 0.9672 - val_loss: 0.0309 - val_accuracy: 0.9735\n",
            "Epoch 45/100\n",
            "1500/1500 [==============================] - 4s 3ms/step - loss: 0.0340 - accuracy: 0.9661 - val_loss: 0.0304 - val_accuracy: 0.9753\n",
            "Epoch 46/100\n",
            "1500/1500 [==============================] - 4s 3ms/step - loss: 0.0341 - accuracy: 0.9660 - val_loss: 0.0304 - val_accuracy: 0.9749\n",
            "Epoch 47/100\n",
            "1500/1500 [==============================] - 4s 3ms/step - loss: 0.0339 - accuracy: 0.9673 - val_loss: 0.0303 - val_accuracy: 0.9765\n",
            "Epoch 48/100\n",
            "1500/1500 [==============================] - 4s 3ms/step - loss: 0.0339 - accuracy: 0.9669 - val_loss: 0.0312 - val_accuracy: 0.9743\n",
            "Epoch 49/100\n",
            "1500/1500 [==============================] - 4s 3ms/step - loss: 0.0338 - accuracy: 0.9675 - val_loss: 0.0303 - val_accuracy: 0.9757\n",
            "Epoch 50/100\n",
            "1500/1500 [==============================] - 4s 3ms/step - loss: 0.0338 - accuracy: 0.9670 - val_loss: 0.0305 - val_accuracy: 0.9747\n",
            "Epoch 51/100\n",
            "1500/1500 [==============================] - 4s 3ms/step - loss: 0.0338 - accuracy: 0.9667 - val_loss: 0.0312 - val_accuracy: 0.9742\n",
            "Epoch 52/100\n",
            "1500/1500 [==============================] - 4s 3ms/step - loss: 0.0338 - accuracy: 0.9676 - val_loss: 0.0305 - val_accuracy: 0.9747\n",
            "Epoch 53/100\n",
            "1500/1500 [==============================] - 4s 3ms/step - loss: 0.0339 - accuracy: 0.9661 - val_loss: 0.0304 - val_accuracy: 0.9750\n",
            "Epoch 54/100\n",
            "1500/1500 [==============================] - 4s 3ms/step - loss: 0.0337 - accuracy: 0.9677 - val_loss: 0.0308 - val_accuracy: 0.9755\n",
            "Epoch 55/100\n",
            "1500/1500 [==============================] - 4s 3ms/step - loss: 0.0338 - accuracy: 0.9672 - val_loss: 0.0302 - val_accuracy: 0.9757\n",
            "Epoch 56/100\n",
            "1500/1500 [==============================] - 4s 3ms/step - loss: 0.0336 - accuracy: 0.9680 - val_loss: 0.0304 - val_accuracy: 0.9745\n",
            "Epoch 57/100\n",
            "1500/1500 [==============================] - 4s 3ms/step - loss: 0.0336 - accuracy: 0.9680 - val_loss: 0.0311 - val_accuracy: 0.9735\n",
            "Epoch 58/100\n",
            "1500/1500 [==============================] - 4s 3ms/step - loss: 0.0336 - accuracy: 0.9685 - val_loss: 0.0307 - val_accuracy: 0.9755\n",
            "Epoch 59/100\n",
            "1500/1500 [==============================] - 4s 3ms/step - loss: 0.0336 - accuracy: 0.9681 - val_loss: 0.0303 - val_accuracy: 0.9756\n",
            "Epoch 60/100\n",
            "1500/1500 [==============================] - 4s 3ms/step - loss: 0.0337 - accuracy: 0.9669 - val_loss: 0.0305 - val_accuracy: 0.9743\n",
            "Epoch 61/100\n",
            "1500/1500 [==============================] - 4s 3ms/step - loss: 0.0335 - accuracy: 0.9688 - val_loss: 0.0308 - val_accuracy: 0.9735\n",
            "Epoch 62/100\n",
            "1500/1500 [==============================] - 4s 3ms/step - loss: 0.0336 - accuracy: 0.9693 - val_loss: 0.0303 - val_accuracy: 0.9760\n",
            "Epoch 63/100\n",
            "1500/1500 [==============================] - 4s 3ms/step - loss: 0.0336 - accuracy: 0.9685 - val_loss: 0.0303 - val_accuracy: 0.9770\n",
            "Epoch 64/100\n",
            "1500/1500 [==============================] - 4s 3ms/step - loss: 0.0335 - accuracy: 0.9678 - val_loss: 0.0305 - val_accuracy: 0.9755\n",
            "Epoch 65/100\n",
            "1500/1500 [==============================] - 4s 3ms/step - loss: 0.0334 - accuracy: 0.9691 - val_loss: 0.0305 - val_accuracy: 0.9753\n",
            "Epoch 66/100\n",
            "1500/1500 [==============================] - 4s 3ms/step - loss: 0.0335 - accuracy: 0.9681 - val_loss: 0.0300 - val_accuracy: 0.9769\n",
            "Epoch 67/100\n",
            "1500/1500 [==============================] - 4s 3ms/step - loss: 0.0334 - accuracy: 0.9691 - val_loss: 0.0302 - val_accuracy: 0.9764\n",
            "Epoch 68/100\n",
            "1500/1500 [==============================] - 5s 3ms/step - loss: 0.0334 - accuracy: 0.9688 - val_loss: 0.0304 - val_accuracy: 0.9751\n",
            "Epoch 69/100\n",
            "1500/1500 [==============================] - 4s 3ms/step - loss: 0.0335 - accuracy: 0.9690 - val_loss: 0.0304 - val_accuracy: 0.9747\n",
            "Epoch 70/100\n",
            "1500/1500 [==============================] - 4s 3ms/step - loss: 0.0335 - accuracy: 0.9680 - val_loss: 0.0302 - val_accuracy: 0.9761\n",
            "Epoch 71/100\n",
            "1500/1500 [==============================] - 4s 3ms/step - loss: 0.0335 - accuracy: 0.9687 - val_loss: 0.0302 - val_accuracy: 0.9763\n",
            "Epoch 72/100\n",
            "1500/1500 [==============================] - 4s 3ms/step - loss: 0.0333 - accuracy: 0.9692 - val_loss: 0.0308 - val_accuracy: 0.9730\n",
            "Epoch 73/100\n",
            "1500/1500 [==============================] - 4s 3ms/step - loss: 0.0334 - accuracy: 0.9692 - val_loss: 0.0307 - val_accuracy: 0.9748\n",
            "Epoch 74/100\n",
            "1500/1500 [==============================] - 4s 3ms/step - loss: 0.0332 - accuracy: 0.9705 - val_loss: 0.0313 - val_accuracy: 0.9728\n",
            "Epoch 75/100\n",
            "1500/1500 [==============================] - 4s 3ms/step - loss: 0.0332 - accuracy: 0.9688 - val_loss: 0.0304 - val_accuracy: 0.9751\n",
            "Epoch 76/100\n",
            "1500/1500 [==============================] - 4s 3ms/step - loss: 0.0334 - accuracy: 0.9681 - val_loss: 0.0302 - val_accuracy: 0.9761\n",
            "Epoch 77/100\n",
            "1500/1500 [==============================] - 4s 3ms/step - loss: 0.0333 - accuracy: 0.9700 - val_loss: 0.0305 - val_accuracy: 0.9756\n",
            "Epoch 78/100\n",
            "1500/1500 [==============================] - 4s 3ms/step - loss: 0.0333 - accuracy: 0.9685 - val_loss: 0.0307 - val_accuracy: 0.9742\n",
            "Epoch 79/100\n",
            "1500/1500 [==============================] - 4s 3ms/step - loss: 0.0333 - accuracy: 0.9697 - val_loss: 0.0300 - val_accuracy: 0.9771\n",
            "Epoch 80/100\n",
            "1500/1500 [==============================] - 4s 3ms/step - loss: 0.0332 - accuracy: 0.9697 - val_loss: 0.0302 - val_accuracy: 0.9760\n",
            "Epoch 81/100\n",
            "1500/1500 [==============================] - 4s 3ms/step - loss: 0.0331 - accuracy: 0.9694 - val_loss: 0.0300 - val_accuracy: 0.9764\n",
            "Epoch 82/100\n",
            "1500/1500 [==============================] - 4s 3ms/step - loss: 0.0332 - accuracy: 0.9688 - val_loss: 0.0298 - val_accuracy: 0.9761\n",
            "Epoch 83/100\n",
            "1500/1500 [==============================] - 5s 3ms/step - loss: 0.0331 - accuracy: 0.9696 - val_loss: 0.0311 - val_accuracy: 0.9730\n",
            "Epoch 84/100\n",
            "1500/1500 [==============================] - 4s 3ms/step - loss: 0.0333 - accuracy: 0.9689 - val_loss: 0.0304 - val_accuracy: 0.9754\n",
            "Epoch 85/100\n",
            "1500/1500 [==============================] - 4s 3ms/step - loss: 0.0330 - accuracy: 0.9702 - val_loss: 0.0300 - val_accuracy: 0.9762\n",
            "Epoch 86/100\n",
            "1500/1500 [==============================] - 4s 3ms/step - loss: 0.0331 - accuracy: 0.9699 - val_loss: 0.0305 - val_accuracy: 0.9743\n",
            "Epoch 87/100\n",
            "1500/1500 [==============================] - 4s 3ms/step - loss: 0.0332 - accuracy: 0.9690 - val_loss: 0.0303 - val_accuracy: 0.9758\n",
            "Epoch 88/100\n",
            "1500/1500 [==============================] - 4s 3ms/step - loss: 0.0331 - accuracy: 0.9707 - val_loss: 0.0300 - val_accuracy: 0.9759\n",
            "Epoch 89/100\n",
            "1500/1500 [==============================] - 4s 3ms/step - loss: 0.0332 - accuracy: 0.9706 - val_loss: 0.0298 - val_accuracy: 0.9765\n",
            "Epoch 90/100\n",
            "1500/1500 [==============================] - 4s 3ms/step - loss: 0.0331 - accuracy: 0.9696 - val_loss: 0.0302 - val_accuracy: 0.9762\n",
            "Epoch 91/100\n",
            "1500/1500 [==============================] - 4s 3ms/step - loss: 0.0331 - accuracy: 0.9702 - val_loss: 0.0306 - val_accuracy: 0.9742\n",
            "Epoch 92/100\n",
            "1500/1500 [==============================] - 4s 3ms/step - loss: 0.0330 - accuracy: 0.9708 - val_loss: 0.0298 - val_accuracy: 0.9766\n",
            "Epoch 93/100\n",
            "1500/1500 [==============================] - 4s 3ms/step - loss: 0.0331 - accuracy: 0.9689 - val_loss: 0.0306 - val_accuracy: 0.9737\n",
            "Epoch 94/100\n",
            "1500/1500 [==============================] - 4s 3ms/step - loss: 0.0331 - accuracy: 0.9696 - val_loss: 0.0302 - val_accuracy: 0.9753\n",
            "Epoch 95/100\n",
            "1500/1500 [==============================] - 4s 3ms/step - loss: 0.0329 - accuracy: 0.9714 - val_loss: 0.0302 - val_accuracy: 0.9756\n",
            "Epoch 96/100\n",
            "1500/1500 [==============================] - 4s 3ms/step - loss: 0.0330 - accuracy: 0.9706 - val_loss: 0.0297 - val_accuracy: 0.9767\n",
            "Epoch 97/100\n",
            "1500/1500 [==============================] - 4s 3ms/step - loss: 0.0330 - accuracy: 0.9701 - val_loss: 0.0299 - val_accuracy: 0.9760\n",
            "Epoch 98/100\n",
            "1500/1500 [==============================] - 4s 3ms/step - loss: 0.0331 - accuracy: 0.9708 - val_loss: 0.0298 - val_accuracy: 0.9772\n",
            "Epoch 99/100\n",
            "1500/1500 [==============================] - 4s 3ms/step - loss: 0.0330 - accuracy: 0.9714 - val_loss: 0.0300 - val_accuracy: 0.9768\n",
            "Epoch 100/100\n",
            "1500/1500 [==============================] - 4s 3ms/step - loss: 0.0330 - accuracy: 0.9707 - val_loss: 0.0298 - val_accuracy: 0.9775\n"
          ],
          "name": "stdout"
        },
        {
          "output_type": "execute_result",
          "data": {
            "text/plain": [
              "<tensorflow.python.keras.callbacks.History at 0x7f7ca296e710>"
            ]
          },
          "metadata": {
            "tags": []
          },
          "execution_count": 40
        }
      ]
    },
    {
      "cell_type": "markdown",
      "metadata": {
        "id": "83t303B7ZIhm",
        "colab_type": "text"
      },
      "source": [
        "temperature = 1 > loss: 0.0106 - accuracy: 0.9670 - val_loss: 0.0084 - val_accuracy: 0.9753\n",
        "\n",
        "temperature = 3 > loss: 0.0350 - accuracy: 0.9672 - val_loss: 0.0321 - val_accuracy: 0.9725\n",
        "\n",
        "temperature = 5 > loss: 0.0967 - accuracy: 0.9610 - val_loss: 0.0930 - val_accuracy: 0.9697\n",
        "\n",
        "temperature = 7 > loss: 0.1481 - accuracy: 0.9581 - val_loss: 0.1462 - val_accuracy: 0.9645"
      ]
    },
    {
      "cell_type": "code",
      "metadata": {
        "id": "BvISPU4Atw1B",
        "colab_type": "code",
        "colab": {}
      },
      "source": [
        "assert student_model.layers[-1].activation == tf.keras.activations.linear\n",
        "config = student_model.layers[-1].get_config()"
      ],
      "execution_count": 43,
      "outputs": []
    },
    {
      "cell_type": "code",
      "metadata": {
        "id": "lJhtXy3Gw03E",
        "colab_type": "code",
        "colab": {}
      },
      "source": [
        "config['activation'] = tf.keras.activations.softmax"
      ],
      "execution_count": 48,
      "outputs": []
    },
    {
      "cell_type": "code",
      "metadata": {
        "id": "zyjP8is3wmCF",
        "colab_type": "code",
        "colab": {}
      },
      "source": [
        "weights = [x.numpy() for x in student_model.layers[-1].weights]"
      ],
      "execution_count": 46,
      "outputs": []
    },
    {
      "cell_type": "code",
      "metadata": {
        "id": "3swZ4Z_pxAIh",
        "colab_type": "code",
        "colab": {}
      },
      "source": [
        "new_layer = tf.keras.layers.Dense(**config)(student_model.layers[-2].output)\n",
        "new_model = tf.keras.Model(inputs=[student_model.input], outputs=[new_layer])\n",
        "new_model.layers[-1].set_weights(weights)\n",
        "\n",
        "assert new_model.layers[-1].activation == tf.keras.activations.softmax"
      ],
      "execution_count": 49,
      "outputs": []
    },
    {
      "cell_type": "code",
      "metadata": {
        "id": "osesSuoCxKnZ",
        "colab_type": "code",
        "colab": {}
      },
      "source": [
        "new_model.compile(optimizer='adam', loss='sparse_categorical_crossentropy',metrics=['accuracy'])"
      ],
      "execution_count": 50,
      "outputs": []
    },
    {
      "cell_type": "code",
      "metadata": {
        "id": "gf7AI8cnxRNR",
        "colab_type": "code",
        "colab": {
          "base_uri": "https://localhost:8080/",
          "height": 72
        },
        "outputId": "b01262a3-f113-44ea-e1ee-483071ba7a6c"
      },
      "source": [
        "test_loss, test_acc = new_model.evaluate(ds_test, batch_size=128)\n",
        "print(\"Test Loss:\", test_loss)\n",
        "print(\"Test Accuracy:\", test_acc)"
      ],
      "execution_count": 51,
      "outputs": [
        {
          "output_type": "stream",
          "text": [
            "79/79 [==============================] - 0s 2ms/step - loss: 0.0820 - accuracy: 0.9780\n",
            "Test Loss: 0.0819755271077156\n",
            "Test Accuracy: 0.9779999852180481\n"
          ],
          "name": "stdout"
        }
      ]
    },
    {
      "cell_type": "code",
      "metadata": {
        "id": "m0cF2iS5vvXT",
        "colab_type": "code",
        "colab": {}
      },
      "source": [
        "# from https://stackoverflow.com/a/58547262/5495698\n",
        "student_model.layers[-1].activation = tf.keras.activations.softmax"
      ],
      "execution_count": 52,
      "outputs": []
    },
    {
      "cell_type": "code",
      "metadata": {
        "id": "zjd8lLEtxW9q",
        "colab_type": "code",
        "colab": {}
      },
      "source": [
        "student_model.compile(optimizer='adam', loss='sparse_categorical_crossentropy',metrics=['accuracy'])"
      ],
      "execution_count": 53,
      "outputs": []
    },
    {
      "cell_type": "code",
      "metadata": {
        "id": "YcILYSmjw_Cy",
        "colab_type": "code",
        "colab": {
          "base_uri": "https://localhost:8080/",
          "height": 490
        },
        "outputId": "83fd8dfa-69a7-409f-e017-16eebcb8b487"
      },
      "source": [
        "student_model.summary()"
      ],
      "execution_count": 59,
      "outputs": [
        {
          "output_type": "stream",
          "text": [
            "Model: \"sequential_10\"\n",
            "_________________________________________________________________\n",
            "Layer (type)                 Output Shape              Param #   \n",
            "=================================================================\n",
            "reshape_10 (Reshape)         (None, 28, 28, 1)         0         \n",
            "_________________________________________________________________\n",
            "conv2d_24 (Conv2D)           (None, 13, 13, 64)        640       \n",
            "_________________________________________________________________\n",
            "batch_normalization_24 (Batc (None, 13, 13, 64)        256       \n",
            "_________________________________________________________________\n",
            "dropout_24 (Dropout)         (None, 13, 13, 64)        0         \n",
            "_________________________________________________________________\n",
            "conv2d_25 (Conv2D)           (None, 6, 6, 64)          36928     \n",
            "_________________________________________________________________\n",
            "batch_normalization_25 (Batc (None, 6, 6, 64)          256       \n",
            "_________________________________________________________________\n",
            "dropout_25 (Dropout)         (None, 6, 6, 64)          0         \n",
            "_________________________________________________________________\n",
            "global_average_pooling2d_10  (None, 64)                0         \n",
            "_________________________________________________________________\n",
            "dense_10 (Dense)             (None, 10)                650       \n",
            "=================================================================\n",
            "Total params: 38,730\n",
            "Trainable params: 38,474\n",
            "Non-trainable params: 256\n",
            "_________________________________________________________________\n"
          ],
          "name": "stdout"
        }
      ]
    },
    {
      "cell_type": "code",
      "metadata": {
        "id": "QU053TO8uOp1",
        "colab_type": "code",
        "colab": {
          "base_uri": "https://localhost:8080/",
          "height": 72
        },
        "outputId": "593fb91f-9ac2-4a0f-a4eb-57a134f94902"
      },
      "source": [
        "test_loss, test_acc = student_model.evaluate(ds_test, batch_size=128)\n",
        "print(\"Test Loss:\", test_loss)\n",
        "print(\"Test Accuracy:\", test_acc)"
      ],
      "execution_count": 54,
      "outputs": [
        {
          "output_type": "stream",
          "text": [
            "79/79 [==============================] - 0s 2ms/step - loss: 0.0820 - accuracy: 0.9780\n",
            "Test Loss: 0.0819755271077156\n",
            "Test Accuracy: 0.9779999852180481\n"
          ],
          "name": "stdout"
        }
      ]
    },
    {
      "cell_type": "code",
      "metadata": {
        "id": "pJZQVeMDnrIX",
        "colab_type": "code",
        "colab": {
          "base_uri": "https://localhost:8080/",
          "height": 72
        },
        "outputId": "7c5042b3-dfaf-4688-fcf4-ba6873860bf5"
      },
      "source": [
        "test_loss, test_acc = student_model.evaluate(np.asarray(test_images),np.asarray(test_labels))\n",
        "print(\"Test Loss:\", test_loss)\n",
        "print(\"Test Accuracy:\", test_acc)"
      ],
      "execution_count": 62,
      "outputs": [
        {
          "output_type": "stream",
          "text": [
            "313/313 [==============================] - 1s 2ms/step - loss: 0.1116 - accuracy: 0.9726\n",
            "Test Loss: 0.11164768040180206\n",
            "Test Accuracy: 0.972599983215332\n"
          ],
          "name": "stdout"
        }
      ]
    },
    {
      "cell_type": "code",
      "metadata": {
        "id": "FhfJlqsWd1Xk",
        "colab_type": "code",
        "colab": {}
      },
      "source": [
        ""
      ],
      "execution_count": null,
      "outputs": []
    }
  ]
}