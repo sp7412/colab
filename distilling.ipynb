{
  "nbformat": 4,
  "nbformat_minor": 0,
  "metadata": {
    "colab": {
      "name": "distilling.ipynb",
      "provenance": [],
      "authorship_tag": "ABX9TyNpT4fXQgKOkpeYmFtPEj6v",
      "include_colab_link": true
    },
    "kernelspec": {
      "name": "python3",
      "display_name": "Python 3"
    },
    "accelerator": "GPU"
  },
  "cells": [
    {
      "cell_type": "markdown",
      "metadata": {
        "id": "view-in-github",
        "colab_type": "text"
      },
      "source": [
        "<a href=\"https://colab.research.google.com/github/sp7412/colab/blob/master/distilling.ipynb\" target=\"_parent\"><img src=\"https://colab.research.google.com/assets/colab-badge.svg\" alt=\"Open In Colab\"/></a>"
      ]
    },
    {
      "cell_type": "code",
      "metadata": {
        "id": "LEp_Tb_HdhL5",
        "colab_type": "code",
        "colab": {}
      },
      "source": [
        "import tensorflow as tf\n",
        "import numpy as np\n",
        "\n",
        "from tensorflow.keras.datasets import mnist\n",
        "from tensorflow.keras import layers, models\n",
        "from tensorflow.keras.utils import to_categorical\n",
        "from tensorflow.keras.constraints import max_norm\n",
        "from tensorflow.keras.models import Model\n",
        "from tensorflow.keras.losses import categorical_crossentropy\n",
        "from tensorflow.keras.optimizers import RMSprop\n",
        "\n",
        "import matplotlib.pyplot as plt\n",
        "%matplotlib inline"
      ],
      "execution_count": null,
      "outputs": []
    },
    {
      "cell_type": "code",
      "metadata": {
        "id": "wSyhQF1zdmd0",
        "colab_type": "code",
        "colab": {}
      },
      "source": [
        "def load_mnist():\n",
        "  (x_train, y_train), (x_test, y_test) = mnist.load_data()\n",
        "  x_train = x_train.reshape(-1, 28, 28, 1).astype('float32') / 255.\n",
        "  x_test = x_test.reshape(-1, 28, 28, 1).astype('float32') / 255.\n",
        "\n",
        "  y_train = to_categorical(y_train.astype('float32'))\n",
        "  y_test = to_categorical(y_test.astype('float32'))\n",
        "\n",
        "  return (x_train, y_train), (x_test, y_test)"
      ],
      "execution_count": null,
      "outputs": []
    },
    {
      "cell_type": "code",
      "metadata": {
        "id": "T6-tiNkDdrZx",
        "colab_type": "code",
        "colab": {}
      },
      "source": [
        "def build_simple_model():\n",
        "  inputs = layers.Input(shape=(28, 28, 1))\n",
        "  x = layers.Conv2D(32, kernel_size=(3,3), activation='relu', name='Conv1')(inputs)\n",
        "  x = layers.Conv2D(64, kernel_size=(3,3), activation='relu', name='Conv2')(x)\n",
        "  \n",
        "  x = layers.MaxPooling2D(pool_size=(2,2), name='MaxPool')(x)\n",
        "  x = layers.Dropout(rate=0.25, name='Dropout1')(x)\n",
        "  \n",
        "  x = layers.Flatten(name='Flat')(x)\n",
        "  x = layers.Dense(128, activation='relu', name='FC1')(x)\n",
        "  x = layers.Dropout(rate=0.5, name='Dropout2')(x)\n",
        "  \n",
        "  x = layers.Dense(10, name='logits')(x)\n",
        "  preds = layers.Activation('softmax', name='Softmax')(x)\n",
        "  \n",
        "  model = Model(inputs=inputs, outputs=preds)\n",
        "  model.summary()\n",
        "  return model"
      ],
      "execution_count": null,
      "outputs": []
    },
    {
      "cell_type": "code",
      "metadata": {
        "id": "q7BzdTEKduJR",
        "colab_type": "code",
        "colab": {
          "base_uri": "https://localhost:8080/",
          "height": 526
        },
        "outputId": "6d78e41f-bda6-4295-e51e-b45834c92ecc"
      },
      "source": [
        "model = build_simple_model()"
      ],
      "execution_count": null,
      "outputs": [
        {
          "output_type": "stream",
          "text": [
            "Model: \"functional_1\"\n",
            "_________________________________________________________________\n",
            "Layer (type)                 Output Shape              Param #   \n",
            "=================================================================\n",
            "input_1 (InputLayer)         [(None, 28, 28, 1)]       0         \n",
            "_________________________________________________________________\n",
            "Conv1 (Conv2D)               (None, 26, 26, 32)        320       \n",
            "_________________________________________________________________\n",
            "Conv2 (Conv2D)               (None, 24, 24, 64)        18496     \n",
            "_________________________________________________________________\n",
            "MaxPool (MaxPooling2D)       (None, 12, 12, 64)        0         \n",
            "_________________________________________________________________\n",
            "Dropout1 (Dropout)           (None, 12, 12, 64)        0         \n",
            "_________________________________________________________________\n",
            "Flat (Flatten)               (None, 9216)              0         \n",
            "_________________________________________________________________\n",
            "FC1 (Dense)                  (None, 128)               1179776   \n",
            "_________________________________________________________________\n",
            "Dropout2 (Dropout)           (None, 128)               0         \n",
            "_________________________________________________________________\n",
            "logits (Dense)               (None, 10)                1290      \n",
            "_________________________________________________________________\n",
            "Softmax (Activation)         (None, 10)                0         \n",
            "=================================================================\n",
            "Total params: 1,199,882\n",
            "Trainable params: 1,199,882\n",
            "Non-trainable params: 0\n",
            "_________________________________________________________________\n"
          ],
          "name": "stdout"
        }
      ]
    },
    {
      "cell_type": "code",
      "metadata": {
        "id": "Ch6eDg6adwPB",
        "colab_type": "code",
        "colab": {
          "base_uri": "https://localhost:8080/",
          "height": 617
        },
        "outputId": "7893db3e-90fc-43b7-fe96-72f37110ddf1"
      },
      "source": [
        "(x_train, y_train), (x_test, y_test) = load_mnist()\n",
        "\n",
        "model.compile(optimizer='rmsprop', loss='categorical_crossentropy', metrics=['accuracy'])\n",
        "model.fit(x_train, y_train, epochs=15, batch_size=512)"
      ],
      "execution_count": null,
      "outputs": [
        {
          "output_type": "stream",
          "text": [
            "Downloading data from https://storage.googleapis.com/tensorflow/tf-keras-datasets/mnist.npz\n",
            "11493376/11490434 [==============================] - 0s 0us/step\n",
            "Epoch 1/15\n",
            "118/118 [==============================] - 3s 22ms/step - loss: 0.3612 - accuracy: 0.8881\n",
            "Epoch 2/15\n",
            "118/118 [==============================] - 3s 22ms/step - loss: 0.1047 - accuracy: 0.9685\n",
            "Epoch 3/15\n",
            "118/118 [==============================] - 3s 22ms/step - loss: 0.0724 - accuracy: 0.9786\n",
            "Epoch 4/15\n",
            "118/118 [==============================] - 3s 22ms/step - loss: 0.0579 - accuracy: 0.9829\n",
            "Epoch 5/15\n",
            "118/118 [==============================] - 3s 22ms/step - loss: 0.0489 - accuracy: 0.9852\n",
            "Epoch 6/15\n",
            "118/118 [==============================] - 3s 22ms/step - loss: 0.0432 - accuracy: 0.9872\n",
            "Epoch 7/15\n",
            "118/118 [==============================] - 3s 22ms/step - loss: 0.0384 - accuracy: 0.9881\n",
            "Epoch 8/15\n",
            "118/118 [==============================] - 3s 22ms/step - loss: 0.0332 - accuracy: 0.9895\n",
            "Epoch 9/15\n",
            "118/118 [==============================] - 3s 22ms/step - loss: 0.0320 - accuracy: 0.9901\n",
            "Epoch 10/15\n",
            "118/118 [==============================] - 3s 22ms/step - loss: 0.0297 - accuracy: 0.9903\n",
            "Epoch 11/15\n",
            "118/118 [==============================] - 3s 22ms/step - loss: 0.0270 - accuracy: 0.9918\n",
            "Epoch 12/15\n",
            "118/118 [==============================] - 3s 22ms/step - loss: 0.0256 - accuracy: 0.9921\n",
            "Epoch 13/15\n",
            "118/118 [==============================] - 3s 22ms/step - loss: 0.0229 - accuracy: 0.9928\n",
            "Epoch 14/15\n",
            "118/118 [==============================] - 3s 22ms/step - loss: 0.0219 - accuracy: 0.9929\n",
            "Epoch 15/15\n",
            "118/118 [==============================] - 3s 22ms/step - loss: 0.0205 - accuracy: 0.9936\n"
          ],
          "name": "stdout"
        },
        {
          "output_type": "execute_result",
          "data": {
            "text/plain": [
              "<tensorflow.python.keras.callbacks.History at 0x7fb620138d30>"
            ]
          },
          "metadata": {
            "tags": []
          },
          "execution_count": 8
        }
      ]
    },
    {
      "cell_type": "code",
      "metadata": {
        "id": "y70j-qHjd3zR",
        "colab_type": "code",
        "colab": {
          "base_uri": "https://localhost:8080/",
          "height": 72
        },
        "outputId": "aac6af90-77fb-4f0b-b61a-2abaa3ff6e54"
      },
      "source": [
        "test_loss, test_acc = model.evaluate(x_test, y_test)\n",
        "print(\"Test Loss:\", test_loss)\n",
        "print(\"Test Accuracy:\", test_acc)"
      ],
      "execution_count": null,
      "outputs": [
        {
          "output_type": "stream",
          "text": [
            "313/313 [==============================] - 1s 2ms/step - loss: 0.0291 - accuracy: 0.9920\n",
            "Test Loss: 0.029050899669528008\n",
            "Test Accuracy: 0.9919999837875366\n"
          ],
          "name": "stdout"
        }
      ]
    },
    {
      "cell_type": "code",
      "metadata": {
        "id": "EcWhCaw3eb2Y",
        "colab_type": "code",
        "colab": {}
      },
      "source": [
        "def softmax_with_temperature(logits, temperature=1):\n",
        "  logits = logits / temperature\n",
        "  return np.exp(logits) / np.sum(np.exp(logits))"
      ],
      "execution_count": null,
      "outputs": []
    },
    {
      "cell_type": "code",
      "metadata": {
        "id": "OOI2J7hheelI",
        "colab_type": "code",
        "colab": {}
      },
      "source": [
        "model_sans_softmax = Model(inputs=model.input, outputs=model.get_layer(\"logits\").output)\n",
        "model_logits = model_sans_softmax.predict(x_train)"
      ],
      "execution_count": null,
      "outputs": []
    },
    {
      "cell_type": "code",
      "metadata": {
        "id": "Rkbl46KSeg3I",
        "colab_type": "code",
        "colab": {}
      },
      "source": [
        "unsoftened_train_prob = softmax_with_temperature(model_logits, 1)"
      ],
      "execution_count": null,
      "outputs": []
    },
    {
      "cell_type": "code",
      "metadata": {
        "id": "3EhmllRvek5Y",
        "colab_type": "code",
        "colab": {}
      },
      "source": [
        "def build_small_model():\n",
        "  inputs = layers.Input(shape=(28, 28, 1))\n",
        "  x = layers.Flatten()(inputs)\n",
        "  x = layers.Dense(128, activation='relu', name='FC1')(x)\n",
        "  x = layers.Dense(128, activation='relu', name='FC2')(x)\n",
        "  x = layers.Dense(10, name='logits')(x)\n",
        "  preds = layers.Activation('softmax', name='Softmax')(x)\n",
        "\n",
        "  model = Model(inputs=inputs, outputs=preds)\n",
        "  model.summary()\n",
        "  return model"
      ],
      "execution_count": null,
      "outputs": []
    },
    {
      "cell_type": "code",
      "metadata": {
        "id": "Azbn-tuZeuHA",
        "colab_type": "code",
        "colab": {
          "base_uri": "https://localhost:8080/",
          "height": 381
        },
        "outputId": "1a1f5a4c-31ba-44d5-8df1-abec058d70c2"
      },
      "source": [
        "small_model = build_small_model()"
      ],
      "execution_count": null,
      "outputs": [
        {
          "output_type": "stream",
          "text": [
            "Model: \"functional_5\"\n",
            "_________________________________________________________________\n",
            "Layer (type)                 Output Shape              Param #   \n",
            "=================================================================\n",
            "input_2 (InputLayer)         [(None, 28, 28, 1)]       0         \n",
            "_________________________________________________________________\n",
            "flatten (Flatten)            (None, 784)               0         \n",
            "_________________________________________________________________\n",
            "FC1 (Dense)                  (None, 128)               100480    \n",
            "_________________________________________________________________\n",
            "FC2 (Dense)                  (None, 128)               16512     \n",
            "_________________________________________________________________\n",
            "logits (Dense)               (None, 10)                1290      \n",
            "_________________________________________________________________\n",
            "Softmax (Activation)         (None, 10)                0         \n",
            "=================================================================\n",
            "Total params: 118,282\n",
            "Trainable params: 118,282\n",
            "Non-trainable params: 0\n",
            "_________________________________________________________________\n"
          ],
          "name": "stdout"
        }
      ]
    },
    {
      "cell_type": "code",
      "metadata": {
        "id": "A69hH70Jev_i",
        "colab_type": "code",
        "colab": {
          "base_uri": "https://localhost:8080/",
          "height": 1000
        },
        "outputId": "9e3ef0ef-cd19-41a5-f7f3-cccf1ac5f677"
      },
      "source": [
        "small_model.compile(optimizer=RMSprop(lr=0.001), loss='categorical_crossentropy', metrics=['accuracy'])\n",
        "small_model.fit(x_train, y_train, epochs=50, batch_size=512)\n",
        "\n",
        "test_loss, test_acc = small_model.evaluate(x_test, y_test)\n",
        "print(\"Test Loss:\", test_loss)\n",
        "print(\"Test Accuracy:\", test_acc)"
      ],
      "execution_count": null,
      "outputs": [
        {
          "output_type": "stream",
          "text": [
            "Epoch 1/50\n",
            "118/118 [==============================] - 0s 3ms/step - loss: 0.4736 - accuracy: 0.8683\n",
            "Epoch 2/50\n",
            "118/118 [==============================] - 0s 3ms/step - loss: 0.2005 - accuracy: 0.9411\n",
            "Epoch 3/50\n",
            "118/118 [==============================] - 0s 3ms/step - loss: 0.1449 - accuracy: 0.9574\n",
            "Epoch 4/50\n",
            "118/118 [==============================] - 0s 3ms/step - loss: 0.1105 - accuracy: 0.9675\n",
            "Epoch 5/50\n",
            "118/118 [==============================] - 0s 3ms/step - loss: 0.0901 - accuracy: 0.9735\n",
            "Epoch 6/50\n",
            "118/118 [==============================] - 0s 3ms/step - loss: 0.0739 - accuracy: 0.9781\n",
            "Epoch 7/50\n",
            "118/118 [==============================] - 0s 3ms/step - loss: 0.0616 - accuracy: 0.9809\n",
            "Epoch 8/50\n",
            "118/118 [==============================] - 0s 3ms/step - loss: 0.0532 - accuracy: 0.9835\n",
            "Epoch 9/50\n",
            "118/118 [==============================] - 0s 3ms/step - loss: 0.0445 - accuracy: 0.9865\n",
            "Epoch 10/50\n",
            "118/118 [==============================] - 0s 3ms/step - loss: 0.0393 - accuracy: 0.9886\n",
            "Epoch 11/50\n",
            "118/118 [==============================] - 0s 3ms/step - loss: 0.0334 - accuracy: 0.9899\n",
            "Epoch 12/50\n",
            "118/118 [==============================] - 0s 3ms/step - loss: 0.0296 - accuracy: 0.9909\n",
            "Epoch 13/50\n",
            "118/118 [==============================] - 0s 3ms/step - loss: 0.0250 - accuracy: 0.9924\n",
            "Epoch 14/50\n",
            "118/118 [==============================] - 0s 3ms/step - loss: 0.0222 - accuracy: 0.9932\n",
            "Epoch 15/50\n",
            "118/118 [==============================] - 0s 3ms/step - loss: 0.0197 - accuracy: 0.9941\n",
            "Epoch 16/50\n",
            "118/118 [==============================] - 0s 3ms/step - loss: 0.0166 - accuracy: 0.9952\n",
            "Epoch 17/50\n",
            "118/118 [==============================] - 0s 3ms/step - loss: 0.0139 - accuracy: 0.9960\n",
            "Epoch 18/50\n",
            "118/118 [==============================] - 0s 3ms/step - loss: 0.0131 - accuracy: 0.9962\n",
            "Epoch 19/50\n",
            "118/118 [==============================] - 0s 3ms/step - loss: 0.0109 - accuracy: 0.9971\n",
            "Epoch 20/50\n",
            "118/118 [==============================] - 0s 3ms/step - loss: 0.0088 - accuracy: 0.9976\n",
            "Epoch 21/50\n",
            "118/118 [==============================] - 0s 3ms/step - loss: 0.0081 - accuracy: 0.9976\n",
            "Epoch 22/50\n",
            "118/118 [==============================] - 0s 3ms/step - loss: 0.0073 - accuracy: 0.9979\n",
            "Epoch 23/50\n",
            "118/118 [==============================] - 0s 3ms/step - loss: 0.0062 - accuracy: 0.9983\n",
            "Epoch 24/50\n",
            "118/118 [==============================] - 0s 3ms/step - loss: 0.0056 - accuracy: 0.9984\n",
            "Epoch 25/50\n",
            "118/118 [==============================] - 0s 3ms/step - loss: 0.0048 - accuracy: 0.9987\n",
            "Epoch 26/50\n",
            "118/118 [==============================] - 0s 3ms/step - loss: 0.0048 - accuracy: 0.9987\n",
            "Epoch 27/50\n",
            "118/118 [==============================] - 0s 3ms/step - loss: 0.0044 - accuracy: 0.9989\n",
            "Epoch 28/50\n",
            "118/118 [==============================] - 0s 3ms/step - loss: 0.0041 - accuracy: 0.9990\n",
            "Epoch 29/50\n",
            "118/118 [==============================] - 0s 3ms/step - loss: 0.0030 - accuracy: 0.9994\n",
            "Epoch 30/50\n",
            "118/118 [==============================] - 0s 3ms/step - loss: 0.0028 - accuracy: 0.9993\n",
            "Epoch 31/50\n",
            "118/118 [==============================] - 0s 3ms/step - loss: 0.0032 - accuracy: 0.9990\n",
            "Epoch 32/50\n",
            "118/118 [==============================] - 0s 3ms/step - loss: 0.0025 - accuracy: 0.9994\n",
            "Epoch 33/50\n",
            "118/118 [==============================] - 0s 3ms/step - loss: 0.0022 - accuracy: 0.9995\n",
            "Epoch 34/50\n",
            "118/118 [==============================] - 0s 3ms/step - loss: 0.0023 - accuracy: 0.9994\n",
            "Epoch 35/50\n",
            "118/118 [==============================] - 0s 3ms/step - loss: 0.0024 - accuracy: 0.9995\n",
            "Epoch 36/50\n",
            "118/118 [==============================] - 0s 3ms/step - loss: 0.0018 - accuracy: 0.9995\n",
            "Epoch 37/50\n",
            "118/118 [==============================] - 0s 3ms/step - loss: 0.0017 - accuracy: 0.9995\n",
            "Epoch 38/50\n",
            "118/118 [==============================] - 0s 3ms/step - loss: 0.0014 - accuracy: 0.9997\n",
            "Epoch 39/50\n",
            "118/118 [==============================] - 0s 3ms/step - loss: 0.0022 - accuracy: 0.9993\n",
            "Epoch 40/50\n",
            "118/118 [==============================] - 0s 3ms/step - loss: 0.0020 - accuracy: 0.9993\n",
            "Epoch 41/50\n",
            "118/118 [==============================] - 0s 3ms/step - loss: 0.0014 - accuracy: 0.9996\n",
            "Epoch 42/50\n",
            "118/118 [==============================] - 0s 3ms/step - loss: 0.0014 - accuracy: 0.9996\n",
            "Epoch 43/50\n",
            "118/118 [==============================] - 0s 3ms/step - loss: 0.0020 - accuracy: 0.9995\n",
            "Epoch 44/50\n",
            "118/118 [==============================] - 0s 3ms/step - loss: 0.0011 - accuracy: 0.9997\n",
            "Epoch 45/50\n",
            "118/118 [==============================] - 0s 3ms/step - loss: 0.0019 - accuracy: 0.9994\n",
            "Epoch 46/50\n",
            "118/118 [==============================] - 0s 3ms/step - loss: 6.1586e-04 - accuracy: 0.9998\n",
            "Epoch 47/50\n",
            "118/118 [==============================] - 0s 3ms/step - loss: 7.9782e-04 - accuracy: 0.9998\n",
            "Epoch 48/50\n",
            "118/118 [==============================] - 0s 3ms/step - loss: 0.0015 - accuracy: 0.9997\n",
            "Epoch 49/50\n",
            "118/118 [==============================] - 0s 3ms/step - loss: 0.0013 - accuracy: 0.9997\n",
            "Epoch 50/50\n",
            "118/118 [==============================] - 0s 3ms/step - loss: 0.0015 - accuracy: 0.9998\n",
            "313/313 [==============================] - 1s 2ms/step - loss: 0.1388 - accuracy: 0.9803\n",
            "Test Loss: 0.13884003460407257\n",
            "Test Accuracy: 0.9803000092506409\n"
          ],
          "name": "stdout"
        }
      ]
    },
    {
      "cell_type": "code",
      "metadata": {
        "id": "te1TGjaXgagT",
        "colab_type": "code",
        "colab": {}
      },
      "source": [
        "model_sans_softmax = Model(inputs=model.input, outputs=model.get_layer(\"logits\").output)\n",
        "model_logits = model_sans_softmax.predict(x_train)\n",
        "temperature = 4.0\n",
        "softened_train_prob = softmax_with_temperature(model_logits, temperature)"
      ],
      "execution_count": null,
      "outputs": []
    },
    {
      "cell_type": "code",
      "metadata": {
        "id": "ITZetM9NldrC",
        "colab_type": "code",
        "colab": {
          "base_uri": "https://localhost:8080/",
          "height": 381
        },
        "outputId": "08d4a569-b2e5-4d2b-fdbd-d1426bc9d97a"
      },
      "source": [
        "new_small_model = build_small_model()"
      ],
      "execution_count": null,
      "outputs": [
        {
          "output_type": "stream",
          "text": [
            "Model: \"functional_25\"\n",
            "_________________________________________________________________\n",
            "Layer (type)                 Output Shape              Param #   \n",
            "=================================================================\n",
            "input_7 (InputLayer)         [(None, 28, 28, 1)]       0         \n",
            "_________________________________________________________________\n",
            "flatten_5 (Flatten)          (None, 784)               0         \n",
            "_________________________________________________________________\n",
            "FC1 (Dense)                  (None, 128)               100480    \n",
            "_________________________________________________________________\n",
            "FC2 (Dense)                  (None, 128)               16512     \n",
            "_________________________________________________________________\n",
            "logits (Dense)               (None, 10)                1290      \n",
            "_________________________________________________________________\n",
            "Softmax (Activation)         (None, 10)                0         \n",
            "=================================================================\n",
            "Total params: 118,282\n",
            "Trainable params: 118,282\n",
            "Non-trainable params: 0\n",
            "_________________________________________________________________\n"
          ],
          "name": "stdout"
        }
      ]
    },
    {
      "cell_type": "code",
      "metadata": {
        "id": "bfGgVubkf4Ad",
        "colab_type": "code",
        "colab": {
          "base_uri": "https://localhost:8080/",
          "height": 417
        },
        "outputId": "acffbda2-cf3f-4a1c-e492-b93a51dda591"
      },
      "source": [
        "logits = new_small_model.get_layer('logits').output\n",
        "logits = layers.Lambda(lambda x: x / temperature, name='Temperature')(logits)\n",
        "preds = layers.Activation('softmax', name='Softmax')(logits)\n",
        "  \n",
        "new_small_model = Model(inputs=new_small_model.input, outputs=preds)\n",
        "new_small_model.summary()"
      ],
      "execution_count": null,
      "outputs": [
        {
          "output_type": "stream",
          "text": [
            "Model: \"functional_27\"\n",
            "_________________________________________________________________\n",
            "Layer (type)                 Output Shape              Param #   \n",
            "=================================================================\n",
            "input_7 (InputLayer)         [(None, 28, 28, 1)]       0         \n",
            "_________________________________________________________________\n",
            "flatten_5 (Flatten)          (None, 784)               0         \n",
            "_________________________________________________________________\n",
            "FC1 (Dense)                  (None, 128)               100480    \n",
            "_________________________________________________________________\n",
            "FC2 (Dense)                  (None, 128)               16512     \n",
            "_________________________________________________________________\n",
            "logits (Dense)               (None, 10)                1290      \n",
            "_________________________________________________________________\n",
            "Temperature (Lambda)         (None, 10)                0         \n",
            "_________________________________________________________________\n",
            "Softmax (Activation)         (None, 10)                0         \n",
            "=================================================================\n",
            "Total params: 118,282\n",
            "Trainable params: 118,282\n",
            "Non-trainable params: 0\n",
            "_________________________________________________________________\n"
          ],
          "name": "stdout"
        }
      ]
    },
    {
      "cell_type": "code",
      "metadata": {
        "id": "RyieZBAjgCmY",
        "colab_type": "code",
        "colab": {
          "base_uri": "https://localhost:8080/",
          "height": 1000
        },
        "outputId": "c828d883-258b-4853-b5c2-0caba77688fa"
      },
      "source": [
        "new_small_model.compile(optimizer=RMSprop(lr=0.03), loss='categorical_crossentropy', metrics=['accuracy'])\n",
        "new_small_model.fit(x_train, softened_train_prob, epochs=100, batch_size=512)\n",
        "\n",
        "test_loss, test_acc = new_small_model.evaluate(x_test, y_test)\n",
        "print(\"Test Loss:\", test_loss)\n",
        "print(\"Test Accuracy:\", test_acc)"
      ],
      "execution_count": null,
      "outputs": [
        {
          "output_type": "stream",
          "text": [
            "Epoch 1/100\n",
            "118/118 [==============================] - 0s 3ms/step - loss: 0.5913 - accuracy: 0.0984\n",
            "Epoch 2/100\n",
            "118/118 [==============================] - 0s 3ms/step - loss: 3.2234 - accuracy: 0.0995\n",
            "Epoch 3/100\n",
            "118/118 [==============================] - 0s 3ms/step - loss: 7.3755 - accuracy: 0.1021\n",
            "Epoch 4/100\n",
            "118/118 [==============================] - 0s 3ms/step - loss: 13.3597 - accuracy: 0.0995\n",
            "Epoch 5/100\n",
            "118/118 [==============================] - 0s 3ms/step - loss: 21.2360 - accuracy: 0.1022\n",
            "Epoch 6/100\n",
            "118/118 [==============================] - 0s 3ms/step - loss: 30.9339 - accuracy: 0.1001\n",
            "Epoch 7/100\n",
            "118/118 [==============================] - 0s 3ms/step - loss: 42.2653 - accuracy: 0.0975\n",
            "Epoch 8/100\n",
            "118/118 [==============================] - 0s 3ms/step - loss: 54.9498 - accuracy: 0.0995\n",
            "Epoch 9/100\n",
            "118/118 [==============================] - 0s 3ms/step - loss: 68.7000 - accuracy: 0.0998\n",
            "Epoch 10/100\n",
            "118/118 [==============================] - 0s 3ms/step - loss: 85.5446 - accuracy: 0.0995\n",
            "Epoch 11/100\n",
            "118/118 [==============================] - 0s 3ms/step - loss: 103.9665 - accuracy: 0.1014\n",
            "Epoch 12/100\n",
            "118/118 [==============================] - 0s 3ms/step - loss: 124.3984 - accuracy: 0.0992\n",
            "Epoch 13/100\n",
            "118/118 [==============================] - 0s 3ms/step - loss: 145.1180 - accuracy: 0.0990\n",
            "Epoch 14/100\n",
            "118/118 [==============================] - 0s 3ms/step - loss: 166.6490 - accuracy: 0.1004\n",
            "Epoch 15/100\n",
            "118/118 [==============================] - 0s 3ms/step - loss: 191.0422 - accuracy: 0.0996\n",
            "Epoch 16/100\n",
            "118/118 [==============================] - 0s 3ms/step - loss: 221.0934 - accuracy: 0.0985\n",
            "Epoch 17/100\n",
            "118/118 [==============================] - 0s 3ms/step - loss: 247.5682 - accuracy: 0.1023\n",
            "Epoch 18/100\n",
            "118/118 [==============================] - 0s 3ms/step - loss: 276.0682 - accuracy: 0.0981\n",
            "Epoch 19/100\n",
            "118/118 [==============================] - 0s 3ms/step - loss: 307.4041 - accuracy: 0.0989\n",
            "Epoch 20/100\n",
            "118/118 [==============================] - 0s 3ms/step - loss: 343.6398 - accuracy: 0.0997\n",
            "Epoch 21/100\n",
            "118/118 [==============================] - 0s 3ms/step - loss: 377.2647 - accuracy: 0.1018\n",
            "Epoch 22/100\n",
            "118/118 [==============================] - 0s 3ms/step - loss: 419.5515 - accuracy: 0.0997\n",
            "Epoch 23/100\n",
            "118/118 [==============================] - 0s 3ms/step - loss: 451.2150 - accuracy: 0.0979\n",
            "Epoch 24/100\n",
            "118/118 [==============================] - 0s 3ms/step - loss: 486.5996 - accuracy: 0.1022\n",
            "Epoch 25/100\n",
            "118/118 [==============================] - 0s 3ms/step - loss: 528.7539 - accuracy: 0.1000\n",
            "Epoch 26/100\n",
            "118/118 [==============================] - 0s 3ms/step - loss: 578.5942 - accuracy: 0.1002\n",
            "Epoch 27/100\n",
            "118/118 [==============================] - 0s 3ms/step - loss: 624.9675 - accuracy: 0.1006\n",
            "Epoch 28/100\n",
            "118/118 [==============================] - 0s 3ms/step - loss: 668.0378 - accuracy: 0.0970\n",
            "Epoch 29/100\n",
            "118/118 [==============================] - 0s 3ms/step - loss: 706.2062 - accuracy: 0.0995\n",
            "Epoch 30/100\n",
            "118/118 [==============================] - 0s 3ms/step - loss: 759.3807 - accuracy: 0.1012\n",
            "Epoch 31/100\n",
            "118/118 [==============================] - 0s 3ms/step - loss: 814.7278 - accuracy: 0.1010\n",
            "Epoch 32/100\n",
            "118/118 [==============================] - 0s 3ms/step - loss: 887.2906 - accuracy: 0.0999\n",
            "Epoch 33/100\n",
            "118/118 [==============================] - 0s 3ms/step - loss: 917.8575 - accuracy: 0.1024\n",
            "Epoch 34/100\n",
            "118/118 [==============================] - 0s 3ms/step - loss: 970.3489 - accuracy: 0.0991\n",
            "Epoch 35/100\n",
            "118/118 [==============================] - 0s 3ms/step - loss: 1035.1677 - accuracy: 0.1004\n",
            "Epoch 36/100\n",
            "118/118 [==============================] - 0s 3ms/step - loss: 1104.7013 - accuracy: 0.0986\n",
            "Epoch 37/100\n",
            "118/118 [==============================] - 0s 3ms/step - loss: 1162.7804 - accuracy: 0.0989\n",
            "Epoch 38/100\n",
            "118/118 [==============================] - 0s 3ms/step - loss: 1215.9565 - accuracy: 0.0996\n",
            "Epoch 39/100\n",
            "118/118 [==============================] - 0s 3ms/step - loss: 1278.3524 - accuracy: 0.0990\n",
            "Epoch 40/100\n",
            "118/118 [==============================] - 0s 3ms/step - loss: 1370.6049 - accuracy: 0.0978\n",
            "Epoch 41/100\n",
            "118/118 [==============================] - 0s 3ms/step - loss: 1438.5695 - accuracy: 0.1015\n",
            "Epoch 42/100\n",
            "118/118 [==============================] - 0s 4ms/step - loss: 1513.9480 - accuracy: 0.0995\n",
            "Epoch 43/100\n",
            "118/118 [==============================] - 0s 3ms/step - loss: 1558.5988 - accuracy: 0.0995\n",
            "Epoch 44/100\n",
            "118/118 [==============================] - 0s 3ms/step - loss: 1625.7502 - accuracy: 0.0977\n",
            "Epoch 45/100\n",
            "118/118 [==============================] - 0s 3ms/step - loss: 1714.1843 - accuracy: 0.1020\n",
            "Epoch 46/100\n",
            "118/118 [==============================] - 0s 3ms/step - loss: 1810.2832 - accuracy: 0.1001\n",
            "Epoch 47/100\n",
            "118/118 [==============================] - 0s 3ms/step - loss: 1891.4647 - accuracy: 0.0996\n",
            "Epoch 48/100\n",
            "118/118 [==============================] - 0s 3ms/step - loss: 1957.9702 - accuracy: 0.0989\n",
            "Epoch 49/100\n",
            "118/118 [==============================] - 0s 3ms/step - loss: 1991.2039 - accuracy: 0.1006\n",
            "Epoch 50/100\n",
            "118/118 [==============================] - 0s 3ms/step - loss: 2101.0789 - accuracy: 0.1007\n",
            "Epoch 51/100\n",
            "118/118 [==============================] - 0s 3ms/step - loss: 2228.6709 - accuracy: 0.1003\n",
            "Epoch 52/100\n",
            "118/118 [==============================] - 0s 3ms/step - loss: 2338.6702 - accuracy: 0.0999\n",
            "Epoch 53/100\n",
            "118/118 [==============================] - 0s 3ms/step - loss: 2391.2676 - accuracy: 0.0999\n",
            "Epoch 54/100\n",
            "118/118 [==============================] - 0s 3ms/step - loss: 2438.1128 - accuracy: 0.1016\n",
            "Epoch 55/100\n",
            "118/118 [==============================] - 0s 3ms/step - loss: 2533.4021 - accuracy: 0.1009\n",
            "Epoch 56/100\n",
            "118/118 [==============================] - 0s 3ms/step - loss: 2696.5762 - accuracy: 0.1009\n",
            "Epoch 57/100\n",
            "118/118 [==============================] - 0s 3ms/step - loss: 2789.6152 - accuracy: 0.0992\n",
            "Epoch 58/100\n",
            "118/118 [==============================] - 0s 3ms/step - loss: 2854.2747 - accuracy: 0.1017\n",
            "Epoch 59/100\n",
            "118/118 [==============================] - 0s 3ms/step - loss: 2881.8247 - accuracy: 0.1011\n",
            "Epoch 60/100\n",
            "118/118 [==============================] - 0s 3ms/step - loss: 3018.3330 - accuracy: 0.1008\n",
            "Epoch 61/100\n",
            "118/118 [==============================] - 0s 3ms/step - loss: 3172.6934 - accuracy: 0.0977\n",
            "Epoch 62/100\n",
            "118/118 [==============================] - 0s 3ms/step - loss: 3252.0635 - accuracy: 0.1010\n",
            "Epoch 63/100\n",
            "118/118 [==============================] - 0s 3ms/step - loss: 3346.9348 - accuracy: 0.0992\n",
            "Epoch 64/100\n",
            "118/118 [==============================] - 0s 3ms/step - loss: 3403.2515 - accuracy: 0.1007\n",
            "Epoch 65/100\n",
            "118/118 [==============================] - 0s 3ms/step - loss: 3575.0740 - accuracy: 0.1000\n",
            "Epoch 66/100\n",
            "118/118 [==============================] - 0s 4ms/step - loss: 3680.8984 - accuracy: 0.0987\n",
            "Epoch 67/100\n",
            "118/118 [==============================] - 0s 3ms/step - loss: 3828.4307 - accuracy: 0.0996\n",
            "Epoch 68/100\n",
            "118/118 [==============================] - 0s 3ms/step - loss: 3900.4048 - accuracy: 0.1001\n",
            "Epoch 69/100\n",
            "118/118 [==============================] - 0s 3ms/step - loss: 3946.8931 - accuracy: 0.1012\n",
            "Epoch 70/100\n",
            "118/118 [==============================] - 0s 3ms/step - loss: 4120.7988 - accuracy: 0.0996\n",
            "Epoch 71/100\n",
            "118/118 [==============================] - 0s 3ms/step - loss: 4256.7559 - accuracy: 0.1006\n",
            "Epoch 72/100\n",
            "118/118 [==============================] - 0s 3ms/step - loss: 4430.6768 - accuracy: 0.0975\n",
            "Epoch 73/100\n",
            "118/118 [==============================] - 0s 3ms/step - loss: 4442.3291 - accuracy: 0.1014\n",
            "Epoch 74/100\n",
            "118/118 [==============================] - 0s 3ms/step - loss: 4579.4209 - accuracy: 0.1001\n",
            "Epoch 75/100\n",
            "118/118 [==============================] - 0s 3ms/step - loss: 4668.8613 - accuracy: 0.0999\n",
            "Epoch 76/100\n",
            "118/118 [==============================] - 0s 3ms/step - loss: 4855.9844 - accuracy: 0.0989\n",
            "Epoch 77/100\n",
            "118/118 [==============================] - 0s 3ms/step - loss: 5053.0762 - accuracy: 0.1006\n",
            "Epoch 78/100\n",
            "118/118 [==============================] - 0s 3ms/step - loss: 5163.1079 - accuracy: 0.0996\n",
            "Epoch 79/100\n",
            "118/118 [==============================] - 0s 3ms/step - loss: 5209.3638 - accuracy: 0.1004\n",
            "Epoch 80/100\n",
            "118/118 [==============================] - 0s 3ms/step - loss: 5349.6138 - accuracy: 0.1019\n",
            "Epoch 81/100\n",
            "118/118 [==============================] - 0s 3ms/step - loss: 5516.5645 - accuracy: 0.1018\n",
            "Epoch 82/100\n",
            "118/118 [==============================] - 0s 3ms/step - loss: 5710.8428 - accuracy: 0.0995\n",
            "Epoch 83/100\n",
            "118/118 [==============================] - 0s 3ms/step - loss: 5774.7075 - accuracy: 0.1005\n",
            "Epoch 84/100\n",
            "118/118 [==============================] - 0s 3ms/step - loss: 5861.1675 - accuracy: 0.1015\n",
            "Epoch 85/100\n",
            "118/118 [==============================] - 0s 3ms/step - loss: 6098.8149 - accuracy: 0.1001\n",
            "Epoch 86/100\n",
            "118/118 [==============================] - 0s 3ms/step - loss: 6308.7686 - accuracy: 0.0991\n",
            "Epoch 87/100\n",
            "118/118 [==============================] - 0s 3ms/step - loss: 6435.1733 - accuracy: 0.0989\n",
            "Epoch 88/100\n",
            "118/118 [==============================] - 0s 3ms/step - loss: 6442.8438 - accuracy: 0.1009\n",
            "Epoch 89/100\n",
            "118/118 [==============================] - 0s 3ms/step - loss: 6670.4585 - accuracy: 0.1012\n",
            "Epoch 90/100\n",
            "118/118 [==============================] - 0s 3ms/step - loss: 6824.9204 - accuracy: 0.0983\n",
            "Epoch 91/100\n",
            "118/118 [==============================] - 0s 3ms/step - loss: 7060.4360 - accuracy: 0.1020\n",
            "Epoch 92/100\n",
            "118/118 [==============================] - 0s 4ms/step - loss: 7133.3276 - accuracy: 0.1001\n",
            "Epoch 93/100\n",
            "118/118 [==============================] - 0s 3ms/step - loss: 7300.9321 - accuracy: 0.0997\n",
            "Epoch 94/100\n",
            "118/118 [==============================] - 0s 4ms/step - loss: 7491.0815 - accuracy: 0.0985\n",
            "Epoch 95/100\n",
            "118/118 [==============================] - 0s 3ms/step - loss: 7631.3472 - accuracy: 0.0984\n",
            "Epoch 96/100\n",
            "118/118 [==============================] - 0s 3ms/step - loss: 7716.2588 - accuracy: 0.1008\n",
            "Epoch 97/100\n",
            "118/118 [==============================] - 0s 3ms/step - loss: 7963.9468 - accuracy: 0.1023\n",
            "Epoch 98/100\n",
            "118/118 [==============================] - 0s 3ms/step - loss: 8065.6880 - accuracy: 0.1011\n",
            "Epoch 99/100\n",
            "118/118 [==============================] - 0s 3ms/step - loss: 8200.9863 - accuracy: 0.1018\n",
            "Epoch 100/100\n",
            "118/118 [==============================] - 0s 3ms/step - loss: 8409.9951 - accuracy: 0.1015\n",
            "313/313 [==============================] - 1s 2ms/step - loss: 501037856.0000 - accuracy: 0.1010\n",
            "Test Loss: 501037856.0\n",
            "Test Accuracy: 0.10100000351667404\n"
          ],
          "name": "stdout"
        }
      ]
    },
    {
      "cell_type": "code",
      "metadata": {
        "id": "b0v3YtqKgN3I",
        "colab_type": "code",
        "colab": {}
      },
      "source": [
        ""
      ],
      "execution_count": null,
      "outputs": []
    }
  ]
}